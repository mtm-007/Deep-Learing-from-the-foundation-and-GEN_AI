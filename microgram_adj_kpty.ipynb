{
 "cells": [
  {
   "cell_type": "code",
   "execution_count": null,
   "id": "1c557e74",
   "metadata": {},
   "outputs": [],
   "source": [
    "import numpy as np\n",
    "import pandas as pd\n",
    "import matplotlib.pyplot as plt,math\n",
    "%matplotlib inline"
   ]
  },
  {
   "cell_type": "code",
   "execution_count": null,
   "id": "c95520cb",
   "metadata": {},
   "outputs": [],
   "source": [
    "def f(x):\n",
    "    return 4*x**2 + 5*x + 7"
   ]
  },
  {
   "cell_type": "code",
   "execution_count": null,
   "id": "1aad15ba",
   "metadata": {},
   "outputs": [
    {
     "data": {
      "text/plain": [
       "58"
      ]
     },
     "execution_count": null,
     "metadata": {},
     "output_type": "execute_result"
    }
   ],
   "source": [
    "f(3)"
   ]
  },
  {
   "cell_type": "code",
   "execution_count": null,
   "id": "a2f09980",
   "metadata": {},
   "outputs": [
    {
     "data": {
      "text/plain": [
       "[<matplotlib.lines.Line2D>]"
      ]
     },
     "execution_count": null,
     "metadata": {},
     "output_type": "execute_result"
    },
    {
     "data": {
      "image/png": "[encoded data removed]",
      "text/plain": [
       "<Figure size 640x480 with 1 Axes>"
      ]
     },
     "metadata": {},
     "output_type": "display_data"
    }
   ],
   "source": [
    "xz  = np.arange(-5, 5, 0.20)\n",
    "yz = f(xz)\n",
    "plt.plot(xz,yz)"
   ]
  },
  {
   "cell_type": "code",
   "execution_count": null,
   "id": "02a7c64d",
   "metadata": {},
   "outputs": [
    {
     "data": {
      "text/plain": [
       "29.00040000007209"
      ]
     },
     "execution_count": null,
     "metadata": {},
     "output_type": "execute_result"
    }
   ],
   "source": [
    "h= 1e-4\n",
    "x= 3.\n",
    "(f(x + h) -f(x))/h"
   ]
  },
  {
   "cell_type": "code",
   "execution_count": null,
   "id": "e8fddfd9",
   "metadata": {},
   "outputs": [
    {
     "name": "stdout",
     "output_type": "stream",
     "text": [
      "23.75\n"
     ]
    }
   ],
   "source": [
    "a = 2.5\n",
    "b = 3.5\n",
    "c = 15\n",
    "d = a*b+c\n",
    "print(d)"
   ]
  },
  {
   "cell_type": "code",
   "execution_count": null,
   "id": "96f99f68",
   "metadata": {},
   "outputs": [
    {
     "name": "stdout",
     "output_type": "stream",
     "text": [
      "d1 6.25\n",
      "d2 6.25001\n",
      "slope 0.9999999999621422\n"
     ]
    }
   ],
   "source": [
    "h = 0.00001\n",
    "\n",
    "#inputs\n",
    "a = 2.5\n",
    "b = -3.5\n",
    "c = 15\n",
    "\n",
    "d1 = a*b+c\n",
    "c += h\n",
    "d2 = a*b+c\n",
    "print('d1',d1)\n",
    "print('d2',d2)\n",
    "slope = (d2-d1)/h\n",
    "print('slope', slope)"
   ]
  },
  {
   "cell_type": "code",
   "execution_count": null,
   "id": "ed9c57be",
   "metadata": {},
   "outputs": [
    {
     "data": {
      "text/plain": [
       "Value(data=-8.0)"
      ]
     },
     "execution_count": null,
     "metadata": {},
     "output_type": "execute_result"
    }
   ],
   "source": [
    "class value:\n",
    "    def __init__(self,data,_children=(), _op = '', label =''):\n",
    "        self.data = data\n",
    "        self._prev = set(_children)\n",
    "        self.grad = 0.0\n",
    "        self._op = _op\n",
    "        self.label = label\n",
    "        \n",
    "    def __repr__(self):\n",
    "        return f'Value(data={self.data})'\n",
    "    \n",
    "    def __add__(self,other):\n",
    "        res = value(self.data + other.data, (self,other), '+')\n",
    "        return res\n",
    "    \n",
    "    def __mul__(self,other):\n",
    "        res = value(self.data * other.data, (self,other), '*')\n",
    "        return res\n",
    "    def tanh(self):\n",
    "        x = self.data\n",
    "        t = (math.exp(2*x)-1)/(math.exp(2*x)+1)\n",
    "        out = value(t, (self,), 'tanh')\n",
    "        return out\n",
    "        \n",
    "    def __floordiv__(self,other):\n",
    "        res = value(self.data // other.data, (self,other), '/')\n",
    "        return res\n",
    "    \n",
    "    \n",
    "a = value(4, label = 'a')\n",
    "b = value(-3, label = 'b')\n",
    "c = value(8, label = 'c')\n",
    "e = a*b; e.label = 'e'\n",
    "d = e + c; d.label='d'\n",
    "f = value(2.0, label = 'f')\n",
    "L = d * f; L.label= 'L'\n",
    "L"
   ]
  },
  {
   "cell_type": "code",
   "execution_count": null,
   "id": "f4d5dc10",
   "metadata": {},
   "outputs": [
    {
     "data": {
      "text/plain": [
       "{Value(data=-12), Value(data=8)}"
      ]
     },
     "execution_count": null,
     "metadata": {},
     "output_type": "execute_result"
    }
   ],
   "source": [
    "d._prev"
   ]
  },
  {
   "cell_type": "code",
   "execution_count": null,
   "id": "df741b5e",
   "metadata": {},
   "outputs": [
    {
     "data": {
      "text/plain": [
       "'+'"
      ]
     },
     "execution_count": null,
     "metadata": {},
     "output_type": "execute_result"
    }
   ],
   "source": [
    "d._op"
   ]
  },
  {
   "cell_type": "code",
   "execution_count": null,
   "id": "a73a57fa",
   "metadata": {},
   "outputs": [],
   "source": [
    "from graphviz import Digraph\n",
    "\n",
    "\n",
    "def trace(root):\n",
    "    # builds all the set of all nodes and edges in a graph\n",
    "    nodes,edges = set(), set()\n",
    "    def build(v):\n",
    "        if v not in nodes:\n",
    "            nodes.add(v)\n",
    "            for child in v._prev:\n",
    "                edges.add((child,v))\n",
    "                build(child)\n",
    "    build(root)\n",
    "    return nodes, edges\n",
    "\n",
    "def draw_dot(root):\n",
    "    dot = Digraph(format='svg', graph_attr={'rankdir': 'LR'}) #LR - Left to Right\n",
    "    \n",
    "    nodes, edges = trace(root)\n",
    "    for n in nodes:\n",
    "        uid = str(id(n))\n",
    "        # for any value in the graph, create a rectangular ('record') node\n",
    "        dot.node(name = uid, label = \"{ %s|data %.4f| grad %.4f}\" % (n.label,n.data,n.grad), shape = 'record')\n",
    "        if n._op:\n",
    "            # if this value is the result of some operation, create an op node for it\n",
    "            dot.node(name= uid + n._op, label = n._op)\n",
    "            # and connect this node to it\n",
    "            dot.edge(uid + n._op,uid)\n",
    "            \n",
    "    for n1, n2 in edges:\n",
    "        # connect n1 to the op node of n2\n",
    "        dot.edge(str(id(n1)), str(id(n2)) + n2._op)\n",
    "        \n",
    "    return dot    "
   ]
  },
  {
   "cell_type": "code",
   "execution_count": null,
   "id": "920872d7",
   "metadata": {},
   "outputs": [
    {
     "data": {
      "image/svg+xml": [
       "<?xml version=\"1.0\" encoding=\"UTF-8\" standalone=\"no\"?>\n",
       "<!DOCTYPE svg PUBLIC \"-//W3C//DTD SVG 1.1//EN\"\n",
       " \"http://www.w3.org/Graphics/SVG/1.1/DTD/svg11.dtd\">\n",
       "<!-- Generated by graphviz version 9.0.0 (20230911.1827)\n",
       " -->\n",
       "<!-- Pages: 1 -->\n",
       "<svg width=\"1147pt\" height=\"154pt\"\n",
       " viewBox=\"0.00 0.00 1146.50 154.00\" xmlns=\"http://www.w3.org/2000/svg\" xmlns:xlink=\"http://www.w3.org/1999/xlink\">\n",
       "<g id=\"graph0\" class=\"graph\" transform=\"scale(1 1) rotate(0) translate(4 150)\">\n",
       "<polygon fill=\"white\" stroke=\"none\" points=\"-4,4 -4,-150 1142.5,-150 1142.5,4 -4,4\"/>\n",
       "<!-- 5346647136 -->\n",
       "<g id=\"node1\" class=\"node\">\n",
       "<title>5346647136</title>\n",
       "<polygon fill=\"none\" stroke=\"black\" points=\"314.25,-27.5 314.25,-63.5 508.5,-63.5 508.5,-27.5 314.25,-27.5\"/>\n",
       "<text text-anchor=\"middle\" x=\"325.25\" y=\"-40.7\" font-family=\"Times,serif\" font-size=\"14.00\">e</text>\n",
       "<polyline fill=\"none\" stroke=\"black\" points=\"336.25,-28 336.25,-63.5\"/>\n",
       "<text text-anchor=\"middle\" x=\"381.75\" y=\"-40.7\" font-family=\"Times,serif\" font-size=\"14.00\">data &#45;12.0000</text>\n",
       "<polyline fill=\"none\" stroke=\"black\" points=\"427.25,-28 427.25,-63.5\"/>\n",
       "<text text-anchor=\"middle\" x=\"467.88\" y=\"-40.7\" font-family=\"Times,serif\" font-size=\"14.00\">grad 2.0000</text>\n",
       "</g>\n",
       "<!-- 5346652896+ -->\n",
       "<g id=\"node6\" class=\"node\">\n",
       "<title>5346652896+</title>\n",
       "<ellipse fill=\"none\" stroke=\"black\" cx=\"571.5\" cy=\"-72.5\" rx=\"27\" ry=\"18\"/>\n",
       "<text text-anchor=\"middle\" x=\"571.5\" y=\"-67.45\" font-family=\"Times,serif\" font-size=\"14.00\">+</text>\n",
       "</g>\n",
       "<!-- 5346647136&#45;&gt;5346652896+ -->\n",
       "<g id=\"edge9\" class=\"edge\">\n",
       "<title>5346647136&#45;&gt;5346652896+</title>\n",
       "<path fill=\"none\" stroke=\"black\" d=\"M508.91,-61.98C517.6,-63.47 526,-64.9 533.65,-66.21\"/>\n",
       "<polygon fill=\"black\" stroke=\"black\" points=\"533.05,-69.66 543.5,-67.89 534.23,-62.76 533.05,-69.66\"/>\n",
       "</g>\n",
       "<!-- 5346647136* -->\n",
       "<g id=\"node2\" class=\"node\">\n",
       "<title>5346647136*</title>\n",
       "<ellipse fill=\"none\" stroke=\"black\" cx=\"251.25\" cy=\"-45.5\" rx=\"27\" ry=\"18\"/>\n",
       "<text text-anchor=\"middle\" x=\"251.25\" y=\"-40.45\" font-family=\"Times,serif\" font-size=\"14.00\">*</text>\n",
       "</g>\n",
       "<!-- 5346647136*&#45;&gt;5346647136 -->\n",
       "<g id=\"edge1\" class=\"edge\">\n",
       "<title>5346647136*&#45;&gt;5346647136</title>\n",
       "<path fill=\"none\" stroke=\"black\" d=\"M278.72,-45.5C285.83,-45.5 293.97,-45.5 302.65,-45.5\"/>\n",
       "<polygon fill=\"black\" stroke=\"black\" points=\"302.38,-49 312.38,-45.5 302.38,-42 302.38,-49\"/>\n",
       "</g>\n",
       "<!-- 5346652800 -->\n",
       "<g id=\"node3\" class=\"node\">\n",
       "<title>5346652800</title>\n",
       "<polygon fill=\"none\" stroke=\"black\" points=\"948.75,-81.5 948.75,-117.5 1138.5,-117.5 1138.5,-81.5 948.75,-81.5\"/>\n",
       "<text text-anchor=\"middle\" x=\"960.88\" y=\"-94.7\" font-family=\"Times,serif\" font-size=\"14.00\">L</text>\n",
       "<polyline fill=\"none\" stroke=\"black\" points=\"973,-82 973,-117.5\"/>\n",
       "<text text-anchor=\"middle\" x=\"1015.12\" y=\"-94.7\" font-family=\"Times,serif\" font-size=\"14.00\">data &#45;8.0000</text>\n",
       "<polyline fill=\"none\" stroke=\"black\" points=\"1057.25,-82 1057.25,-117.5\"/>\n",
       "<text text-anchor=\"middle\" x=\"1097.88\" y=\"-94.7\" font-family=\"Times,serif\" font-size=\"14.00\">grad 1.0000</text>\n",
       "</g>\n",
       "<!-- 5346652800* -->\n",
       "<g id=\"node4\" class=\"node\">\n",
       "<title>5346652800*</title>\n",
       "<ellipse fill=\"none\" stroke=\"black\" cx=\"885.75\" cy=\"-99.5\" rx=\"27\" ry=\"18\"/>\n",
       "<text text-anchor=\"middle\" x=\"885.75\" y=\"-94.45\" font-family=\"Times,serif\" font-size=\"14.00\">*</text>\n",
       "</g>\n",
       "<!-- 5346652800*&#45;&gt;5346652800 -->\n",
       "<g id=\"edge2\" class=\"edge\">\n",
       "<title>5346652800*&#45;&gt;5346652800</title>\n",
       "<path fill=\"none\" stroke=\"black\" d=\"M913.19,-99.5C920.34,-99.5 928.53,-99.5 937.24,-99.5\"/>\n",
       "<polygon fill=\"black\" stroke=\"black\" points=\"937.01,-103 947.01,-99.5 937.01,-96 937.01,-103\"/>\n",
       "</g>\n",
       "<!-- 5346652896 -->\n",
       "<g id=\"node5\" class=\"node\">\n",
       "<title>5346652896</title>\n",
       "<polygon fill=\"none\" stroke=\"black\" points=\"634.5,-54.5 634.5,-90.5 822.75,-90.5 822.75,-54.5 634.5,-54.5\"/>\n",
       "<text text-anchor=\"middle\" x=\"645.88\" y=\"-67.7\" font-family=\"Times,serif\" font-size=\"14.00\">d</text>\n",
       "<polyline fill=\"none\" stroke=\"black\" points=\"657.25,-55 657.25,-90.5\"/>\n",
       "<text text-anchor=\"middle\" x=\"699.38\" y=\"-67.7\" font-family=\"Times,serif\" font-size=\"14.00\">data &#45;4.0000</text>\n",
       "<polyline fill=\"none\" stroke=\"black\" points=\"741.5,-55 741.5,-90.5\"/>\n",
       "<text text-anchor=\"middle\" x=\"782.12\" y=\"-67.7\" font-family=\"Times,serif\" font-size=\"14.00\">grad 2.0000</text>\n",
       "</g>\n",
       "<!-- 5346652896&#45;&gt;5346652800* -->\n",
       "<g id=\"edge5\" class=\"edge\">\n",
       "<title>5346652896&#45;&gt;5346652800*</title>\n",
       "<path fill=\"none\" stroke=\"black\" d=\"M822.99,-88.75C831.77,-90.28 840.27,-91.76 848.01,-93.1\"/>\n",
       "<polygon fill=\"black\" stroke=\"black\" points=\"847.16,-96.51 857.61,-94.78 848.36,-89.61 847.16,-96.51\"/>\n",
       "</g>\n",
       "<!-- 5346652896+&#45;&gt;5346652896 -->\n",
       "<g id=\"edge3\" class=\"edge\">\n",
       "<title>5346652896+&#45;&gt;5346652896</title>\n",
       "<path fill=\"none\" stroke=\"black\" d=\"M598.81,-72.5C605.99,-72.5 614.22,-72.5 622.97,-72.5\"/>\n",
       "<polygon fill=\"black\" stroke=\"black\" points=\"622.79,-76 632.79,-72.5 622.79,-69 622.79,-76\"/>\n",
       "</g>\n",
       "<!-- 5346646752 -->\n",
       "<g id=\"node7\" class=\"node\">\n",
       "<title>5346646752</title>\n",
       "<polygon fill=\"none\" stroke=\"black\" points=\"635.62,-109.5 635.62,-145.5 821.62,-145.5 821.62,-109.5 635.62,-109.5\"/>\n",
       "<text text-anchor=\"middle\" x=\"645.88\" y=\"-122.7\" font-family=\"Times,serif\" font-size=\"14.00\">f</text>\n",
       "<polyline fill=\"none\" stroke=\"black\" points=\"656.12,-110 656.12,-145.5\"/>\n",
       "<text text-anchor=\"middle\" x=\"696\" y=\"-122.7\" font-family=\"Times,serif\" font-size=\"14.00\">data 2.0000</text>\n",
       "<polyline fill=\"none\" stroke=\"black\" points=\"735.88,-110 735.88,-145.5\"/>\n",
       "<text text-anchor=\"middle\" x=\"778.75\" y=\"-122.7\" font-family=\"Times,serif\" font-size=\"14.00\">grad &#45;4.0000</text>\n",
       "</g>\n",
       "<!-- 5346646752&#45;&gt;5346652800* -->\n",
       "<g id=\"edge7\" class=\"edge\">\n",
       "<title>5346646752&#45;&gt;5346652800*</title>\n",
       "<path fill=\"none\" stroke=\"black\" d=\"M822.1,-110.81C831.26,-109.16 840.12,-107.56 848.17,-106.1\"/>\n",
       "<polygon fill=\"black\" stroke=\"black\" points=\"848.59,-109.58 857.81,-104.36 847.34,-102.7 848.59,-109.58\"/>\n",
       "</g>\n",
       "<!-- 5324372192 -->\n",
       "<g id=\"node8\" class=\"node\">\n",
       "<title>5324372192</title>\n",
       "<polygon fill=\"none\" stroke=\"black\" points=\"0,-55.5 0,-91.5 188.25,-91.5 188.25,-55.5 0,-55.5\"/>\n",
       "<text text-anchor=\"middle\" x=\"11.38\" y=\"-68.7\" font-family=\"Times,serif\" font-size=\"14.00\">b</text>\n",
       "<polyline fill=\"none\" stroke=\"black\" points=\"22.75,-56 22.75,-91.5\"/>\n",
       "<text text-anchor=\"middle\" x=\"64.88\" y=\"-68.7\" font-family=\"Times,serif\" font-size=\"14.00\">data &#45;3.0000</text>\n",
       "<polyline fill=\"none\" stroke=\"black\" points=\"107,-56 107,-91.5\"/>\n",
       "<text text-anchor=\"middle\" x=\"147.62\" y=\"-68.7\" font-family=\"Times,serif\" font-size=\"14.00\">grad 8.0000</text>\n",
       "</g>\n",
       "<!-- 5324372192&#45;&gt;5346647136* -->\n",
       "<g id=\"edge4\" class=\"edge\">\n",
       "<title>5324372192&#45;&gt;5346647136*</title>\n",
       "<path fill=\"none\" stroke=\"black\" d=\"M188.49,-56.65C197.36,-55.05 205.93,-53.5 213.73,-52.09\"/>\n",
       "<polygon fill=\"black\" stroke=\"black\" points=\"214.2,-55.56 223.42,-50.34 212.95,-48.68 214.2,-55.56\"/>\n",
       "</g>\n",
       "<!-- 5346652464 -->\n",
       "<g id=\"node9\" class=\"node\">\n",
       "<title>5346652464</title>\n",
       "<polygon fill=\"none\" stroke=\"black\" points=\"319.88,-82.5 319.88,-118.5 502.88,-118.5 502.88,-82.5 319.88,-82.5\"/>\n",
       "<text text-anchor=\"middle\" x=\"330.88\" y=\"-95.7\" font-family=\"Times,serif\" font-size=\"14.00\">c</text>\n",
       "<polyline fill=\"none\" stroke=\"black\" points=\"341.88,-83 341.88,-118.5\"/>\n",
       "<text text-anchor=\"middle\" x=\"381.75\" y=\"-95.7\" font-family=\"Times,serif\" font-size=\"14.00\">data 8.0000</text>\n",
       "<polyline fill=\"none\" stroke=\"black\" points=\"421.62,-83 421.62,-118.5\"/>\n",
       "<text text-anchor=\"middle\" x=\"462.25\" y=\"-95.7\" font-family=\"Times,serif\" font-size=\"14.00\">grad 2.0000</text>\n",
       "</g>\n",
       "<!-- 5346652464&#45;&gt;5346652896+ -->\n",
       "<g id=\"edge8\" class=\"edge\">\n",
       "<title>5346652464&#45;&gt;5346652896+</title>\n",
       "<path fill=\"none\" stroke=\"black\" d=\"M502.98,-84.46C513.85,-82.53 524.42,-80.66 533.85,-78.99\"/>\n",
       "<polygon fill=\"black\" stroke=\"black\" points=\"534.39,-82.45 543.63,-77.26 533.17,-75.56 534.39,-82.45\"/>\n",
       "</g>\n",
       "<!-- 5324360672 -->\n",
       "<g id=\"node10\" class=\"node\">\n",
       "<title>5324360672</title>\n",
       "<polygon fill=\"none\" stroke=\"black\" points=\"0.38,-0.5 0.38,-36.5 187.88,-36.5 187.88,-0.5 0.38,-0.5\"/>\n",
       "<text text-anchor=\"middle\" x=\"11.38\" y=\"-13.7\" font-family=\"Times,serif\" font-size=\"14.00\">a</text>\n",
       "<polyline fill=\"none\" stroke=\"black\" points=\"22.38,-1 22.38,-36.5\"/>\n",
       "<text text-anchor=\"middle\" x=\"62.25\" y=\"-13.7\" font-family=\"Times,serif\" font-size=\"14.00\">data 4.0000</text>\n",
       "<polyline fill=\"none\" stroke=\"black\" points=\"102.12,-1 102.12,-36.5\"/>\n",
       "<text text-anchor=\"middle\" x=\"145\" y=\"-13.7\" font-family=\"Times,serif\" font-size=\"14.00\">grad &#45;6.0000</text>\n",
       "</g>\n",
       "<!-- 5324360672&#45;&gt;5346647136* -->\n",
       "<g id=\"edge6\" class=\"edge\">\n",
       "<title>5324360672&#45;&gt;5346647136*</title>\n",
       "<path fill=\"none\" stroke=\"black\" d=\"M188.05,-34.67C196.96,-36.22 205.59,-37.73 213.44,-39.09\"/>\n",
       "<polygon fill=\"black\" stroke=\"black\" points=\"212.76,-42.53 223.21,-40.79 213.96,-35.63 212.76,-42.53\"/>\n",
       "</g>\n",
       "</g>\n",
       "</svg>\n"
      ],
      "text/plain": [
       "<graphviz.graphs.Digraph>"
      ]
     },
     "execution_count": null,
     "metadata": {},
     "output_type": "execute_result"
    }
   ],
   "source": [
    "draw_dot(L)"
   ]
  },
  {
   "cell_type": "markdown",
   "id": "43a8c9af",
   "metadata": {},
   "source": [
    "#### Here we are going to calcualte gradients manually, with the derivative eq\n",
    "- L = d*f\n",
    "- dL/dd -> f\n",
    "\n",
    "- (f(x+h) - f(x))/h\n",
    "\n",
    "- ((d+h)*f - (d*f))/h\n",
    "- (d*f+h*f - d*f)/h\n",
    "- (h*f)/h \n",
    "- f"
   ]
  },
  {
   "cell_type": "markdown",
   "id": "941048d3",
   "metadata": {},
   "source": [
    "dd/dc = 1.\n",
    "dd/de = 1.\n",
    "d = c + e\n",
    "\n",
    "(f(x+h)-f(x))/h\n",
    "((c+h+e) - (c+e))/h\n",
    "(c+h+e-c-e)/h\n",
    "h/h\n",
    "1.0\n",
    "\n",
    "want:\n",
    "dL/dc = (dL/dd)*(dd/dc) # chain rule\n",
    "know:\n",
    "dL/dd\n",
    "dd/dc\n",
    "\n",
    "dL/de = 2.0\n",
    "de/da = b, de/db = a # those are the local gradients\n",
    "dL/da = (dL/de)*(de/da)\n"
   ]
  },
  {
   "cell_type": "code",
   "execution_count": null,
   "id": "07cfc4ed",
   "metadata": {},
   "outputs": [
    {
     "name": "stdout",
     "output_type": "stream",
     "text": [
      "-5.720064000000001\n"
     ]
    }
   ],
   "source": [
    "#one step of optimazation, we mult the grad by a small amount to optimize\n",
    "a.data += a.grad * 0.01\n",
    "b.data += b.grad * 0.01\n",
    "c.data += c.grad * 0.01\n",
    "f.data += f.grad * 0.01\n",
    "\n",
    "e = a*b\n",
    "d = e+ c\n",
    "L = d*f\n",
    "print(L.data)"
   ]
  },
  {
   "cell_type": "code",
   "execution_count": null,
   "id": "6e1d4ceb",
   "metadata": {},
   "outputs": [],
   "source": [
    "L.grad = 1.0\n",
    "d.grad = 2.0\n",
    "f.grad = -4.0\n",
    "c.grad = 2.\n",
    "e.grad = 2.\n",
    "a.grad = -6\n",
    "b.grad = 8\n"
   ]
  },
  {
   "cell_type": "code",
   "execution_count": null,
   "id": "bb72395d",
   "metadata": {},
   "outputs": [
    {
     "name": "stdout",
     "output_type": "stream",
     "text": [
      "0.0\n"
     ]
    }
   ],
   "source": [
    "def lol():\n",
    "    #to check and verify our backpropagation results\n",
    "    h =0.0001\n",
    "    a = value(4, label = 'a')\n",
    "    b = value(-3, label = 'b')\n",
    "    c = value(8, label = 'c')\n",
    "    e = a*b; e.label = 'e'\n",
    "    d = e+ c; d.label='d'\n",
    "    f = value(2.0, label = 'f')\n",
    "    L = d*f; L.label= 'L'\n",
    "    L1 = L.data\n",
    "    \n",
    "    a = value(4 , label = 'a')\n",
    "    #a.data +=h if we add some value of h to a then derivative of DL/da will be the value of dL/da=(dL/de)*(de/da)=(2.* -3.) (chain rule), which is -6.0\n",
    "    e = a*b; e.label = 'e'\n",
    "    b = value(-3, label = 'b')\n",
    "    #b.data +=h if we add some value of h to b then derivative of DL/db will be the value of dL/db=(dL/de)*(de/db)=(2.* 4.) (chain rule), which is 8.0\n",
    "    c = value(8, label = 'c')\n",
    "    #c.data +=h if we add some value of h to c then derivative of DL/dc will be the value of dL/dc=(dL/dd)*(dd/dc) (chain rule), which is 2.0\n",
    "    e = a*b; e.label = 'e'\n",
    "    #e.data +=h  if we add some value of h to e then derivative of DL/de will be the value of dL/de=(dL/dd)*(dd/de) (chain rule), which is 2.0\n",
    "    d = e+ c; d.label='d'\n",
    "    #d.data +=h if we add some value of h to d then derivative of DL/dd will be the value of f, which is 2.0\n",
    "    f = value(2.0, label = 'f')\n",
    "    #f.data +=h if we add some value of h to f then derivative of DL/df will be the value of d, which is -4.0\n",
    "    L = d*f; L.label= 'L'\n",
    "    L2 = L.data \n",
    "    \n",
    "    print((L2 - L1)/h)\n",
    "    \n",
    "lol()"
   ]
  },
  {
   "cell_type": "code",
   "execution_count": null,
   "id": "85356471",
   "metadata": {},
   "outputs": [
    {
     "data": {
      "image/png": "[encoded data removed]",
      "text/plain": [
       "<Figure size 640x480 with 1 Axes>"
      ]
     },
     "metadata": {},
     "output_type": "display_data"
    }
   ],
   "source": [
    "plt.plot(np.arange(-5,5,0.2), np.tanh(np.arange(-5,5,0.2)));plt.grid()"
   ]
  },
  {
   "cell_type": "code",
   "execution_count": null,
   "id": "568b435b",
   "metadata": {},
   "outputs": [],
   "source": [
    "#inputs\n",
    "x1 = value(2.0, label = 'x1')\n",
    "x2 = value(0.0, label = 'x2')\n",
    "#weights\n",
    "w1 = value(-3.0, label = 'w1')\n",
    "w2 = value(1.0, label = 'w2')\n",
    "#bias\n",
    "b = value(6.8813735870195432, label = 'b')\n",
    "\n",
    "x1w1 = x1*w1; x1w1.label = 'x1w1'\n",
    "x2w2 = x2*w2; x2w2.label = 'x2w2'\n",
    "x1w1x2w2 = x1w1 + x2w2; x1w1x2w2.label = 'x1w1 + x2w2'\n",
    "n = x1w1x2w2 + b; n.label = 'n'\n",
    "o = n.tanh(); o.label = 'o'"
   ]
  },
  {
   "cell_type": "code",
   "execution_count": null,
   "id": "e728ea9b",
   "metadata": {},
   "outputs": [
    {
     "data": {
      "image/svg+xml": [
       "<?xml version=\"1.0\" encoding=\"UTF-8\" standalone=\"no\"?>\n",
       "<!DOCTYPE svg PUBLIC \"-//W3C//DTD SVG 1.1//EN\"\n",
       " \"http://www.w3.org/Graphics/SVG/1.1/DTD/svg11.dtd\">\n",
       "<!-- Generated by graphviz version 9.0.0 (20230911.1827)\n",
       " -->\n",
       "<!-- Pages: 1 -->\n",
       "<svg width=\"1546pt\" height=\"210pt\"\n",
       " viewBox=\"0.00 0.00 1546.25 210.00\" xmlns=\"http://www.w3.org/2000/svg\" xmlns:xlink=\"http://www.w3.org/1999/xlink\">\n",
       "<g id=\"graph0\" class=\"graph\" transform=\"scale(1 1) rotate(0) translate(4 206)\">\n",
       "<polygon fill=\"white\" stroke=\"none\" points=\"-4,4 -4,-206 1542.25,-206 1542.25,4 -4,4\"/>\n",
       "<!-- 5521949696 -->\n",
       "<g id=\"node1\" class=\"node\">\n",
       "<title>5521949696</title>\n",
       "<polygon fill=\"none\" stroke=\"black\" points=\"324,-55.5 324,-91.5 535.5,-91.5 535.5,-55.5 324,-55.5\"/>\n",
       "<text text-anchor=\"middle\" x=\"347\" y=\"-68.7\" font-family=\"Times,serif\" font-size=\"14.00\">x1w1</text>\n",
       "<polyline fill=\"none\" stroke=\"black\" points=\"370,-56 370,-91.5\"/>\n",
       "<text text-anchor=\"middle\" x=\"412.12\" y=\"-68.7\" font-family=\"Times,serif\" font-size=\"14.00\">data &#45;6.0000</text>\n",
       "<polyline fill=\"none\" stroke=\"black\" points=\"454.25,-56 454.25,-91.5\"/>\n",
       "<text text-anchor=\"middle\" x=\"494.88\" y=\"-68.7\" font-family=\"Times,serif\" font-size=\"14.00\">grad 0.0000</text>\n",
       "</g>\n",
       "<!-- 5521951472+ -->\n",
       "<g id=\"node8\" class=\"node\">\n",
       "<title>5521951472+</title>\n",
       "<ellipse fill=\"none\" stroke=\"black\" cx=\"598.5\" cy=\"-100.5\" rx=\"27\" ry=\"18\"/>\n",
       "<text text-anchor=\"middle\" x=\"598.5\" y=\"-95.45\" font-family=\"Times,serif\" font-size=\"14.00\">+</text>\n",
       "</g>\n",
       "<!-- 5521949696&#45;&gt;5521951472+ -->\n",
       "<g id=\"edge10\" class=\"edge\">\n",
       "<title>5521949696&#45;&gt;5521951472+</title>\n",
       "<path fill=\"none\" stroke=\"black\" d=\"M535.88,-90.52C544.59,-91.93 552.96,-93.29 560.56,-94.52\"/>\n",
       "<polygon fill=\"black\" stroke=\"black\" points=\"559.91,-97.96 570.34,-96.1 561.03,-91.05 559.91,-97.96\"/>\n",
       "</g>\n",
       "<!-- 5521949696* -->\n",
       "<g id=\"node2\" class=\"node\">\n",
       "<title>5521949696*</title>\n",
       "<ellipse fill=\"none\" stroke=\"black\" cx=\"261\" cy=\"-73.5\" rx=\"27\" ry=\"18\"/>\n",
       "<text text-anchor=\"middle\" x=\"261\" y=\"-68.45\" font-family=\"Times,serif\" font-size=\"14.00\">*</text>\n",
       "</g>\n",
       "<!-- 5521949696*&#45;&gt;5521949696 -->\n",
       "<g id=\"edge1\" class=\"edge\">\n",
       "<title>5521949696*&#45;&gt;5521949696</title>\n",
       "<path fill=\"none\" stroke=\"black\" d=\"M288.42,-73.5C295.52,-73.5 303.68,-73.5 312.42,-73.5\"/>\n",
       "<polygon fill=\"black\" stroke=\"black\" points=\"312.24,-77 322.24,-73.5 312.24,-70 312.24,-77\"/>\n",
       "</g>\n",
       "<!-- 5522377792 -->\n",
       "<g id=\"node3\" class=\"node\">\n",
       "<title>5522377792</title>\n",
       "<polygon fill=\"none\" stroke=\"black\" points=\"3.75,-165.5 3.75,-201.5 194.25,-201.5 194.25,-165.5 3.75,-165.5\"/>\n",
       "<text text-anchor=\"middle\" x=\"18.5\" y=\"-178.7\" font-family=\"Times,serif\" font-size=\"14.00\">x2</text>\n",
       "<polyline fill=\"none\" stroke=\"black\" points=\"33.25,-166 33.25,-201.5\"/>\n",
       "<text text-anchor=\"middle\" x=\"73.12\" y=\"-178.7\" font-family=\"Times,serif\" font-size=\"14.00\">data 0.0000</text>\n",
       "<polyline fill=\"none\" stroke=\"black\" points=\"113,-166 113,-201.5\"/>\n",
       "<text text-anchor=\"middle\" x=\"153.62\" y=\"-178.7\" font-family=\"Times,serif\" font-size=\"14.00\">grad 0.0000</text>\n",
       "</g>\n",
       "<!-- 5521959392* -->\n",
       "<g id=\"node6\" class=\"node\">\n",
       "<title>5521959392*</title>\n",
       "<ellipse fill=\"none\" stroke=\"black\" cx=\"261\" cy=\"-128.5\" rx=\"27\" ry=\"18\"/>\n",
       "<text text-anchor=\"middle\" x=\"261\" y=\"-123.45\" font-family=\"Times,serif\" font-size=\"14.00\">*</text>\n",
       "</g>\n",
       "<!-- 5522377792&#45;&gt;5521959392* -->\n",
       "<g id=\"edge7\" class=\"edge\">\n",
       "<title>5522377792&#45;&gt;5521959392*</title>\n",
       "<path fill=\"none\" stroke=\"black\" d=\"M172.12,-165.01C180.9,-162.35 189.7,-159.5 198,-156.5 208.09,-152.86 218.82,-148.27 228.47,-143.88\"/>\n",
       "<polygon fill=\"black\" stroke=\"black\" points=\"229.86,-147.09 237.45,-139.69 226.9,-140.75 229.86,-147.09\"/>\n",
       "</g>\n",
       "<!-- 5521962656 -->\n",
       "<g id=\"node4\" class=\"node\">\n",
       "<title>5521962656</title>\n",
       "<polygon fill=\"none\" stroke=\"black\" points=\"2.25,-110.5 2.25,-146.5 195.75,-146.5 195.75,-110.5 2.25,-110.5\"/>\n",
       "<text text-anchor=\"middle\" x=\"18.5\" y=\"-123.7\" font-family=\"Times,serif\" font-size=\"14.00\">w2</text>\n",
       "<polyline fill=\"none\" stroke=\"black\" points=\"34.75,-111 34.75,-146.5\"/>\n",
       "<text text-anchor=\"middle\" x=\"74.62\" y=\"-123.7\" font-family=\"Times,serif\" font-size=\"14.00\">data 1.0000</text>\n",
       "<polyline fill=\"none\" stroke=\"black\" points=\"114.5,-111 114.5,-146.5\"/>\n",
       "<text text-anchor=\"middle\" x=\"155.12\" y=\"-123.7\" font-family=\"Times,serif\" font-size=\"14.00\">grad 0.0000</text>\n",
       "</g>\n",
       "<!-- 5521962656&#45;&gt;5521959392* -->\n",
       "<g id=\"edge6\" class=\"edge\">\n",
       "<title>5521962656&#45;&gt;5521959392*</title>\n",
       "<path fill=\"none\" stroke=\"black\" d=\"M195.84,-128.5C205.14,-128.5 214.15,-128.5 222.32,-128.5\"/>\n",
       "<polygon fill=\"black\" stroke=\"black\" points=\"222.13,-132 232.13,-128.5 222.13,-125 222.13,-132\"/>\n",
       "</g>\n",
       "<!-- 5521959392 -->\n",
       "<g id=\"node5\" class=\"node\">\n",
       "<title>5521959392</title>\n",
       "<polygon fill=\"none\" stroke=\"black\" points=\"326.25,-110.5 326.25,-146.5 533.25,-146.5 533.25,-110.5 326.25,-110.5\"/>\n",
       "<text text-anchor=\"middle\" x=\"349.25\" y=\"-123.7\" font-family=\"Times,serif\" font-size=\"14.00\">x2w2</text>\n",
       "<polyline fill=\"none\" stroke=\"black\" points=\"372.25,-111 372.25,-146.5\"/>\n",
       "<text text-anchor=\"middle\" x=\"412.12\" y=\"-123.7\" font-family=\"Times,serif\" font-size=\"14.00\">data 0.0000</text>\n",
       "<polyline fill=\"none\" stroke=\"black\" points=\"452,-111 452,-146.5\"/>\n",
       "<text text-anchor=\"middle\" x=\"492.62\" y=\"-123.7\" font-family=\"Times,serif\" font-size=\"14.00\">grad 0.0000</text>\n",
       "</g>\n",
       "<!-- 5521959392&#45;&gt;5521951472+ -->\n",
       "<g id=\"edge11\" class=\"edge\">\n",
       "<title>5521959392&#45;&gt;5521951472+</title>\n",
       "<path fill=\"none\" stroke=\"black\" d=\"M533.51,-111.25C543.16,-109.62 552.45,-108.06 560.82,-106.66\"/>\n",
       "<polygon fill=\"black\" stroke=\"black\" points=\"561.2,-110.15 570.48,-105.04 560.04,-103.24 561.2,-110.15\"/>\n",
       "</g>\n",
       "<!-- 5521959392*&#45;&gt;5521959392 -->\n",
       "<g id=\"edge2\" class=\"edge\">\n",
       "<title>5521959392*&#45;&gt;5521959392</title>\n",
       "<path fill=\"none\" stroke=\"black\" d=\"M288.42,-128.5C296.08,-128.5 304.96,-128.5 314.47,-128.5\"/>\n",
       "<polygon fill=\"black\" stroke=\"black\" points=\"314.37,-132 324.37,-128.5 314.37,-125 314.37,-132\"/>\n",
       "</g>\n",
       "<!-- 5521951472 -->\n",
       "<g id=\"node7\" class=\"node\">\n",
       "<title>5521951472</title>\n",
       "<polygon fill=\"none\" stroke=\"black\" points=\"661.5,-82.5 661.5,-118.5 918.75,-118.5 918.75,-82.5 661.5,-82.5\"/>\n",
       "<text text-anchor=\"middle\" x=\"707.38\" y=\"-95.7\" font-family=\"Times,serif\" font-size=\"14.00\">x1w1 + x2w2</text>\n",
       "<polyline fill=\"none\" stroke=\"black\" points=\"753.25,-83 753.25,-118.5\"/>\n",
       "<text text-anchor=\"middle\" x=\"795.38\" y=\"-95.7\" font-family=\"Times,serif\" font-size=\"14.00\">data &#45;6.0000</text>\n",
       "<polyline fill=\"none\" stroke=\"black\" points=\"837.5,-83 837.5,-118.5\"/>\n",
       "<text text-anchor=\"middle\" x=\"878.12\" y=\"-95.7\" font-family=\"Times,serif\" font-size=\"14.00\">grad 0.0000</text>\n",
       "</g>\n",
       "<!-- 5521956320+ -->\n",
       "<g id=\"node15\" class=\"node\">\n",
       "<title>5521956320+</title>\n",
       "<ellipse fill=\"none\" stroke=\"black\" cx=\"981.75\" cy=\"-127.5\" rx=\"27\" ry=\"18\"/>\n",
       "<text text-anchor=\"middle\" x=\"981.75\" y=\"-122.45\" font-family=\"Times,serif\" font-size=\"14.00\">+</text>\n",
       "</g>\n",
       "<!-- 5521951472&#45;&gt;5521956320+ -->\n",
       "<g id=\"edge8\" class=\"edge\">\n",
       "<title>5521951472&#45;&gt;5521956320+</title>\n",
       "<path fill=\"none\" stroke=\"black\" d=\"M919.18,-118.73C927.81,-119.96 936.02,-121.13 943.46,-122.19\"/>\n",
       "<polygon fill=\"black\" stroke=\"black\" points=\"942.96,-125.65 953.35,-123.6 943.94,-118.72 942.96,-125.65\"/>\n",
       "</g>\n",
       "<!-- 5521951472+&#45;&gt;5521951472 -->\n",
       "<g id=\"edge3\" class=\"edge\">\n",
       "<title>5521951472+&#45;&gt;5521951472</title>\n",
       "<path fill=\"none\" stroke=\"black\" d=\"M625.87,-100.5C632.88,-100.5 640.96,-100.5 649.7,-100.5\"/>\n",
       "<polygon fill=\"black\" stroke=\"black\" points=\"649.57,-104 659.57,-100.5 649.57,-97 649.57,-104\"/>\n",
       "</g>\n",
       "<!-- 5521958720 -->\n",
       "<g id=\"node9\" class=\"node\">\n",
       "<title>5521958720</title>\n",
       "<polygon fill=\"none\" stroke=\"black\" points=\"698.25,-137.5 698.25,-173.5 882,-173.5 882,-137.5 698.25,-137.5\"/>\n",
       "<text text-anchor=\"middle\" x=\"709.62\" y=\"-150.7\" font-family=\"Times,serif\" font-size=\"14.00\">b</text>\n",
       "<polyline fill=\"none\" stroke=\"black\" points=\"721,-138 721,-173.5\"/>\n",
       "<text text-anchor=\"middle\" x=\"760.88\" y=\"-150.7\" font-family=\"Times,serif\" font-size=\"14.00\">data 6.8814</text>\n",
       "<polyline fill=\"none\" stroke=\"black\" points=\"800.75,-138 800.75,-173.5\"/>\n",
       "<text text-anchor=\"middle\" x=\"841.38\" y=\"-150.7\" font-family=\"Times,serif\" font-size=\"14.00\">grad 0.0000</text>\n",
       "</g>\n",
       "<!-- 5521958720&#45;&gt;5521956320+ -->\n",
       "<g id=\"edge13\" class=\"edge\">\n",
       "<title>5521958720&#45;&gt;5521956320+</title>\n",
       "<path fill=\"none\" stroke=\"black\" d=\"M882.33,-142.03C904.17,-138.81 926.27,-135.54 943.98,-132.93\"/>\n",
       "<polygon fill=\"black\" stroke=\"black\" points=\"944.33,-136.42 953.71,-131.49 943.31,-129.49 944.33,-136.42\"/>\n",
       "</g>\n",
       "<!-- 5521954112 -->\n",
       "<g id=\"node10\" class=\"node\">\n",
       "<title>5521954112</title>\n",
       "<polygon fill=\"none\" stroke=\"black\" points=\"1354.5,-109.5 1354.5,-145.5 1538.25,-145.5 1538.25,-109.5 1354.5,-109.5\"/>\n",
       "<text text-anchor=\"middle\" x=\"1365.88\" y=\"-122.7\" font-family=\"Times,serif\" font-size=\"14.00\">o</text>\n",
       "<polyline fill=\"none\" stroke=\"black\" points=\"1377.25,-110 1377.25,-145.5\"/>\n",
       "<text text-anchor=\"middle\" x=\"1417.12\" y=\"-122.7\" font-family=\"Times,serif\" font-size=\"14.00\">data 0.7071</text>\n",
       "<polyline fill=\"none\" stroke=\"black\" points=\"1457,-110 1457,-145.5\"/>\n",
       "<text text-anchor=\"middle\" x=\"1497.62\" y=\"-122.7\" font-family=\"Times,serif\" font-size=\"14.00\">grad 1.0000</text>\n",
       "</g>\n",
       "<!-- 5521954112tanh -->\n",
       "<g id=\"node11\" class=\"node\">\n",
       "<title>5521954112tanh</title>\n",
       "<ellipse fill=\"none\" stroke=\"black\" cx=\"1291.5\" cy=\"-127.5\" rx=\"27\" ry=\"18\"/>\n",
       "<text text-anchor=\"middle\" x=\"1291.5\" y=\"-122.45\" font-family=\"Times,serif\" font-size=\"14.00\">tanh</text>\n",
       "</g>\n",
       "<!-- 5521954112tanh&#45;&gt;5521954112 -->\n",
       "<g id=\"edge4\" class=\"edge\">\n",
       "<title>5521954112tanh&#45;&gt;5521954112</title>\n",
       "<path fill=\"none\" stroke=\"black\" d=\"M1318.78,-127.5C1325.92,-127.5 1334.11,-127.5 1342.82,-127.5\"/>\n",
       "<polygon fill=\"black\" stroke=\"black\" points=\"1342.56,-131 1352.56,-127.5 1342.56,-124 1342.56,-131\"/>\n",
       "</g>\n",
       "<!-- 5521954208 -->\n",
       "<g id=\"node12\" class=\"node\">\n",
       "<title>5521954208</title>\n",
       "<polygon fill=\"none\" stroke=\"black\" points=\"3.75,-55.5 3.75,-91.5 194.25,-91.5 194.25,-55.5 3.75,-55.5\"/>\n",
       "<text text-anchor=\"middle\" x=\"18.5\" y=\"-68.7\" font-family=\"Times,serif\" font-size=\"14.00\">x1</text>\n",
       "<polyline fill=\"none\" stroke=\"black\" points=\"33.25,-56 33.25,-91.5\"/>\n",
       "<text text-anchor=\"middle\" x=\"73.12\" y=\"-68.7\" font-family=\"Times,serif\" font-size=\"14.00\">data 2.0000</text>\n",
       "<polyline fill=\"none\" stroke=\"black\" points=\"113,-56 113,-91.5\"/>\n",
       "<text text-anchor=\"middle\" x=\"153.62\" y=\"-68.7\" font-family=\"Times,serif\" font-size=\"14.00\">grad 0.0000</text>\n",
       "</g>\n",
       "<!-- 5521954208&#45;&gt;5521949696* -->\n",
       "<g id=\"edge14\" class=\"edge\">\n",
       "<title>5521954208&#45;&gt;5521949696*</title>\n",
       "<path fill=\"none\" stroke=\"black\" d=\"M194.46,-73.5C204.21,-73.5 213.66,-73.5 222.21,-73.5\"/>\n",
       "<polygon fill=\"black\" stroke=\"black\" points=\"222.12,-77 232.12,-73.5 222.12,-70 222.12,-77\"/>\n",
       "</g>\n",
       "<!-- 5522376640 -->\n",
       "<g id=\"node13\" class=\"node\">\n",
       "<title>5522376640</title>\n",
       "<polygon fill=\"none\" stroke=\"black\" points=\"0,-0.5 0,-36.5 198,-36.5 198,-0.5 0,-0.5\"/>\n",
       "<text text-anchor=\"middle\" x=\"16.25\" y=\"-13.7\" font-family=\"Times,serif\" font-size=\"14.00\">w1</text>\n",
       "<polyline fill=\"none\" stroke=\"black\" points=\"32.5,-1 32.5,-36.5\"/>\n",
       "<text text-anchor=\"middle\" x=\"74.62\" y=\"-13.7\" font-family=\"Times,serif\" font-size=\"14.00\">data &#45;3.0000</text>\n",
       "<polyline fill=\"none\" stroke=\"black\" points=\"116.75,-1 116.75,-36.5\"/>\n",
       "<text text-anchor=\"middle\" x=\"157.38\" y=\"-13.7\" font-family=\"Times,serif\" font-size=\"14.00\">grad 0.0000</text>\n",
       "</g>\n",
       "<!-- 5522376640&#45;&gt;5521949696* -->\n",
       "<g id=\"edge12\" class=\"edge\">\n",
       "<title>5522376640&#45;&gt;5521949696*</title>\n",
       "<path fill=\"none\" stroke=\"black\" d=\"M168.91,-36.94C178.74,-39.93 188.67,-43.15 198,-46.5 207.96,-50.07 218.58,-54.47 228.18,-58.68\"/>\n",
       "<polygon fill=\"black\" stroke=\"black\" points=\"226.54,-61.78 237.1,-62.67 229.4,-55.39 226.54,-61.78\"/>\n",
       "</g>\n",
       "<!-- 5521956320 -->\n",
       "<g id=\"node14\" class=\"node\">\n",
       "<title>5521956320</title>\n",
       "<polygon fill=\"none\" stroke=\"black\" points=\"1044.75,-109.5 1044.75,-145.5 1228.5,-145.5 1228.5,-109.5 1044.75,-109.5\"/>\n",
       "<text text-anchor=\"middle\" x=\"1056.12\" y=\"-122.7\" font-family=\"Times,serif\" font-size=\"14.00\">n</text>\n",
       "<polyline fill=\"none\" stroke=\"black\" points=\"1067.5,-110 1067.5,-145.5\"/>\n",
       "<text text-anchor=\"middle\" x=\"1107.38\" y=\"-122.7\" font-family=\"Times,serif\" font-size=\"14.00\">data 0.8814</text>\n",
       "<polyline fill=\"none\" stroke=\"black\" points=\"1147.25,-110 1147.25,-145.5\"/>\n",
       "<text text-anchor=\"middle\" x=\"1187.88\" y=\"-122.7\" font-family=\"Times,serif\" font-size=\"14.00\">grad 0.5000</text>\n",
       "</g>\n",
       "<!-- 5521956320&#45;&gt;5521954112tanh -->\n",
       "<g id=\"edge9\" class=\"edge\">\n",
       "<title>5521956320&#45;&gt;5521954112tanh</title>\n",
       "<path fill=\"none\" stroke=\"black\" d=\"M1228.76,-127.5C1237.14,-127.5 1245.27,-127.5 1252.73,-127.5\"/>\n",
       "<polygon fill=\"black\" stroke=\"black\" points=\"1252.7,-131 1262.7,-127.5 1252.7,-124 1252.7,-131\"/>\n",
       "</g>\n",
       "<!-- 5521956320+&#45;&gt;5521956320 -->\n",
       "<g id=\"edge5\" class=\"edge\">\n",
       "<title>5521956320+&#45;&gt;5521956320</title>\n",
       "<path fill=\"none\" stroke=\"black\" d=\"M1009.03,-127.5C1016.17,-127.5 1024.36,-127.5 1033.07,-127.5\"/>\n",
       "<polygon fill=\"black\" stroke=\"black\" points=\"1032.81,-131 1042.81,-127.5 1032.81,-124 1032.81,-131\"/>\n",
       "</g>\n",
       "</g>\n",
       "</svg>\n"
      ],
      "text/plain": [
       "<graphviz.graphs.Digraph>"
      ]
     },
     "execution_count": null,
     "metadata": {},
     "output_type": "execute_result"
    }
   ],
   "source": [
    "draw_dot(o)"
   ]
  },
  {
   "cell_type": "code",
   "execution_count": null,
   "id": "4ef25a98",
   "metadata": {},
   "outputs": [],
   "source": [
    "o.grad=1.0\n",
    "n.grad = 0.5"
   ]
  },
  {
   "cell_type": "code",
   "execution_count": null,
   "id": "89ac8790",
   "metadata": {},
   "outputs": [],
   "source": [
    "# o = tanh(n)\n",
    "# do/dn = 1 - tanh**2= 1 - o**2\n",
    "#1 - o.data**2"
   ]
  }
 ],
 "metadata": {
  "kernelspec": {
   "display_name": "python3",
   "language": "python",
   "name": "python3"
  }
 },
 "nbformat": 4,
 "nbformat_minor": 5
}
