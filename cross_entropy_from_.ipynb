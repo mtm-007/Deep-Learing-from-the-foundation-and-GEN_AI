{
  "cells": [
    {
      "cell_type": "code",
      "source": [
        "import torch\n",
        "import torchvision\n",
        "import numpy as np\n",
        "from matplotlib import pyplot as plt\n",
        "from PIL import Image"
      ],
      "metadata": {
        "id": "8_usqAmTZWyN"
      },
      "execution_count": 2,
      "outputs": []
    },
    {
      "cell_type": "markdown",
      "source": [
        "### LOSS Functions\n",
        "\n",
        "\n",
        "> Before we dive in to cross entropy and how its mathematical derivation or the code is formed. Lets take a look at Loss Functions\n",
        "> MSE = Mean Squared Error is a famous loss function used on many applications and models. IT is better on binary classifications, Not a good function for multiple categories (thats where cross entropy is used most)\n",
        "> RMSE is the same as MSE just under a sqrt function (MSE)^1/2 , we will get in depth look later but thats basically what `L2` Loss function is\n"
      ],
      "metadata": {
        "id": "LoUa5uQYXPj7"
      }
    },
    {
      "cell_type": "code",
      "source": [
        "x1=torch.rand(3,3)\n",
        "x2 = torch.rand(3,3)"
      ],
      "metadata": {
        "id": "N4Qjb9y6ZFTI"
      },
      "execution_count": 3,
      "outputs": []
    },
    {
      "cell_type": "code",
      "execution_count": 5,
      "metadata": {
        "id": "FVN__eNHXNy4",
        "outputId": "b7d30d94-bf00-455a-ccb1-c8f4396f3eff",
        "colab": {
          "base_uri": "https://localhost:8080/"
        }
      },
      "outputs": [
        {
          "output_type": "execute_result",
          "data": {
            "text/plain": [
              "tensor(0.3074)"
            ]
          },
          "metadata": {},
          "execution_count": 5
        }
      ],
      "source": [
        "MSE = ((x1-x2).mean()).sqrt()\n",
        "MSE"
      ]
    },
    {
      "cell_type": "code",
      "source": [],
      "metadata": {
        "id": "LNoJzk5oZBxu"
      },
      "execution_count": null,
      "outputs": []
    }
  ],
  "metadata": {
    "language_info": {
      "name": "python"
    },
    "orig_nbformat": 4,
    "colab": {
      "provenance": []
    },
    "kernelspec": {
      "name": "python3",
      "display_name": "Python 3"
    }
  },
  "nbformat": 4,
  "nbformat_minor": 0
}