{
  "cells": [
    {
      "cell_type": "code",
      "source": [
        "import torch\n",
        "import torchvision\n",
        "import numpy as np\n",
        "from matplotlib import pyplot as plt\n",
        "from PIL import Image"
      ],
      "metadata": {
        "id": "8_usqAmTZWyN"
      },
      "execution_count": 2,
      "outputs": []
    },
    {
      "cell_type": "markdown",
      "source": [
        "### LOSS Functions\n",
        "\n",
        "\n",
        "> Before we dive in to cross entropy and how its mathematical derivation or the code is formed. Lets take a look at Loss Functions\n",
        "> MSE = Mean Squared Error is a famous loss function used on many applications and models. IT is better on binary classifications, Not a good function for multiple categories (thats where cross entropy is used most)\n",
        "> RMSE is the same as MSE just under a sqrt function (MSE)^1/2 , we will get in depth look later but thats basically what `L2` Loss function is\n"
      ],
      "metadata": {
        "id": "LoUa5uQYXPj7"
      }
    },
    {
      "cell_type": "code",
      "source": [
        "x1=torch.rand(3,3)\n",
        "x2 = torch.rand(3,3)"
      ],
      "metadata": {
        "id": "N4Qjb9y6ZFTI"
      },
      "execution_count": 3,
      "outputs": []
    },
    {
      "cell_type": "markdown",
      "source": [
        "## MSE( Mean Squared Error) / L2"
      ],
      "metadata": {
        "id": "CXqeS5Czay75"
      }
    },
    {
      "cell_type": "code",
      "execution_count": 6,
      "metadata": {
        "colab": {
          "base_uri": "https://localhost:8080/"
        },
        "id": "FVN__eNHXNy4",
        "outputId": "5c8782f2-7cb9-4ad3-a042-93ffaef65010"
      },
      "outputs": [
        {
          "output_type": "execute_result",
          "data": {
            "text/plain": [
              "tensor(0.1839)"
            ]
          },
          "metadata": {},
          "execution_count": 6
        }
      ],
      "source": [
        "MSE = ((x1-x2)**2).mean()\n",
        "MSE"
      ]
    },
    {
      "cell_type": "markdown",
      "source": [
        "## `RMSE`\n",
        "is just the square root of MSE"
      ],
      "metadata": {
        "id": "RbPmh1xDaanU"
      }
    },
    {
      "cell_type": "code",
      "source": [
        "RMSE = np.sqrt(MSE)\n",
        "RMSE"
      ],
      "metadata": {
        "colab": {
          "base_uri": "https://localhost:8080/"
        },
        "id": "LNoJzk5oZBxu",
        "outputId": "ce676384-0571-4698-d2fa-792a3232ee6c"
      },
      "execution_count": 8,
      "outputs": [
        {
          "output_type": "execute_result",
          "data": {
            "text/plain": [
              "tensor(0.4288)"
            ]
          },
          "metadata": {},
          "execution_count": 8
        }
      ]
    },
    {
      "cell_type": "markdown",
      "source": [
        "## MAE ( Mean Absolute Error)/ L1"
      ],
      "metadata": {
        "id": "5eXhzemEa3Q9"
      }
    },
    {
      "cell_type": "code",
      "source": [
        "MAE = (np.absolute(x1-x2)).mean()\n",
        "MAE"
      ],
      "metadata": {
        "id": "bJsBRIlIaNv6",
        "outputId": "b55b7436-00fb-4fdc-f2da-223188f3e800",
        "colab": {
          "base_uri": "https://localhost:8080/"
        }
      },
      "execution_count": 9,
      "outputs": [
        {
          "output_type": "execute_result",
          "data": {
            "text/plain": [
              "tensor(0.3850)"
            ]
          },
          "metadata": {},
          "execution_count": 9
        }
      ]
    },
    {
      "cell_type": "markdown",
      "source": [
        ">We will take a look what are the advantages of using MSE or MAE when when to (their Pro and Cons)"
      ],
      "metadata": {
        "id": "kr85SHf3bi5P"
      }
    },
    {
      "cell_type": "code",
      "source": [],
      "metadata": {
        "id": "MWy4qesXbOSy"
      },
      "execution_count": null,
      "outputs": []
    }
  ],
  "metadata": {
    "language_info": {
      "name": "python"
    },
    "orig_nbformat": 4,
    "colab": {
      "provenance": []
    },
    "kernelspec": {
      "name": "python3",
      "display_name": "Python 3"
    }
  },
  "nbformat": 4,
  "nbformat_minor": 0
}