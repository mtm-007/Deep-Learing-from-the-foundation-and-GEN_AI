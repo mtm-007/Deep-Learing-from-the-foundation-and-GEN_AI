{
  "cells": [
    {
      "cell_type": "code",
      "execution_count": 1,
      "metadata": {
        "id": "-FGhTunJWBhV"
      },
      "outputs": [],
      "source": [
        "import pickle,gzip,math,os,time,shutil,torch,matplotlib as mpl, numpy as np,matplotlib.pyplot as plt\n",
        "from pathlib import Path\n",
        "from torch import tensor,nn\n",
        "import torch.nn.functional as F\n",
        "from fastcore.test import test_close\n",
        "from urllib.request import urlretrieve\n",
        "#torch.manual_seed(42)\n",
        "\n",
        "mpl.rcParams['image.cmap'] = 'gray'\n",
        "torch.set_printoptions(precision=2, linewidth=125, sci_mode=False)\n",
        "np.set_printoptions(precision=2, linewidth=125)\n",
        "\n",
        "MNIST_URL='https://github.com/mnielsen/neural-networks-and-deep-learning/blob/master/data/mnist.pkl.gz?raw=true'\n",
        "path_data = Path('data')\n",
        "path_data.mkdir(exist_ok=True)\n",
        "path_gz = path_data/'mnist.pkl.gz'\n",
        "\n",
        "if not path_gz.exists(): urlretrieve(MNIST_URL, path_gz)\n",
        "# path_data = Path('data')\n",
        "# path_gz = path_data/'mnist.pkl.gz'\n",
        "with gzip.open(path_gz, 'rb') as f: ((x_train, y_train), (x_valid, y_valid), _) = pickle.load(f, encoding='latin-1')\n",
        "x_train, y_train, x_valid, y_valid = map(tensor, [x_train, y_train, x_valid, y_valid])"
      ]
    },
    {
      "cell_type": "markdown",
      "source": [
        "## setup\n"
      ],
      "metadata": {
        "id": "n6cggNijWYRl"
      }
    },
    {
      "cell_type": "code",
      "source": [
        "n,m = x_train.shape\n",
        "c = y_train.max() +1\n",
        "nh = 50\n",
        "n,m,c"
      ],
      "metadata": {
        "id": "MlCRCeHbWHSF",
        "outputId": "6e01749c-cfeb-4ba5-e006-8ba4ae20d174",
        "colab": {
          "base_uri": "https://localhost:8080/"
        }
      },
      "execution_count": 2,
      "outputs": [
        {
          "output_type": "execute_result",
          "data": {
            "text/plain": [
              "(50000, 784, tensor(10))"
            ]
          },
          "metadata": {},
          "execution_count": 2
        }
      ]
    },
    {
      "cell_type": "code",
      "source": [
        "class Model(nn.Module):\n",
        "    def __init__(self, n_in, nh, n_out):\n",
        "        super().__init__()\n",
        "        self.layers = [nn.Linear(n_in,nh), nn.ReLU(), nn.Linear(nh,n_out)]\n",
        "\n",
        "    def __call__(self, x):\n",
        "        for l in self.layers: x = l(x)\n",
        "        return x"
      ],
      "metadata": {
        "id": "y3FXjL0FfK1F"
      },
      "execution_count": 3,
      "outputs": []
    },
    {
      "cell_type": "code",
      "source": [
        "model = Model(m,nh,10)\n",
        "pred = model(x_train)\n",
        "pred.shape"
      ],
      "metadata": {
        "id": "BIn5T5uhXFkM",
        "outputId": "1a4ee1c7-34b8-4cbe-a96b-d0f0b24c53fc",
        "colab": {
          "base_uri": "https://localhost:8080/"
        }
      },
      "execution_count": 4,
      "outputs": [
        {
          "output_type": "execute_result",
          "data": {
            "text/plain": [
              "torch.Size([50000, 10])"
            ]
          },
          "metadata": {},
          "execution_count": 4
        }
      ]
    },
    {
      "cell_type": "markdown",
      "source": [
        "## Cross Entropy loss"
      ],
      "metadata": {
        "id": "fRqIFpv3fd7h"
      }
    },
    {
      "cell_type": "code",
      "source": [
        "def log_softmax(x): return (x.exp() / (x.exp().sum(-1,keepdim=True))).log()"
      ],
      "metadata": {
        "id": "Zsr414Keev8N"
      },
      "execution_count": 5,
      "outputs": []
    },
    {
      "cell_type": "code",
      "source": [
        "log_softmax(pred)"
      ],
      "metadata": {
        "id": "FjMjQNh4f31J",
        "outputId": "8e81bb94-45ce-456f-8372-53ec365b8582",
        "colab": {
          "base_uri": "https://localhost:8080/"
        }
      },
      "execution_count": 6,
      "outputs": [
        {
          "output_type": "execute_result",
          "data": {
            "text/plain": [
              "tensor([[-2.33, -2.44, -2.29,  ..., -2.41, -2.29, -2.32],\n",
              "        [-2.31, -2.49, -2.36,  ..., -2.37, -2.30, -2.32],\n",
              "        [-2.34, -2.37, -2.26,  ..., -2.45, -2.38, -2.32],\n",
              "        ...,\n",
              "        [-2.34, -2.45, -2.28,  ..., -2.35, -2.34, -2.31],\n",
              "        [-2.30, -2.41, -2.27,  ..., -2.42, -2.39, -2.33],\n",
              "        [-2.36, -2.52, -2.24,  ..., -2.35, -2.42, -2.27]], grad_fn=<LogBackward0>)"
            ]
          },
          "metadata": {},
          "execution_count": 6
        }
      ]
    },
    {
      "cell_type": "code",
      "source": [
        "def log_softmax(x): return x - x.exp().sum(-1,keepdim=True).log()"
      ],
      "metadata": {
        "id": "KyJd2BHFf85O"
      },
      "execution_count": 7,
      "outputs": []
    },
    {
      "cell_type": "code",
      "source": [
        "def logsumexp(x):\n",
        "  m = x.max(-1)[0]\n",
        "  return m + (x -m[:,None]).exp().sum(-1).log()"
      ],
      "metadata": {
        "id": "zWzPcNQsieWE"
      },
      "execution_count": 8,
      "outputs": []
    },
    {
      "cell_type": "code",
      "source": [
        "def log_softmax(x): return x - x.logsumexp(-1,keepdim=True)"
      ],
      "metadata": {
        "id": "AJ_nyaizDWr_"
      },
      "execution_count": 9,
      "outputs": []
    },
    {
      "cell_type": "code",
      "source": [
        "test_close(logsumexp(pred), pred.logsumexp(-1))\n",
        "sm_pred = log_softmax(pred)\n",
        "sm_pred"
      ],
      "metadata": {
        "id": "1CqYq_9GDy8d",
        "outputId": "4bf4b6b1-bed0-441e-bd79-cd161cdde8fc",
        "colab": {
          "base_uri": "https://localhost:8080/"
        }
      },
      "execution_count": 10,
      "outputs": [
        {
          "output_type": "execute_result",
          "data": {
            "text/plain": [
              "tensor([[-2.33, -2.44, -2.29,  ..., -2.41, -2.29, -2.32],\n",
              "        [-2.31, -2.49, -2.36,  ..., -2.37, -2.30, -2.32],\n",
              "        [-2.34, -2.37, -2.26,  ..., -2.45, -2.38, -2.32],\n",
              "        ...,\n",
              "        [-2.34, -2.45, -2.28,  ..., -2.35, -2.34, -2.31],\n",
              "        [-2.30, -2.41, -2.27,  ..., -2.42, -2.39, -2.33],\n",
              "        [-2.36, -2.52, -2.24,  ..., -2.35, -2.42, -2.27]], grad_fn=<SubBackward0>)"
            ]
          },
          "metadata": {},
          "execution_count": 10
        }
      ]
    },
    {
      "cell_type": "code",
      "source": [
        "y_train[:3]"
      ],
      "metadata": {
        "id": "oUitMo8qUjl-",
        "outputId": "3712fd8e-9c7e-4a42-8580-f113128814de",
        "colab": {
          "base_uri": "https://localhost:8080/"
        }
      },
      "execution_count": 11,
      "outputs": [
        {
          "output_type": "execute_result",
          "data": {
            "text/plain": [
              "tensor([5, 0, 4])"
            ]
          },
          "metadata": {},
          "execution_count": 11
        }
      ]
    },
    {
      "cell_type": "code",
      "source": [
        "sm_pred[0,5], sm_pred[1,0], sm_pred[2,4]"
      ],
      "metadata": {
        "id": "JBghQE_dU6Fq",
        "outputId": "6bfeb538-e2c8-40df-b0d5-d8669a973dce",
        "colab": {
          "base_uri": "https://localhost:8080/"
        }
      },
      "execution_count": 12,
      "outputs": [
        {
          "output_type": "execute_result",
          "data": {
            "text/plain": [
              "(tensor(-2.19, grad_fn=<SelectBackward0>),\n",
              " tensor(-2.31, grad_fn=<SelectBackward0>),\n",
              " tensor(-2.14, grad_fn=<SelectBackward0>))"
            ]
          },
          "metadata": {},
          "execution_count": 12
        }
      ]
    },
    {
      "cell_type": "code",
      "source": [
        "sm_pred[[0,1,2], y_train[:3]]"
      ],
      "metadata": {
        "id": "t-FENRVzVGAv",
        "outputId": "c39acfd5-37b5-4d34-c123-5f539e7235ee",
        "colab": {
          "base_uri": "https://localhost:8080/"
        }
      },
      "execution_count": 13,
      "outputs": [
        {
          "output_type": "execute_result",
          "data": {
            "text/plain": [
              "tensor([-2.19, -2.31, -2.14], grad_fn=<IndexBackward0>)"
            ]
          },
          "metadata": {},
          "execution_count": 13
        }
      ]
    },
    {
      "cell_type": "code",
      "source": [
        "def nll(input, target):return -input[range(target.shape[0]),target].mean()"
      ],
      "metadata": {
        "id": "frFMQ4SmVP_w"
      },
      "execution_count": 14,
      "outputs": []
    },
    {
      "cell_type": "code",
      "source": [
        "loss = nll(sm_pred, y_train)\n",
        "loss"
      ],
      "metadata": {
        "id": "em6aGebOW5rO",
        "outputId": "88cfaf60-a657-4f11-e3c1-265c685c3203",
        "colab": {
          "base_uri": "https://localhost:8080/"
        }
      },
      "execution_count": 15,
      "outputs": [
        {
          "output_type": "execute_result",
          "data": {
            "text/plain": [
              "tensor(2.31, grad_fn=<NegBackward0>)"
            ]
          },
          "metadata": {},
          "execution_count": 15
        }
      ]
    },
    {
      "cell_type": "code",
      "source": [
        "test_close(F.nll_loss(F.log_softmax(pred,-1), y_train),loss, 1e-3)"
      ],
      "metadata": {
        "id": "rnvJtdODY2_m"
      },
      "execution_count": 16,
      "outputs": []
    },
    {
      "cell_type": "code",
      "source": [
        "test_close(F.cross_entropy(pred,y_train),loss,1e-3)"
      ],
      "metadata": {
        "id": "l--99Dy2eV3L"
      },
      "execution_count": 17,
      "outputs": []
    },
    {
      "cell_type": "markdown",
      "source": [
        "## basic training Loop"
      ],
      "metadata": {
        "id": "liG3DB9cfmxn"
      }
    },
    {
      "cell_type": "code",
      "source": [
        "loss_func = F.cross_entropy"
      ],
      "metadata": {
        "id": "5HBrTCfpeo0K"
      },
      "execution_count": 18,
      "outputs": []
    },
    {
      "cell_type": "code",
      "source": [
        "bs=64        # batch size\n",
        "# xb = x_train[0:bs]\n",
        "# preds =model(xb)\n",
        "# preds[0], preds.shape"
      ],
      "metadata": {
        "id": "temu2ERbe775"
      },
      "execution_count": 19,
      "outputs": []
    },
    {
      "cell_type": "code",
      "source": [
        "# yb = y_train[0:64]\n",
        "# yb"
      ],
      "metadata": {
        "id": "D-sFD_MEicHi"
      },
      "execution_count": 20,
      "outputs": []
    },
    {
      "cell_type": "code",
      "source": [
        "# xb.shape, yb.shape"
      ],
      "metadata": {
        "id": "d7y2rJCl8Nz3"
      },
      "execution_count": 21,
      "outputs": []
    },
    {
      "cell_type": "code",
      "source": [
        "# loss_func(preds, yb)"
      ],
      "metadata": {
        "id": "AuBtNc2Bi4h-"
      },
      "execution_count": 22,
      "outputs": []
    },
    {
      "cell_type": "code",
      "source": [
        "# preds.argmax(dim=1)"
      ],
      "metadata": {
        "id": "qVMQhrQX7FQJ"
      },
      "execution_count": 23,
      "outputs": []
    },
    {
      "cell_type": "code",
      "source": [
        "def accuracy(out,yb): return (out.argmax(dim=1)==yb).float().mean()"
      ],
      "metadata": {
        "id": "g5Kht3hc-Fq1"
      },
      "execution_count": 24,
      "outputs": []
    },
    {
      "cell_type": "code",
      "source": [
        "# accuracy(preds,yb)"
      ],
      "metadata": {
        "id": "Qf_Nxs9pAXGv"
      },
      "execution_count": 25,
      "outputs": []
    },
    {
      "cell_type": "code",
      "source": [
        "lr=0.5\n",
        "epochs=3"
      ],
      "metadata": {
        "id": "SIyx_3m_AbKz"
      },
      "execution_count": 26,
      "outputs": []
    },
    {
      "cell_type": "code",
      "source": [
        "def report(loss, preds, yb): print(f'{loss:.2f}, {accuracy(preds, yb):.2f}')"
      ],
      "metadata": {
        "id": "_rHyycysEhBi"
      },
      "execution_count": 27,
      "outputs": []
    },
    {
      "cell_type": "code",
      "source": [
        "# xb.shape, yb.shape"
      ],
      "metadata": {
        "id": "bQDmcJRN8fHy"
      },
      "execution_count": 28,
      "outputs": []
    },
    {
      "cell_type": "code",
      "source": [
        "# xb,yb = x_train[:bs],y_train[:bs]\n",
        "# preds = model(xb)\n",
        "# report(loss_func(preds, yb), preds, yb)"
      ],
      "metadata": {
        "id": "eaf8lDrlEpT4"
      },
      "execution_count": 29,
      "outputs": []
    },
    {
      "cell_type": "code",
      "source": [
        "for epoch in range(epochs):\n",
        "    for i in range(0, n, bs):\n",
        "        s = slice(i, min(n,i+bs))\n",
        "        xb_,yb_ = x_train[s],y_train[s]\n",
        "        #import pdb; pdb.set_trace()\n",
        "        preds = model(xb_)\n",
        "        loss = loss_func(preds, yb_)\n",
        "        loss.backward()\n",
        "        with torch.no_grad():\n",
        "            for l in model.layers:\n",
        "                if hasattr(l, 'weight'):\n",
        "                    l.weight -= l.weight.grad * lr\n",
        "                    l.bias   -= l.bias.grad   * lr\n",
        "                    l.weight.grad.zero_()\n",
        "                    l.bias  .grad.zero_()\n",
        "    #report(loss, preds, yb)"
      ],
      "metadata": {
        "id": "qFoWEN9R9B_0"
      },
      "execution_count": 30,
      "outputs": []
    },
    {
      "cell_type": "code",
      "source": [
        "# for epoch in range(epochs):\n",
        "#   for i in range(0,n,bs):\n",
        "#     s = slice(i, min(n,i+bs))\n",
        "#     xb,yb = x_train[s],y_train[s]\n",
        "#     preds = model(xb)\n",
        "#     loss = loss_func(preds,yb)\n",
        "#     loss.backward()\n",
        "#     if i==0:print(loss.item(), accuracy(preds,yb).item())\n",
        "#     with torch.no_grad():\n",
        "#       for l in model.layers:\n",
        "#         if hasattr(l, 'weight'):\n",
        "#           l.weight -= l.weight.grad*lr\n",
        "#           l.bias   -= l.bias.grad   * lr\n",
        "#           l.weight.grad.zero_()\n",
        "#           l.bias.grad.zero_()\n",
        "\n",
        "#   #report(loss,preds,yb)"
      ],
      "metadata": {
        "id": "0yelM5k7A9Ep"
      },
      "execution_count": 31,
      "outputs": []
    },
    {
      "cell_type": "markdown",
      "source": [
        "## Parameters and Optim\n",
        "\n",
        "#### Parameters"
      ],
      "metadata": {
        "id": "CgjjjqBpGWEL"
      }
    },
    {
      "cell_type": "code",
      "source": [
        "m1 = nn.Module()\n",
        "m1.foo = nn.Linear(3,4)\n",
        "m1"
      ],
      "metadata": {
        "id": "fZpgddBvDetR",
        "outputId": "aa231546-07f5-4d7c-b9e0-a827cc3079b4",
        "colab": {
          "base_uri": "https://localhost:8080/"
        }
      },
      "execution_count": 32,
      "outputs": [
        {
          "output_type": "execute_result",
          "data": {
            "text/plain": [
              "Module(\n",
              "  (foo): Linear(in_features=3, out_features=4, bias=True)\n",
              ")"
            ]
          },
          "metadata": {},
          "execution_count": 32
        }
      ]
    },
    {
      "cell_type": "code",
      "source": [
        "(list(m1.named_children()))"
      ],
      "metadata": {
        "id": "LFHkrQmIGkJC",
        "outputId": "b528194b-5dae-4b26-8ad1-593dac8fd6e8",
        "colab": {
          "base_uri": "https://localhost:8080/"
        }
      },
      "execution_count": 33,
      "outputs": [
        {
          "output_type": "execute_result",
          "data": {
            "text/plain": [
              "[('foo', Linear(in_features=3, out_features=4, bias=True))]"
            ]
          },
          "metadata": {},
          "execution_count": 33
        }
      ]
    },
    {
      "cell_type": "code",
      "source": [
        "m1.named_children()"
      ],
      "metadata": {
        "id": "l1YQerHlH_4M",
        "outputId": "d98e687d-973e-4b56-d6be-edd643fa2e94",
        "colab": {
          "base_uri": "https://localhost:8080/"
        }
      },
      "execution_count": 34,
      "outputs": [
        {
          "output_type": "execute_result",
          "data": {
            "text/plain": [
              "<generator object Module.named_children at 0x7f3881a66f10>"
            ]
          },
          "metadata": {},
          "execution_count": 34
        }
      ]
    },
    {
      "cell_type": "code",
      "source": [
        "list(m1.parameters())"
      ],
      "metadata": {
        "id": "5cedLBkkIFJJ",
        "outputId": "9d268990-3448-4ca7-e6d6-21625826760b",
        "colab": {
          "base_uri": "https://localhost:8080/"
        }
      },
      "execution_count": 35,
      "outputs": [
        {
          "output_type": "execute_result",
          "data": {
            "text/plain": [
              "[Parameter containing:\n",
              " tensor([[ 0.39,  0.33,  0.23],\n",
              "         [-0.54, -0.38,  0.30],\n",
              "         [ 0.09,  0.17,  0.12],\n",
              "         [ 0.35,  0.34,  0.46]], requires_grad=True),\n",
              " Parameter containing:\n",
              " tensor([ 0.06, -0.16, -0.51, -0.19], requires_grad=True)]"
            ]
          },
          "metadata": {},
          "execution_count": 35
        }
      ]
    },
    {
      "cell_type": "code",
      "source": [
        "class MLP(nn.Module):\n",
        "  def __init__(self,n_in,nh,n_out):\n",
        "    super().__init__()\n",
        "    self.l1 = nn.Linear(n_in,nh)\n",
        "    self.l2 = nn.Linear(nh,n_out)\n",
        "    self.relu = nn.ReLU()\n",
        "\n",
        "  def forward(self,x): return self.l2(self.relu(self.l1(x)))"
      ],
      "metadata": {
        "id": "OQHtoCDfILE9"
      },
      "execution_count": 36,
      "outputs": []
    },
    {
      "cell_type": "code",
      "source": [
        "model = MLP(m,nh,10)\n",
        "model.l1"
      ],
      "metadata": {
        "id": "yGriIQ6eI_R6",
        "outputId": "69f15bac-c470-446c-8bc6-7dafb26a33ac",
        "colab": {
          "base_uri": "https://localhost:8080/"
        }
      },
      "execution_count": 37,
      "outputs": [
        {
          "output_type": "execute_result",
          "data": {
            "text/plain": [
              "Linear(in_features=784, out_features=50, bias=True)"
            ]
          },
          "metadata": {},
          "execution_count": 37
        }
      ]
    },
    {
      "cell_type": "code",
      "source": [
        "model"
      ],
      "metadata": {
        "id": "N4zaGc6tJHCe",
        "outputId": "a2ed67de-1e71-4460-8792-48cf0cb18966",
        "colab": {
          "base_uri": "https://localhost:8080/"
        }
      },
      "execution_count": 38,
      "outputs": [
        {
          "output_type": "execute_result",
          "data": {
            "text/plain": [
              "MLP(\n",
              "  (l1): Linear(in_features=784, out_features=50, bias=True)\n",
              "  (l2): Linear(in_features=50, out_features=10, bias=True)\n",
              "  (relu): ReLU()\n",
              ")"
            ]
          },
          "metadata": {},
          "execution_count": 38
        }
      ]
    },
    {
      "cell_type": "code",
      "source": [
        "for name,l in model.named_children(): print(f'{name}: {l}')"
      ],
      "metadata": {
        "id": "TY-WAV1oN4PM",
        "outputId": "ee3484bf-f9e2-4cb5-cfdb-5eeba3108df9",
        "colab": {
          "base_uri": "https://localhost:8080/"
        }
      },
      "execution_count": 39,
      "outputs": [
        {
          "output_type": "stream",
          "name": "stdout",
          "text": [
            "l1: Linear(in_features=784, out_features=50, bias=True)\n",
            "l2: Linear(in_features=50, out_features=10, bias=True)\n",
            "relu: ReLU()\n"
          ]
        }
      ]
    },
    {
      "cell_type": "code",
      "source": [
        "for p in model.parameters(): print(p.shape)"
      ],
      "metadata": {
        "id": "-rBgS1nnOc-z",
        "outputId": "d4f64979-f888-45e9-e82a-eb1a17769a53",
        "colab": {
          "base_uri": "https://localhost:8080/"
        }
      },
      "execution_count": 40,
      "outputs": [
        {
          "output_type": "stream",
          "name": "stdout",
          "text": [
            "torch.Size([50, 784])\n",
            "torch.Size([50])\n",
            "torch.Size([10, 50])\n",
            "torch.Size([10])\n"
          ]
        }
      ]
    },
    {
      "cell_type": "code",
      "source": [
        "def fit():\n",
        "  for epoch in range(epochs):\n",
        "    for i in range(0,n,bs):\n",
        "      s = slice(i,min(n,i+bs))\n",
        "      xb,yb = x_train[s],y_train[s]\n",
        "      preds = model(xb)\n",
        "      loss = loss_func(preds,yb)\n",
        "      loss.backward()\n",
        "      #if i==0:print(loss.item(), accuracy(preds,yb).item())\n",
        "      if i==0:print(f'{loss.item():.2f}, {accuracy(preds,yb).item():.2f}')\n",
        "      with torch.no_grad():\n",
        "        for p in model.parameters(): p -= p.grad *lr\n",
        "        model.zero_grad()\n",
        "\n",
        "    #report(loss,preds,yb)"
      ],
      "metadata": {
        "id": "ik8RqqmVOwGX"
      },
      "execution_count": 41,
      "outputs": []
    },
    {
      "cell_type": "code",
      "source": [
        "fit()"
      ],
      "metadata": {
        "id": "Hd9jrCwyQ-nc",
        "outputId": "d499d556-3bed-4da7-e781-d7acba832b34",
        "colab": {
          "base_uri": "https://localhost:8080/"
        }
      },
      "execution_count": 42,
      "outputs": [
        {
          "output_type": "stream",
          "name": "stdout",
          "text": [
            "2.32, 0.09\n",
            "0.13, 0.95\n",
            "0.20, 0.95\n"
          ]
        }
      ]
    },
    {
      "cell_type": "markdown",
      "source": [
        "Lets creat our own nn.Module"
      ],
      "metadata": {
        "id": "9fUkBqcbvcwj"
      }
    },
    {
      "cell_type": "code",
      "source": [
        "class MyModule():\n",
        "  def __init__(self, n_in, nh, n_out):\n",
        "    self._modules = {}\n",
        "    self.l1 = nn.Linear(n_in, nh)\n",
        "    self.l2 = nn.Linear(nh, n_out)\n",
        "\n",
        "  def __setattr__(self,k, v):\n",
        "    if not k.startswith(\"_\"): self._modules[k] = v\n",
        "    super().__setattr__(k,v)\n",
        "\n",
        "  def __repr__(self): return f'{self._modules}'\n",
        "\n",
        "  def parameters(self):\n",
        "    for l in self._modules.values():\n",
        "      #for p in l.parameters(): yield p  # the above can be more factored into\n",
        "      yield from l.parameters()"
      ],
      "metadata": {
        "id": "falKibulRFDr"
      },
      "execution_count": 43,
      "outputs": []
    },
    {
      "cell_type": "code",
      "source": [
        "md1 = MyModule(m,nh,10)\n",
        "md1"
      ],
      "metadata": {
        "colab": {
          "base_uri": "https://localhost:8080/"
        },
        "id": "Jr_5eNEDxUTe",
        "outputId": "a6e3238e-9058-4f66-d5ab-c3b94e53ac07"
      },
      "execution_count": 44,
      "outputs": [
        {
          "output_type": "execute_result",
          "data": {
            "text/plain": [
              "{'l1': Linear(in_features=784, out_features=50, bias=True), 'l2': Linear(in_features=50, out_features=10, bias=True)}"
            ]
          },
          "metadata": {},
          "execution_count": 44
        }
      ]
    },
    {
      "cell_type": "code",
      "source": [
        "for p in md1.parameters(): print(p.shape)"
      ],
      "metadata": {
        "colab": {
          "base_uri": "https://localhost:8080/"
        },
        "id": "L9NKnnNkxb1c",
        "outputId": "0e37164e-bec0-4c86-fe09-1cede9e3b8b6"
      },
      "execution_count": 45,
      "outputs": [
        {
          "output_type": "stream",
          "name": "stdout",
          "text": [
            "torch.Size([50, 784])\n",
            "torch.Size([50])\n",
            "torch.Size([10, 50])\n",
            "torch.Size([10])\n"
          ]
        }
      ]
    },
    {
      "cell_type": "markdown",
      "source": [
        "## Registering Modules"
      ],
      "metadata": {
        "id": "5YYdNQoL2NKB"
      }
    },
    {
      "cell_type": "code",
      "source": [
        "from functools import reduce"
      ],
      "metadata": {
        "id": "P37YEfGP2PrM"
      },
      "execution_count": 46,
      "outputs": []
    },
    {
      "cell_type": "code",
      "source": [
        "layers = [nn.Linear(m,nh), nn.ReLU(), nn.Linear(nh,10)]"
      ],
      "metadata": {
        "id": "OgsxCbO32U3Q"
      },
      "execution_count": 47,
      "outputs": []
    },
    {
      "cell_type": "code",
      "source": [
        "class Module(nn.Module):\n",
        "  def __init__(self,layers):\n",
        "    super().__init__()\n",
        "    self.layers = layers\n",
        "    for i,l in enumerate(self.layers): self.add_module(f'layer_{i}',l)\n",
        "\n",
        "  def forward(self,x): return reduce(lambda val,layer: layer(val), self.layers,x)"
      ],
      "metadata": {
        "id": "sMHEnxy12ov0"
      },
      "execution_count": 48,
      "outputs": []
    },
    {
      "cell_type": "code",
      "source": [
        "model = Module(layers)\n",
        "model"
      ],
      "metadata": {
        "colab": {
          "base_uri": "https://localhost:8080/"
        },
        "id": "bSjoYXfd3WCj",
        "outputId": "9ea6a4ac-99d1-4db7-ddfe-8c41364f6230"
      },
      "execution_count": 49,
      "outputs": [
        {
          "output_type": "execute_result",
          "data": {
            "text/plain": [
              "Module(\n",
              "  (layer_0): Linear(in_features=784, out_features=50, bias=True)\n",
              "  (layer_1): ReLU()\n",
              "  (layer_2): Linear(in_features=50, out_features=10, bias=True)\n",
              ")"
            ]
          },
          "metadata": {},
          "execution_count": 49
        }
      ]
    },
    {
      "cell_type": "code",
      "source": [
        "# model(xb).shape"
      ],
      "metadata": {
        "id": "xEt9XEmG3-M0"
      },
      "execution_count": 50,
      "outputs": []
    },
    {
      "cell_type": "code",
      "source": [
        "# xb.shape,yb.shape"
      ],
      "metadata": {
        "id": "nAVIHjlc4FNK"
      },
      "execution_count": 51,
      "outputs": []
    },
    {
      "cell_type": "markdown",
      "source": [
        "## nn.ModuleList"
      ],
      "metadata": {
        "id": "dUHCbfi5FS-V"
      }
    },
    {
      "cell_type": "code",
      "source": [
        "class SequentialModule(nn.Module):\n",
        "  def __init__(self, layers):\n",
        "    super().__init__()\n",
        "    self.layers = nn.ModuleList(layers)\n",
        "\n",
        "  def forward(self,x):\n",
        "    for l in self.layers: x= l(x)\n",
        "    return x"
      ],
      "metadata": {
        "id": "mIp4YIhZ5l5F"
      },
      "execution_count": 52,
      "outputs": []
    },
    {
      "cell_type": "code",
      "source": [
        "model = SequentialModule(layers)\n",
        "model"
      ],
      "metadata": {
        "colab": {
          "base_uri": "https://localhost:8080/"
        },
        "id": "hendY-bf78kN",
        "outputId": "4d9cdd2d-a1b2-4d2c-f499-f00ab2be1403"
      },
      "execution_count": 53,
      "outputs": [
        {
          "output_type": "execute_result",
          "data": {
            "text/plain": [
              "SequentialModule(\n",
              "  (layers): ModuleList(\n",
              "    (0): Linear(in_features=784, out_features=50, bias=True)\n",
              "    (1): ReLU()\n",
              "    (2): Linear(in_features=50, out_features=10, bias=True)\n",
              "  )\n",
              ")"
            ]
          },
          "metadata": {},
          "execution_count": 53
        }
      ]
    },
    {
      "cell_type": "code",
      "source": [
        "fit()"
      ],
      "metadata": {
        "colab": {
          "base_uri": "https://localhost:8080/"
        },
        "id": "TPjifE2hGbTh",
        "outputId": "378a20d5-6119-4da1-eef5-1c3f0a38514a"
      },
      "execution_count": 54,
      "outputs": [
        {
          "output_type": "stream",
          "name": "stdout",
          "text": [
            "2.30, 0.09\n",
            "0.18, 0.92\n",
            "0.12, 0.95\n"
          ]
        }
      ]
    },
    {
      "cell_type": "markdown",
      "source": [
        "### nn.Squential"
      ],
      "metadata": {
        "id": "1uLY2dWEN7FY"
      }
    },
    {
      "cell_type": "code",
      "source": [
        "model = nn.Sequential(nn.Linear(m,nh), nn.ReLU(), nn.Linear(nh,10))\n",
        "model"
      ],
      "metadata": {
        "colab": {
          "base_uri": "https://localhost:8080/"
        },
        "id": "0SDaBN-6GkNK",
        "outputId": "4d7b3c91-7cd6-415d-c824-41a8c6ddfd08"
      },
      "execution_count": 55,
      "outputs": [
        {
          "output_type": "execute_result",
          "data": {
            "text/plain": [
              "Sequential(\n",
              "  (0): Linear(in_features=784, out_features=50, bias=True)\n",
              "  (1): ReLU()\n",
              "  (2): Linear(in_features=50, out_features=10, bias=True)\n",
              ")"
            ]
          },
          "metadata": {},
          "execution_count": 55
        }
      ]
    },
    {
      "cell_type": "code",
      "source": [
        "fit()\n",
        "#loss_func(model(xb),yb), accuracy(model(xb),yb)"
      ],
      "metadata": {
        "colab": {
          "base_uri": "https://localhost:8080/"
        },
        "id": "5bc6iWzDG0DK",
        "outputId": "dd614371-fc88-4916-f906-211820debc26"
      },
      "execution_count": 56,
      "outputs": [
        {
          "output_type": "stream",
          "name": "stdout",
          "text": [
            "2.31, 0.12\n",
            "0.12, 0.95\n",
            "0.11, 0.95\n"
          ]
        }
      ]
    },
    {
      "cell_type": "markdown",
      "source": [
        "## Optimizer"
      ],
      "metadata": {
        "id": "tx6aWVRGaKa7"
      }
    },
    {
      "cell_type": "code",
      "source": [
        "class Optimizer():\n",
        "  def __init__(self,params,lr=0.5): self.params,self.lr = list(params), lr\n",
        "\n",
        "  def step(self):\n",
        "    with torch.no_grad():\n",
        "      for p in self.params: p -= p.grad * self.lr\n",
        "\n",
        "  def zero_grad(self):\n",
        "    for p in self.params: p.grad.data.zero_()"
      ],
      "metadata": {
        "id": "KokB3gdnOP68"
      },
      "execution_count": 57,
      "outputs": []
    },
    {
      "cell_type": "code",
      "source": [
        "model = nn.Sequential(nn.Linear(m,nh), nn.ReLU(), nn.Linear(nh,10))"
      ],
      "metadata": {
        "id": "hvfdTEwtbW7W"
      },
      "execution_count": 58,
      "outputs": []
    },
    {
      "cell_type": "code",
      "source": [
        "opt = Optimizer(model.parameters())"
      ],
      "metadata": {
        "id": "C1m5maWybR-U"
      },
      "execution_count": 59,
      "outputs": []
    },
    {
      "cell_type": "code",
      "source": [
        "for epoch in range(epochs):\n",
        "  for i in range(0,n,bs):\n",
        "    s = slice(i, min(n, i+bs))\n",
        "    xb,yb = x_train[s], y_train[s]\n",
        "    preds = model(xb)\n",
        "    loss = loss_func(preds, yb)\n",
        "    loss.backward()\n",
        "    opt.step()\n",
        "    opt.zero_grad()\n",
        "  report(loss, preds,yb)"
      ],
      "metadata": {
        "colab": {
          "base_uri": "https://localhost:8080/"
        },
        "id": "_kM-9aF8bk2e",
        "outputId": "ec39638a-1541-4fba-e966-9dfa46d0d617"
      },
      "execution_count": 60,
      "outputs": [
        {
          "output_type": "stream",
          "name": "stdout",
          "text": [
            "0.37, 0.88\n",
            "0.17, 0.94\n",
            "0.13, 1.00\n"
          ]
        }
      ]
    },
    {
      "cell_type": "code",
      "source": [
        "from torch import optim"
      ],
      "metadata": {
        "id": "YIPSjjLGcbyd"
      },
      "execution_count": 61,
      "outputs": []
    },
    {
      "cell_type": "code",
      "source": [
        "def get_model():\n",
        "  model = nn.Sequential(nn.Linear(m,nh), nn.ReLU(), nn.Linear(nh,10))\n",
        "  return model, optim.SGD(model.parameters(), lr=lr)"
      ],
      "metadata": {
        "id": "TTpg-pPmcixy"
      },
      "execution_count": 62,
      "outputs": []
    },
    {
      "cell_type": "code",
      "source": [
        "model,opt = get_model()\n",
        "#loss_func(model(xb),yb)"
      ],
      "metadata": {
        "id": "3-fbmd4Odsfy"
      },
      "execution_count": 63,
      "outputs": []
    },
    {
      "cell_type": "code",
      "source": [
        "for epoch in range(epochs):\n",
        "  for i in range(0,n,bs):\n",
        "    s = slice(i, min(n, i+bs))\n",
        "    xb,yb = x_train[s], y_train[s]\n",
        "    preds = model(xb)\n",
        "    loss = loss_func(preds, yb)\n",
        "    loss.backward()\n",
        "    opt.step()\n",
        "    opt.zero_grad()\n",
        "  report(loss, preds,yb)"
      ],
      "metadata": {
        "colab": {
          "base_uri": "https://localhost:8080/"
        },
        "id": "18uSh6Pkd7R2",
        "outputId": "c887a3d9-b2a8-40db-cc83-b7f688f20da5"
      },
      "execution_count": 64,
      "outputs": [
        {
          "output_type": "stream",
          "name": "stdout",
          "text": [
            "0.29, 0.94\n",
            "0.16, 0.94\n",
            "0.05, 1.00\n"
          ]
        }
      ]
    },
    {
      "cell_type": "markdown",
      "source": [
        "## Datasets\n",
        "\n",
        "we were iterating the mini-batches with xb,yb = x_train[s],y_train[s], we can facterize the code to:\n",
        " xb,yb =x_train[s] by using the Dataset class"
      ],
      "metadata": {
        "id": "ydI69AnXe5X_"
      }
    },
    {
      "cell_type": "code",
      "source": [
        "class Dataset():\n",
        "  def __init__(self,x,y): self.x, self.y = x,y\n",
        "  def __len__(self): return len(self.x)\n",
        "  def __getitem__(self,i): return self.x[i], self.y[i]"
      ],
      "metadata": {
        "id": "AIf8_qsoeFJ_"
      },
      "execution_count": 65,
      "outputs": []
    },
    {
      "cell_type": "code",
      "source": [
        "train_ds,valid_ds = Dataset(x_train,y_train), Dataset(x_valid, y_valid)\n",
        "assert len(train_ds) == len(x_train)\n",
        "assert len(valid_ds) == len(x_valid)"
      ],
      "metadata": {
        "id": "9v_Li19Ofdz9"
      },
      "execution_count": 66,
      "outputs": []
    },
    {
      "cell_type": "code",
      "source": [
        "xb,yb = train_ds[0:5]\n",
        "assert xb.shape == (5, 28*28)\n",
        "assert yb.shape == (5,)\n",
        "xb,yb"
      ],
      "metadata": {
        "colab": {
          "base_uri": "https://localhost:8080/"
        },
        "id": "p6Z1LaDaf4In",
        "outputId": "5050e17b-f36f-419b-de41-f16b1da93749"
      },
      "execution_count": 67,
      "outputs": [
        {
          "output_type": "execute_result",
          "data": {
            "text/plain": [
              "(tensor([[0., 0., 0.,  ..., 0., 0., 0.],\n",
              "         [0., 0., 0.,  ..., 0., 0., 0.],\n",
              "         [0., 0., 0.,  ..., 0., 0., 0.],\n",
              "         [0., 0., 0.,  ..., 0., 0., 0.],\n",
              "         [0., 0., 0.,  ..., 0., 0., 0.]]),\n",
              " tensor([5, 0, 4, 1, 9]))"
            ]
          },
          "metadata": {},
          "execution_count": 67
        }
      ]
    },
    {
      "cell_type": "code",
      "source": [
        "model,opt = get_model()"
      ],
      "metadata": {
        "id": "IQSsozOzgN74"
      },
      "execution_count": 68,
      "outputs": []
    },
    {
      "cell_type": "code",
      "source": [
        "for epoch in range(epochs):\n",
        "  for i in range(0,n,bs):\n",
        "    xb,yb = train_ds[i:min(n,i+bs)]\n",
        "    preds = model(xb)\n",
        "    loss = loss_func(preds,yb)\n",
        "    loss.backward()\n",
        "    opt.step()\n",
        "    opt.zero_grad()\n",
        "  report(loss,preds,yb)"
      ],
      "metadata": {
        "colab": {
          "base_uri": "https://localhost:8080/"
        },
        "id": "cqJqAJrIgbqF",
        "outputId": "24571691-ecb9-4e09-c139-6c292b123625"
      },
      "execution_count": 69,
      "outputs": [
        {
          "output_type": "stream",
          "name": "stdout",
          "text": [
            "0.25, 0.88\n",
            "0.07, 1.00\n",
            "0.08, 0.94\n"
          ]
        }
      ]
    },
    {
      "cell_type": "code",
      "source": [
        "len(train_ds)"
      ],
      "metadata": {
        "colab": {
          "base_uri": "https://localhost:8080/"
        },
        "id": "dU1bd1BZg7hj",
        "outputId": "4bc66da6-de8b-44a4-866b-eba94933fcbd"
      },
      "execution_count": 70,
      "outputs": [
        {
          "output_type": "execute_result",
          "data": {
            "text/plain": [
              "50000"
            ]
          },
          "metadata": {},
          "execution_count": 70
        }
      ]
    },
    {
      "cell_type": "markdown",
      "source": [
        "## DataLoader"
      ],
      "metadata": {
        "id": "uyY3E70972Jq"
      }
    },
    {
      "cell_type": "code",
      "source": [
        "xb.shape, yb.shape"
      ],
      "metadata": {
        "colab": {
          "base_uri": "https://localhost:8080/"
        },
        "id": "l3WOvU31udp6",
        "outputId": "1fdad949-60e7-424f-cc0c-424eeb087c15"
      },
      "execution_count": 71,
      "outputs": [
        {
          "output_type": "execute_result",
          "data": {
            "text/plain": [
              "(torch.Size([16, 784]), torch.Size([16]))"
            ]
          },
          "metadata": {},
          "execution_count": 71
        }
      ]
    },
    {
      "cell_type": "code",
      "source": [
        "class DataLoader():\n",
        "  def __init__(self,ds,bs): self.ds, self.bs = ds,bs\n",
        "  def __iter__(self):\n",
        "    for i in range(0, len(self.ds), self.bs): yield self.ds[i:i+self.bs]"
      ],
      "metadata": {
        "id": "uR7yqk9LhAZ9"
      },
      "execution_count": 72,
      "outputs": []
    },
    {
      "cell_type": "code",
      "source": [
        "train_dl = DataLoader(train_ds,bs)\n",
        "valid_dl = DataLoader(valid_ds,bs)"
      ],
      "metadata": {
        "id": "n_AuE2MY8iRl"
      },
      "execution_count": 73,
      "outputs": []
    },
    {
      "cell_type": "code",
      "source": [
        "xb,yb = next(iter(valid_dl))\n",
        "xb.shape,yb.shape"
      ],
      "metadata": {
        "colab": {
          "base_uri": "https://localhost:8080/"
        },
        "id": "RE_OibFW8wGp",
        "outputId": "b0d8d0a7-ffdc-4872-b8c7-c565542b07a5"
      },
      "execution_count": 74,
      "outputs": [
        {
          "output_type": "execute_result",
          "data": {
            "text/plain": [
              "(torch.Size([64, 784]), torch.Size([64]))"
            ]
          },
          "metadata": {},
          "execution_count": 74
        }
      ]
    },
    {
      "cell_type": "code",
      "source": [
        "yb"
      ],
      "metadata": {
        "colab": {
          "base_uri": "https://localhost:8080/"
        },
        "id": "jTevjVcL86Wd",
        "outputId": "fa2b355e-1119-4dff-a680-0e34a1ba28d3"
      },
      "execution_count": 75,
      "outputs": [
        {
          "output_type": "execute_result",
          "data": {
            "text/plain": [
              "tensor([3, 8, 6, 9, 6, 4, 5, 3, 8, 4, 5, 2, 3, 8, 4, 8, 1, 5, 0, 5, 9, 7, 4, 1, 0, 3, 0, 6, 2, 9, 9, 4, 1, 3, 6, 8, 0, 7, 7,\n",
              "        6, 8, 9, 0, 3, 8, 3, 7, 7, 8, 4, 4, 1, 2, 9, 8, 1, 1, 0, 6, 6, 5, 0, 1, 1])"
            ]
          },
          "metadata": {},
          "execution_count": 75
        }
      ]
    },
    {
      "cell_type": "code",
      "source": [
        "plt.imshow(xb[0].view(28,28))\n",
        "yb[2]"
      ],
      "metadata": {
        "colab": {
          "base_uri": "https://localhost:8080/",
          "height": 467
        },
        "id": "Lkkp1bA69Q3C",
        "outputId": "8f9a07da-3e92-490d-97fd-ae0691f640fc"
      },
      "execution_count": 76,
      "outputs": [
        {
          "output_type": "execute_result",
          "data": {
            "text/plain": [
              "tensor(6)"
            ]
          },
          "metadata": {},
          "execution_count": 76
        },
        {
          "output_type": "display_data",
          "data": {
            "text/plain": [
              "<Figure size 640x480 with 1 Axes>"
            ],
            "image/png": "[encoded data removed]"
          },
          "metadata": {}
        }
      ]
    },
    {
      "cell_type": "code",
      "source": [
        "model,opt = get_model()"
      ],
      "metadata": {
        "id": "307zTfIO9eeO"
      },
      "execution_count": 77,
      "outputs": []
    },
    {
      "cell_type": "code",
      "source": [
        "def fit():\n",
        "  for epoch in range(epochs):\n",
        "    for xb,yb in train_dl:\n",
        "      #import pdb; pdb.set_trace()\n",
        "      preds = model(xb)\n",
        "      loss = loss_func(preds,yb)\n",
        "      loss.backward()\n",
        "      opt.step()\n",
        "      opt.zero_grad()\n",
        "    report(loss,preds,yb)"
      ],
      "metadata": {
        "id": "zikUxcnqytTC"
      },
      "execution_count": 78,
      "outputs": []
    },
    {
      "cell_type": "code",
      "source": [
        "fit()\n",
        "loss_func(model(xb),yb),accuracy(model(xb),yb)"
      ],
      "metadata": {
        "colab": {
          "base_uri": "https://localhost:8080/"
        },
        "id": "yRJy2qRfzZ2e",
        "outputId": "0ca3b88c-be24-4aaa-b043-ffd5b2eef903"
      },
      "execution_count": 79,
      "outputs": [
        {
          "output_type": "stream",
          "name": "stdout",
          "text": [
            "0.38, 0.88\n",
            "0.08, 1.00\n",
            "0.05, 1.00\n"
          ]
        },
        {
          "output_type": "execute_result",
          "data": {
            "text/plain": [
              "(tensor(0.02, grad_fn=<NllLossBackward0>), tensor(1.))"
            ]
          },
          "metadata": {},
          "execution_count": 79
        }
      ]
    },
    {
      "cell_type": "markdown",
      "source": [
        "## Random Sampling"
      ],
      "metadata": {
        "id": "w4OpX66a0gzY"
      }
    },
    {
      "cell_type": "code",
      "source": [
        "import random\n",
        "from itertools import islice"
      ],
      "metadata": {
        "id": "Kp4f1Q1KzmuH"
      },
      "execution_count": 80,
      "outputs": []
    },
    {
      "cell_type": "code",
      "source": [
        "class Sampler():\n",
        "  def __init__(self, ds, shuffle=False): self.n, self.shuffle = len(ds), shuffle\n",
        "  def __iter__(self):\n",
        "    res = list(range(self.n))\n",
        "    if self.shuffle: random.shuffle(res)\n",
        "    return iter(res)"
      ],
      "metadata": {
        "id": "TXz2M47o0mgr"
      },
      "execution_count": 81,
      "outputs": []
    },
    {
      "cell_type": "code",
      "source": [
        "ss = Sampler(train_ds)"
      ],
      "metadata": {
        "id": "lTETOreB1Rq9"
      },
      "execution_count": 82,
      "outputs": []
    },
    {
      "cell_type": "code",
      "source": [
        "it = iter(ss)\n",
        "for o in range(5): print(next(it))"
      ],
      "metadata": {
        "colab": {
          "base_uri": "https://localhost:8080/"
        },
        "id": "yeYTy4_Q1Xmi",
        "outputId": "40010d32-ae11-4401-f358-192194a521a5"
      },
      "execution_count": 83,
      "outputs": [
        {
          "output_type": "stream",
          "name": "stdout",
          "text": [
            "0\n",
            "1\n",
            "2\n",
            "3\n",
            "4\n"
          ]
        }
      ]
    },
    {
      "cell_type": "code",
      "source": [
        "list(islice(ss,5))"
      ],
      "metadata": {
        "colab": {
          "base_uri": "https://localhost:8080/"
        },
        "id": "Bmc5Q99p1p7V",
        "outputId": "0d3c5a5e-36ea-4818-9f3c-6ddf86b8deb7"
      },
      "execution_count": 84,
      "outputs": [
        {
          "output_type": "execute_result",
          "data": {
            "text/plain": [
              "[0, 1, 2, 3, 4]"
            ]
          },
          "metadata": {},
          "execution_count": 84
        }
      ]
    },
    {
      "cell_type": "code",
      "source": [
        "ss = Sampler(train_ds, shuffle=True)\n",
        "list(islice(ss,5))"
      ],
      "metadata": {
        "colab": {
          "base_uri": "https://localhost:8080/"
        },
        "id": "OlEPscnb12UY",
        "outputId": "43e3c4ab-8732-4482-88d6-93d9a0765edb"
      },
      "execution_count": 85,
      "outputs": [
        {
          "output_type": "execute_result",
          "data": {
            "text/plain": [
              "[32811, 31517, 23304, 7379, 23865]"
            ]
          },
          "metadata": {},
          "execution_count": 85
        }
      ]
    },
    {
      "cell_type": "code",
      "source": [
        "import fastcore.all as fc"
      ],
      "metadata": {
        "id": "ANl57nQ02Bbu"
      },
      "execution_count": 86,
      "outputs": []
    },
    {
      "cell_type": "code",
      "source": [
        "class BatchSampler():\n",
        "  def __init__(self, sampler, bs, drop_last=False): fc.store_attr()\n",
        "    #self.sampler,self.bs, self.drop_last =sampler,bs,drop_last\n",
        "  def __iter__(self): yield from fc.chunked(iter(self.sampler), self.bs, drop_last = self.drop_last)"
      ],
      "metadata": {
        "id": "bTAtHpw9PkRu"
      },
      "execution_count": 87,
      "outputs": []
    },
    {
      "cell_type": "code",
      "source": [
        "Batchs = BatchSampler(ss,4)\n",
        "list(islice(Batchs,5))"
      ],
      "metadata": {
        "colab": {
          "base_uri": "https://localhost:8080/"
        },
        "id": "fT4DI2xcQzwH",
        "outputId": "483b9c2d-9737-40e1-88bb-65d2235a2e38"
      },
      "execution_count": 88,
      "outputs": [
        {
          "output_type": "execute_result",
          "data": {
            "text/plain": [
              "[[25450, 16026, 32504, 13725],\n",
              " [36391, 36035, 49017, 19248],\n",
              " [46973, 8075, 1258, 13870],\n",
              " [40010, 19340, 1464, 14201],\n",
              " [16234, 4916, 21008, 15139]]"
            ]
          },
          "metadata": {},
          "execution_count": 88
        }
      ]
    },
    {
      "cell_type": "code",
      "source": [
        "def collate(b):\n",
        "  xs,ys = zip(*b)\n",
        "  return torch.stack(xs),torch.stack(ys)"
      ],
      "metadata": {
        "id": "R61z0eeKRHeR"
      },
      "execution_count": 89,
      "outputs": []
    },
    {
      "cell_type": "code",
      "source": [
        "class DataLoader():\n",
        "  def __init__(self,ds, batchs, collate_fn=collate): fc.store_attr()\n",
        "  def __iter__(self): yield from (self.collate_fn(self.ds[i] for i in b) for b in self.batchs)"
      ],
      "metadata": {
        "id": "tPoDNexA1odS"
      },
      "execution_count": 90,
      "outputs": []
    },
    {
      "cell_type": "code",
      "source": [
        "train_samp = BatchSampler(Sampler(train_ds, shuffle=True),bs)\n",
        "valid_samp = BatchSampler(Sampler(valid_ds, shuffle=False),bs)"
      ],
      "metadata": {
        "id": "0NTqBfIv3B4A"
      },
      "execution_count": 91,
      "outputs": []
    },
    {
      "cell_type": "code",
      "source": [
        "train_dl = DataLoader(train_ds, batchs=train_samp)\n",
        "valid_dl = DataLoader(valid_ds, batchs=valid_samp)"
      ],
      "metadata": {
        "id": "GMkXTD0P7NZU"
      },
      "execution_count": 92,
      "outputs": []
    },
    {
      "cell_type": "code",
      "source": [
        "xb,yb = next(iter(valid_dl))\n",
        "plt.imshow(xb[0].view(28,28))\n",
        "yb[0]"
      ],
      "metadata": {
        "colab": {
          "base_uri": "https://localhost:8080/",
          "height": 467
        },
        "id": "k7r-UIB07wY6",
        "outputId": "49641091-080b-44fc-8673-1aa0a18e0950"
      },
      "execution_count": 93,
      "outputs": [
        {
          "output_type": "execute_result",
          "data": {
            "text/plain": [
              "tensor(3)"
            ]
          },
          "metadata": {},
          "execution_count": 93
        },
        {
          "output_type": "display_data",
          "data": {
            "text/plain": [
              "<Figure size 640x480 with 1 Axes>"
            ],
            "image/png": "[encoded data removed]"
          },
          "metadata": {}
        }
      ]
    },
    {
      "cell_type": "markdown",
      "source": [
        "## Multiprocessing Dataloader"
      ],
      "metadata": {
        "id": "DHZ0URa6v-72"
      }
    },
    {
      "cell_type": "code",
      "source": [
        "import torch.multiprocessing as mp\n",
        "from fastcore.basics import store_attr"
      ],
      "metadata": {
        "id": "-V-ISZX58L8s"
      },
      "execution_count": 94,
      "outputs": []
    },
    {
      "cell_type": "code",
      "source": [
        "train_ds[[3,6,8,1]]"
      ],
      "metadata": {
        "colab": {
          "base_uri": "https://localhost:8080/"
        },
        "id": "x5JNrCyYwS_3",
        "outputId": "41c15c89-405b-4780-fc37-3069c405b424"
      },
      "execution_count": 95,
      "outputs": [
        {
          "output_type": "execute_result",
          "data": {
            "text/plain": [
              "(tensor([[0., 0., 0.,  ..., 0., 0., 0.],\n",
              "         [0., 0., 0.,  ..., 0., 0., 0.],\n",
              "         [0., 0., 0.,  ..., 0., 0., 0.],\n",
              "         [0., 0., 0.,  ..., 0., 0., 0.]]),\n",
              " tensor([1, 1, 1, 0]))"
            ]
          },
          "metadata": {},
          "execution_count": 95
        }
      ]
    },
    {
      "cell_type": "code",
      "source": [
        "train_ds.__getitem__([3,6,8,1])"
      ],
      "metadata": {
        "colab": {
          "base_uri": "https://localhost:8080/"
        },
        "id": "RF2EzAm2wYYR",
        "outputId": "6c6bd414-9e2d-4d72-c0b5-2b406eca702c"
      },
      "execution_count": 96,
      "outputs": [
        {
          "output_type": "execute_result",
          "data": {
            "text/plain": [
              "(tensor([[0., 0., 0.,  ..., 0., 0., 0.],\n",
              "         [0., 0., 0.,  ..., 0., 0., 0.],\n",
              "         [0., 0., 0.,  ..., 0., 0., 0.],\n",
              "         [0., 0., 0.,  ..., 0., 0., 0.]]),\n",
              " tensor([1, 1, 1, 0]))"
            ]
          },
          "metadata": {},
          "execution_count": 96
        }
      ]
    },
    {
      "cell_type": "code",
      "source": [
        "for o in map(train_ds.__getitem__,([3,6],[8,1])): print(o)"
      ],
      "metadata": {
        "colab": {
          "base_uri": "https://localhost:8080/"
        },
        "id": "wICZki73wfMc",
        "outputId": "bd04ae12-bee8-4577-a77c-5ed7e081b9d4"
      },
      "execution_count": 97,
      "outputs": [
        {
          "output_type": "stream",
          "name": "stdout",
          "text": [
            "(tensor([[0., 0., 0.,  ..., 0., 0., 0.],\n",
            "        [0., 0., 0.,  ..., 0., 0., 0.]]), tensor([1, 1]))\n",
            "(tensor([[0., 0., 0.,  ..., 0., 0., 0.],\n",
            "        [0., 0., 0.,  ..., 0., 0., 0.]]), tensor([1, 0]))\n"
          ]
        }
      ]
    },
    {
      "cell_type": "code",
      "source": [
        "class DataLoader():\n",
        "  def __init__(self,ds,batchs, n_workers=1,collate_fn=collate): fc.store_attr()\n",
        "  def __iter__(self):\n",
        "    with mp.Pool(self.n_workers) as ex: yield from ex.map(self.ds.__getitem__,iter(self.batchs))"
      ],
      "metadata": {
        "id": "F_IzM1t9w35W"
      },
      "execution_count": 98,
      "outputs": []
    },
    {
      "cell_type": "code",
      "source": [
        "train_dl = DataLoader(train_ds,train_samp, n_workers=2)\n",
        "it = iter(train_dl)"
      ],
      "metadata": {
        "id": "MNAD1CgByJwQ"
      },
      "execution_count": 99,
      "outputs": []
    },
    {
      "cell_type": "code",
      "source": [
        "xb,yb = next(it)\n",
        "xb.shape, yb.shape"
      ],
      "metadata": {
        "colab": {
          "base_uri": "https://localhost:8080/"
        },
        "id": "fG4il689ygnq",
        "outputId": "d70aafbb-6b87-4217-a741-285257d58ed6"
      },
      "execution_count": 100,
      "outputs": [
        {
          "output_type": "execute_result",
          "data": {
            "text/plain": [
              "(torch.Size([64, 784]), torch.Size([64]))"
            ]
          },
          "metadata": {},
          "execution_count": 100
        }
      ]
    },
    {
      "cell_type": "markdown",
      "source": [
        "### Pytorch DataLoader"
      ],
      "metadata": {
        "id": "Bdy_jNuw0ZPg"
      }
    },
    {
      "cell_type": "code",
      "source": [
        "from torch.utils.data import DataLoader, SequentialSampler, RandomSampler, BatchSampler"
      ],
      "metadata": {
        "id": "Tq8X1XqWyn6T"
      },
      "execution_count": 101,
      "outputs": []
    },
    {
      "cell_type": "code",
      "source": [
        "train_samp = BatchSampler(RandomSampler(train_ds),     bs, drop_last=False)\n",
        "valid_samp = BatchSampler(SequentialSampler(valid_ds), bs, drop_last=False)"
      ],
      "metadata": {
        "id": "A-I8apiZ0phi"
      },
      "execution_count": 102,
      "outputs": []
    },
    {
      "cell_type": "code",
      "source": [
        "train_dl = DataLoader(train_ds, batch_sampler=train_samp, collate_fn=collate)\n",
        "valid_dl = DataLoader(valid_ds, batch_sampler=valid_samp, collate_fn=collate)"
      ],
      "metadata": {
        "id": "Vk6Wlazy1Hc6"
      },
      "execution_count": 103,
      "outputs": []
    },
    {
      "cell_type": "code",
      "source": [
        "model,opt = get_model()\n",
        "fit()\n",
        "loss_func(model(xb),yb),accuracy(model(xb),yb)"
      ],
      "metadata": {
        "colab": {
          "base_uri": "https://localhost:8080/"
        },
        "id": "1Xpasywb1sAO",
        "outputId": "02e96455-01f8-4a6f-d63a-766ff49ae494"
      },
      "execution_count": 104,
      "outputs": [
        {
          "output_type": "stream",
          "name": "stdout",
          "text": [
            "0.04, 1.00\n",
            "0.42, 0.94\n",
            "0.22, 0.94\n"
          ]
        },
        {
          "output_type": "execute_result",
          "data": {
            "text/plain": [
              "(tensor(0.34, grad_fn=<NllLossBackward0>), tensor(0.91))"
            ]
          },
          "metadata": {},
          "execution_count": 104
        }
      ]
    },
    {
      "cell_type": "markdown",
      "source": [
        "Pytorch can Autogenerate the BatchSampler for Us: instead of calling one by one we can do it in one."
      ],
      "metadata": {
        "id": "MkOiPyaG4Qdz"
      }
    },
    {
      "cell_type": "code",
      "source": [
        "train_dl = DataLoader(train_ds,bs, sampler=RandomSampler(train_ds), collate_fn=collate)\n",
        "valid_dl = DataLoader(valid_ds, bs, sampler=SequentialSampler(valid_ds), collate_fn=collate)"
      ],
      "metadata": {
        "id": "Y6lT3nQR17Et"
      },
      "execution_count": 105,
      "outputs": []
    },
    {
      "cell_type": "markdown",
      "source": [
        "pytorch can also Autogenerate SequentialSampler/RandomSampler"
      ],
      "metadata": {
        "id": "Kzye-AhM5LR0"
      }
    },
    {
      "cell_type": "code",
      "source": [
        "train_dl = DataLoader(train_ds, bs, shuffle=True, drop_last=True, num_workers=2)\n",
        "valid_dl = DataLoader(valid_ds, bs, shuffle=False, num_workers=2)"
      ],
      "metadata": {
        "id": "8MSa-1zj5Huo"
      },
      "execution_count": 106,
      "outputs": []
    },
    {
      "cell_type": "code",
      "source": [
        "model,opt = get_model()\n",
        "fit()\n",
        "loss_func(model(xb),yb), accuracy(model(xb),yb)"
      ],
      "metadata": {
        "colab": {
          "base_uri": "https://localhost:8080/"
        },
        "id": "wdS2jNMK5tfg",
        "outputId": "81f5b250-8473-4f1f-e99b-d9d507874c7f"
      },
      "execution_count": 107,
      "outputs": [
        {
          "output_type": "stream",
          "name": "stdout",
          "text": [
            "0.14, 0.97\n",
            "0.11, 0.95\n",
            "0.02, 1.00\n"
          ]
        },
        {
          "output_type": "execute_result",
          "data": {
            "text/plain": [
              "(tensor(0.12, grad_fn=<NllLossBackward0>), tensor(0.95))"
            ]
          },
          "metadata": {},
          "execution_count": 107
        }
      ]
    },
    {
      "cell_type": "code",
      "source": [
        "train_ds[[4,6,7]]"
      ],
      "metadata": {
        "colab": {
          "base_uri": "https://localhost:8080/"
        },
        "id": "3jhu8M9O5-Rv",
        "outputId": "6c139db8-2a5e-49fd-a50c-25e2f85ad569"
      },
      "execution_count": 108,
      "outputs": [
        {
          "output_type": "execute_result",
          "data": {
            "text/plain": [
              "(tensor([[0., 0., 0.,  ..., 0., 0., 0.],\n",
              "         [0., 0., 0.,  ..., 0., 0., 0.],\n",
              "         [0., 0., 0.,  ..., 0., 0., 0.]]),\n",
              " tensor([9, 1, 3]))"
            ]
          },
          "metadata": {},
          "execution_count": 108
        }
      ]
    },
    {
      "cell_type": "code",
      "source": [
        "train_dl = DataLoader(train_ds, sampler=train_samp)\n",
        "valid_dl = DataLoader(valid_ds, sampler=valid_samp)"
      ],
      "metadata": {
        "id": "FVtp_DQWLdmx"
      },
      "execution_count": 109,
      "outputs": []
    },
    {
      "cell_type": "code",
      "source": [
        "xb,yb = next(iter(train_dl))\n",
        "xb.shape,yb.shape"
      ],
      "metadata": {
        "id": "MNnetbBULyZT",
        "outputId": "a2a3d1f9-3600-4de5-c45a-6713934c5d06",
        "colab": {
          "base_uri": "https://localhost:8080/"
        }
      },
      "execution_count": 110,
      "outputs": [
        {
          "output_type": "execute_result",
          "data": {
            "text/plain": [
              "(torch.Size([1, 64, 784]), torch.Size([1, 64]))"
            ]
          },
          "metadata": {},
          "execution_count": 110
        }
      ]
    },
    {
      "cell_type": "markdown",
      "source": [
        "### Validation set"
      ],
      "metadata": {
        "id": "x2wEgMIEQmjM"
      }
    },
    {
      "cell_type": "code",
      "source": [
        "def fit(epochs, model,loss_func,opt, train_dl, valid_dl):\n",
        "  for epoch in range(epochs):\n",
        "      model.train()\n",
        "      for xb,yb in train_dl:\n",
        "        loss = loss_func(model(xb),yb)\n",
        "        loss.backward()\n",
        "        opt.step()\n",
        "        opt.zero_grad()\n",
        "\n",
        "      model.eval()\n",
        "      with torch.no_grad():\n",
        "        tot_loss, tot_acc, count = 0.,0.,0.\n",
        "        for xb,yb in valid_dl:\n",
        "          pred = model(xb)\n",
        "          n = len(xb)\n",
        "          count += n\n",
        "          tot_loss += loss_func(pred,yb).item()*n\n",
        "          tot_acc += accuracy(pred,yb).item()*n\n",
        "        print(epoch, tot_loss/count, tot_acc/count)\n",
        "  return tot_loss/count, tot_acc/count"
      ],
      "metadata": {
        "id": "N8K9HmlQL7c8"
      },
      "execution_count": 118,
      "outputs": []
    },
    {
      "cell_type": "code",
      "source": [
        "def get_dls(train_ds, valid_ds,bs, **kwargs):\n",
        "  return (DataLoader(train_ds, batch_size=bs, shuffle=True, **kwargs),\n",
        "          DataLoader(valid_ds, batch_size=bs*2, **kwargs))"
      ],
      "metadata": {
        "id": "eFPBFcrhSqCh"
      },
      "execution_count": 119,
      "outputs": []
    },
    {
      "cell_type": "code",
      "source": [
        "train_dl, valid_dl = get_dls(train_ds, valid_ds, bs)\n",
        "model, opt = get_model()\n",
        "loss, acc = fit(5,model, loss_func,opt,train_dl, valid_dl)"
      ],
      "metadata": {
        "id": "Q-0WBWUBTP-v",
        "outputId": "27c107b8-fc31-446a-ddf1-f32b07157842",
        "colab": {
          "base_uri": "https://localhost:8080/"
        }
      },
      "execution_count": 120,
      "outputs": [
        {
          "output_type": "stream",
          "name": "stdout",
          "text": [
            "0 0.48224151482582095 0.837\n",
            "1 0.1537592447683215 0.9521\n",
            "2 0.11600150457322597 0.966\n",
            "3 0.22279245525673033 0.9362\n",
            "4 0.10532830191776156 0.9711\n"
          ]
        }
      ]
    },
    {
      "cell_type": "code",
      "source": [],
      "metadata": {
        "id": "RKY0MZ2OTwn1"
      },
      "execution_count": null,
      "outputs": []
    }
  ],
  "metadata": {
    "language_info": {
      "name": "python"
    },
    "orig_nbformat": 4,
    "colab": {
      "provenance": []
    },
    "kernelspec": {
      "name": "python3",
      "display_name": "Python 3"
    }
  },
  "nbformat": 4,
  "nbformat_minor": 0
}