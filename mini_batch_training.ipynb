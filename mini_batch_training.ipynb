{
  "cells": [
    {
      "cell_type": "code",
      "execution_count": 1,
      "metadata": {
        "id": "-FGhTunJWBhV"
      },
      "outputs": [],
      "source": [
        "import pickle,gzip,math,os,time,shutil,torch,matplotlib as mpl, numpy as np,matplotlib.pyplot as plt\n",
        "from pathlib import Path\n",
        "from torch import tensor,nn\n",
        "import torch.nn.functional as F\n",
        "from fastcore.test import test_close\n",
        "from urllib.request import urlretrieve\n",
        "#torch.manual_seed(42)\n",
        "\n",
        "mpl.rcParams['image.cmap'] = 'gray'\n",
        "torch.set_printoptions(precision=2, linewidth=125, sci_mode=False)\n",
        "np.set_printoptions(precision=2, linewidth=125)\n",
        "\n",
        "MNIST_URL='https://github.com/mnielsen/neural-networks-and-deep-learning/blob/master/data/mnist.pkl.gz?raw=true'\n",
        "path_data = Path('data')\n",
        "path_data.mkdir(exist_ok=True)\n",
        "path_gz = path_data/'mnist.pkl.gz'\n",
        "\n",
        "if not path_gz.exists(): urlretrieve(MNIST_URL, path_gz)\n",
        "path_data = Path('data')\n",
        "path_gz = path_data/'mnist.pkl.gz'\n",
        "with gzip.open(path_gz, 'rb') as f: ((x_train, y_train), (x_valid, y_valid), _) = pickle.load(f, encoding='latin-1')\n",
        "x_train, y_train, x_valid, y_valid = map(tensor, [x_train, y_train, x_valid, y_valid])"
      ]
    },
    {
      "cell_type": "markdown",
      "source": [
        "## setup\n"
      ],
      "metadata": {
        "id": "n6cggNijWYRl"
      }
    },
    {
      "cell_type": "code",
      "source": [
        "n,m = x_train.shape\n",
        "c = y_train.max() +1\n",
        "nh = 50\n",
        "n,m,c"
      ],
      "metadata": {
        "id": "MlCRCeHbWHSF",
        "outputId": "61a72ae3-a28c-4eef-b484-665e35dee5c2",
        "colab": {
          "base_uri": "https://localhost:8080/"
        }
      },
      "execution_count": 2,
      "outputs": [
        {
          "output_type": "execute_result",
          "data": {
            "text/plain": [
              "(50000, 784, tensor(10))"
            ]
          },
          "metadata": {},
          "execution_count": 2
        }
      ]
    },
    {
      "cell_type": "code",
      "source": [
        "class Model(nn.Module):\n",
        "    def __init__(self, n_in, nh, n_out):\n",
        "        super().__init__()\n",
        "        self.layers = [nn.Linear(n_in,nh), nn.ReLU(), nn.Linear(nh,n_out)]\n",
        "\n",
        "    def __call__(self, x):\n",
        "        for l in self.layers: x = l(x)\n",
        "        return x"
      ],
      "metadata": {
        "id": "y3FXjL0FfK1F"
      },
      "execution_count": 3,
      "outputs": []
    },
    {
      "cell_type": "code",
      "source": [
        "model = Model(m,nh,10)\n",
        "pred = model(x_train)\n",
        "pred.shape"
      ],
      "metadata": {
        "id": "BIn5T5uhXFkM",
        "outputId": "e12a013e-b3b5-454f-a553-4b621b774c89",
        "colab": {
          "base_uri": "https://localhost:8080/"
        }
      },
      "execution_count": 4,
      "outputs": [
        {
          "output_type": "execute_result",
          "data": {
            "text/plain": [
              "torch.Size([50000, 10])"
            ]
          },
          "metadata": {},
          "execution_count": 4
        }
      ]
    },
    {
      "cell_type": "markdown",
      "source": [
        "## Cross Entropy loss"
      ],
      "metadata": {
        "id": "fRqIFpv3fd7h"
      }
    },
    {
      "cell_type": "code",
      "source": [
        "def log_softmax(x): return (x.exp() / (x.exp().sum(-1,keepdim=True))).log()"
      ],
      "metadata": {
        "id": "Zsr414Keev8N"
      },
      "execution_count": 5,
      "outputs": []
    },
    {
      "cell_type": "code",
      "source": [
        "log_softmax(pred)"
      ],
      "metadata": {
        "id": "FjMjQNh4f31J",
        "outputId": "e1017a0d-785b-4120-c2d3-d94724263508",
        "colab": {
          "base_uri": "https://localhost:8080/"
        }
      },
      "execution_count": 6,
      "outputs": [
        {
          "output_type": "execute_result",
          "data": {
            "text/plain": [
              "tensor([[-2.31, -2.51, -2.34,  ..., -2.53, -2.22, -2.27],\n",
              "        [-2.27, -2.52, -2.44,  ..., -2.53, -2.14, -2.20],\n",
              "        [-2.20, -2.42, -2.43,  ..., -2.44, -2.21, -2.25],\n",
              "        ...,\n",
              "        [-2.22, -2.45, -2.37,  ..., -2.53, -2.24, -2.31],\n",
              "        [-2.27, -2.43, -2.39,  ..., -2.45, -2.23, -2.24],\n",
              "        [-2.23, -2.49, -2.44,  ..., -2.54, -2.18, -2.19]], grad_fn=<LogBackward0>)"
            ]
          },
          "metadata": {},
          "execution_count": 6
        }
      ]
    },
    {
      "cell_type": "code",
      "source": [
        "def log_softmax(x): return x - x.exp().sum(-1,keepdim=True).log()"
      ],
      "metadata": {
        "id": "KyJd2BHFf85O"
      },
      "execution_count": 7,
      "outputs": []
    },
    {
      "cell_type": "code",
      "source": [
        "def logsumexp(x):\n",
        "  m = x.max(-1)[0]\n",
        "  return m + (x -m[:,None]).exp().sum(-1).log()"
      ],
      "metadata": {
        "id": "zWzPcNQsieWE"
      },
      "execution_count": 8,
      "outputs": []
    },
    {
      "cell_type": "code",
      "source": [
        "def log_softmax(x): return x - x.logsumexp(-1,keepdim=True)"
      ],
      "metadata": {
        "id": "AJ_nyaizDWr_"
      },
      "execution_count": 9,
      "outputs": []
    },
    {
      "cell_type": "code",
      "source": [
        "test_close(logsumexp(pred), pred.logsumexp(-1))\n",
        "sm_pred = log_softmax(pred)\n",
        "sm_pred"
      ],
      "metadata": {
        "id": "1CqYq_9GDy8d",
        "outputId": "26207762-61f8-4183-f28d-9549620b28a2",
        "colab": {
          "base_uri": "https://localhost:8080/"
        }
      },
      "execution_count": 10,
      "outputs": [
        {
          "output_type": "execute_result",
          "data": {
            "text/plain": [
              "tensor([[-2.31, -2.51, -2.34,  ..., -2.53, -2.22, -2.27],\n",
              "        [-2.27, -2.52, -2.44,  ..., -2.53, -2.14, -2.20],\n",
              "        [-2.20, -2.42, -2.43,  ..., -2.44, -2.21, -2.25],\n",
              "        ...,\n",
              "        [-2.22, -2.45, -2.37,  ..., -2.53, -2.24, -2.31],\n",
              "        [-2.27, -2.43, -2.39,  ..., -2.45, -2.23, -2.24],\n",
              "        [-2.23, -2.49, -2.44,  ..., -2.54, -2.18, -2.19]], grad_fn=<SubBackward0>)"
            ]
          },
          "metadata": {},
          "execution_count": 10
        }
      ]
    },
    {
      "cell_type": "code",
      "source": [
        "y_train[:3]"
      ],
      "metadata": {
        "id": "oUitMo8qUjl-",
        "outputId": "33764278-dc85-4f18-ad98-8ec971101b8d",
        "colab": {
          "base_uri": "https://localhost:8080/"
        }
      },
      "execution_count": 11,
      "outputs": [
        {
          "output_type": "execute_result",
          "data": {
            "text/plain": [
              "tensor([5, 0, 4])"
            ]
          },
          "metadata": {},
          "execution_count": 11
        }
      ]
    },
    {
      "cell_type": "code",
      "source": [
        "sm_pred[0,5], sm_pred[1,0], sm_pred[2,4]"
      ],
      "metadata": {
        "id": "JBghQE_dU6Fq",
        "outputId": "2304fc69-fd7e-462f-82f8-8c42524409d9",
        "colab": {
          "base_uri": "https://localhost:8080/"
        }
      },
      "execution_count": 12,
      "outputs": [
        {
          "output_type": "execute_result",
          "data": {
            "text/plain": [
              "(tensor(-2.13, grad_fn=<SelectBackward0>),\n",
              " tensor(-2.27, grad_fn=<SelectBackward0>),\n",
              " tensor(-2.09, grad_fn=<SelectBackward0>))"
            ]
          },
          "metadata": {},
          "execution_count": 12
        }
      ]
    },
    {
      "cell_type": "code",
      "source": [
        "sm_pred[[0,1,2], y_train[:3]]"
      ],
      "metadata": {
        "id": "t-FENRVzVGAv",
        "outputId": "6cadcb4a-68cc-4dfb-89a2-af1ebae940e7",
        "colab": {
          "base_uri": "https://localhost:8080/"
        }
      },
      "execution_count": 13,
      "outputs": [
        {
          "output_type": "execute_result",
          "data": {
            "text/plain": [
              "tensor([-2.13, -2.27, -2.09], grad_fn=<IndexBackward0>)"
            ]
          },
          "metadata": {},
          "execution_count": 13
        }
      ]
    },
    {
      "cell_type": "code",
      "source": [
        "def nll(input, target):return -input[range(target.shape[0]),target].mean()"
      ],
      "metadata": {
        "id": "frFMQ4SmVP_w"
      },
      "execution_count": 14,
      "outputs": []
    },
    {
      "cell_type": "code",
      "source": [
        "loss = nll(sm_pred, y_train)\n",
        "loss"
      ],
      "metadata": {
        "id": "em6aGebOW5rO",
        "outputId": "84b5e398-d567-4834-cf80-01be2c1ddd76",
        "colab": {
          "base_uri": "https://localhost:8080/"
        }
      },
      "execution_count": 15,
      "outputs": [
        {
          "output_type": "execute_result",
          "data": {
            "text/plain": [
              "tensor(2.32, grad_fn=<NegBackward0>)"
            ]
          },
          "metadata": {},
          "execution_count": 15
        }
      ]
    },
    {
      "cell_type": "code",
      "source": [
        "test_close(F.nll_loss(F.log_softmax(pred,-1), y_train),loss, 1e-3)"
      ],
      "metadata": {
        "id": "rnvJtdODY2_m"
      },
      "execution_count": 16,
      "outputs": []
    },
    {
      "cell_type": "code",
      "source": [
        "test_close(F.cross_entropy(pred,y_train),loss,1e-3)"
      ],
      "metadata": {
        "id": "l--99Dy2eV3L"
      },
      "execution_count": 17,
      "outputs": []
    },
    {
      "cell_type": "markdown",
      "source": [
        "## basic training Loop"
      ],
      "metadata": {
        "id": "liG3DB9cfmxn"
      }
    },
    {
      "cell_type": "code",
      "source": [
        "loss_func = F.cross_entropy"
      ],
      "metadata": {
        "id": "5HBrTCfpeo0K"
      },
      "execution_count": 18,
      "outputs": []
    },
    {
      "cell_type": "code",
      "source": [
        "bs=64        # batch size\n",
        "xb = x_train[0:bs]\n",
        "preds =model(xb)\n",
        "preds[0], preds.shape"
      ],
      "metadata": {
        "id": "temu2ERbe775",
        "outputId": "3d1f15f0-5bba-4515-a45f-0475499f844b",
        "colab": {
          "base_uri": "https://localhost:8080/"
        }
      },
      "execution_count": 19,
      "outputs": [
        {
          "output_type": "execute_result",
          "data": {
            "text/plain": [
              "(tensor([ 0.01, -0.19, -0.03, -0.10,  0.35,  0.18, -0.15, -0.22,  0.09,  0.04], grad_fn=<SelectBackward0>),\n",
              " torch.Size([64, 10]))"
            ]
          },
          "metadata": {},
          "execution_count": 19
        }
      ]
    },
    {
      "cell_type": "code",
      "source": [
        "yb = y_train[0:64]\n",
        "yb"
      ],
      "metadata": {
        "id": "D-sFD_MEicHi",
        "outputId": "5bd36432-72ed-4ddd-e0af-4f0844b840b8",
        "colab": {
          "base_uri": "https://localhost:8080/"
        }
      },
      "execution_count": 20,
      "outputs": [
        {
          "output_type": "execute_result",
          "data": {
            "text/plain": [
              "tensor([5, 0, 4, 1, 9, 2, 1, 3, 1, 4, 3, 5, 3, 6, 1, 7, 2, 8, 6, 9, 4, 0, 9, 1, 1, 2, 4, 3, 2, 7, 3, 8, 6, 9, 0, 5, 6, 0, 7,\n",
              "        6, 1, 8, 7, 9, 3, 9, 8, 5, 9, 3, 3, 0, 7, 4, 9, 8, 0, 9, 4, 1, 4, 4, 6, 0])"
            ]
          },
          "metadata": {},
          "execution_count": 20
        }
      ]
    },
    {
      "cell_type": "code",
      "source": [
        "loss_func(preds, yb)"
      ],
      "metadata": {
        "id": "AuBtNc2Bi4h-",
        "outputId": "295f56b7-c93e-4304-a10f-9eb3b349e32e",
        "colab": {
          "base_uri": "https://localhost:8080/"
        }
      },
      "execution_count": 21,
      "outputs": [
        {
          "output_type": "execute_result",
          "data": {
            "text/plain": [
              "tensor(2.33, grad_fn=<NllLossBackward0>)"
            ]
          },
          "metadata": {},
          "execution_count": 21
        }
      ]
    },
    {
      "cell_type": "code",
      "source": [
        "preds.argmax(dim=1)"
      ],
      "metadata": {
        "id": "qVMQhrQX7FQJ",
        "outputId": "f693f0ce-83d1-4c36-e9e9-c8b6f33f6776",
        "colab": {
          "base_uri": "https://localhost:8080/"
        }
      },
      "execution_count": 22,
      "outputs": [
        {
          "output_type": "execute_result",
          "data": {
            "text/plain": [
              "tensor([4, 4, 4, 4, 4, 4, 4, 4, 4, 4, 4, 5, 5, 4, 4, 4, 4, 4, 4, 4, 4, 4, 4, 4, 4, 4, 4, 4, 4, 8, 4, 4, 4, 4, 4, 4, 4, 4, 5,\n",
              "        4, 5, 4, 4, 4, 5, 4, 4, 4, 5, 4, 4, 4, 4, 4, 4, 8, 4, 4, 4, 4, 4, 4, 4, 4])"
            ]
          },
          "metadata": {},
          "execution_count": 22
        }
      ]
    },
    {
      "cell_type": "code",
      "source": [
        "def accuracy(out,yb): return (out.argmax(dim=1)==yb).float().mean()"
      ],
      "metadata": {
        "id": "g5Kht3hc-Fq1"
      },
      "execution_count": 23,
      "outputs": []
    },
    {
      "cell_type": "code",
      "source": [
        "accuracy(preds,yb)"
      ],
      "metadata": {
        "id": "Qf_Nxs9pAXGv",
        "outputId": "0dfb1471-cc4d-4e5d-8a7c-157b66f273b4",
        "colab": {
          "base_uri": "https://localhost:8080/"
        }
      },
      "execution_count": 24,
      "outputs": [
        {
          "output_type": "execute_result",
          "data": {
            "text/plain": [
              "tensor(0.16)"
            ]
          },
          "metadata": {},
          "execution_count": 24
        }
      ]
    },
    {
      "cell_type": "code",
      "source": [
        "lr=0.5\n",
        "epochs=3"
      ],
      "metadata": {
        "id": "SIyx_3m_AbKz"
      },
      "execution_count": 25,
      "outputs": []
    },
    {
      "cell_type": "code",
      "source": [
        "def report(loss, preds, yb): print(f'{loss:.2f}, {accuracy(preds, yb):.2f}')"
      ],
      "metadata": {
        "id": "_rHyycysEhBi"
      },
      "execution_count": 26,
      "outputs": []
    },
    {
      "cell_type": "code",
      "source": [
        "xb,yb = x_train[:bs],y_train[:bs]\n",
        "preds = model(xb)\n",
        "report(loss_func(preds, yb), preds, yb)"
      ],
      "metadata": {
        "id": "eaf8lDrlEpT4",
        "outputId": "9dbfa00b-a071-4630-f42b-220acfc7a502",
        "colab": {
          "base_uri": "https://localhost:8080/"
        }
      },
      "execution_count": 27,
      "outputs": [
        {
          "output_type": "stream",
          "name": "stdout",
          "text": [
            "2.33, 0.16\n"
          ]
        }
      ]
    },
    {
      "cell_type": "code",
      "source": [
        "for epoch in range(epochs):\n",
        "  for i in range(0,n,bs):\n",
        "    s = slice(i,min(n,i+bs))\n",
        "    xb,yb = x_train[s],y_train[s]\n",
        "    preds = model(xb)\n",
        "    loss = loss_func(preds,yb)\n",
        "    loss.backward()\n",
        "    if i==0:print(loss.item(), accuracy(preds,yb).item())\n",
        "    with torch.no_grad():\n",
        "      for l in model.layers:\n",
        "        if hasattr(l, 'weight'):\n",
        "          l.weight -= l.weight.grad*lr\n",
        "          l.bias   -= l.bias.grad   * lr\n",
        "          l.weight.grad.zero_()\n",
        "          l.bias.grad.zero_()\n",
        "\n",
        "  #report(loss,preds,yb)"
      ],
      "metadata": {
        "id": "0yelM5k7A9Ep",
        "outputId": "be5dcccc-ea0c-4528-d403-a1f401ace5fe",
        "colab": {
          "base_uri": "https://localhost:8080/"
        }
      },
      "execution_count": 28,
      "outputs": [
        {
          "output_type": "stream",
          "name": "stdout",
          "text": [
            "2.328364849090576 0.15625\n",
            "0.1482311487197876 0.96875\n",
            "0.08862613141536713 0.953125\n"
          ]
        }
      ]
    },
    {
      "cell_type": "markdown",
      "source": [
        "## Parameters and Optim\n",
        "\n",
        "#### Parameters"
      ],
      "metadata": {
        "id": "CgjjjqBpGWEL"
      }
    },
    {
      "cell_type": "code",
      "source": [
        "m1 = nn.Module()\n",
        "m1.foo = nn.Linear(3,4)\n",
        "m1"
      ],
      "metadata": {
        "id": "fZpgddBvDetR",
        "outputId": "fa5403b3-67d9-4739-ec80-b1338952733f",
        "colab": {
          "base_uri": "https://localhost:8080/"
        }
      },
      "execution_count": 29,
      "outputs": [
        {
          "output_type": "execute_result",
          "data": {
            "text/plain": [
              "Module(\n",
              "  (foo): Linear(in_features=3, out_features=4, bias=True)\n",
              ")"
            ]
          },
          "metadata": {},
          "execution_count": 29
        }
      ]
    },
    {
      "cell_type": "code",
      "source": [
        "(list(m1.named_children()))"
      ],
      "metadata": {
        "id": "LFHkrQmIGkJC",
        "outputId": "55bd449f-9515-42e7-a097-dd9432dd5bd3",
        "colab": {
          "base_uri": "https://localhost:8080/"
        }
      },
      "execution_count": 30,
      "outputs": [
        {
          "output_type": "execute_result",
          "data": {
            "text/plain": [
              "[('foo', Linear(in_features=3, out_features=4, bias=True))]"
            ]
          },
          "metadata": {},
          "execution_count": 30
        }
      ]
    },
    {
      "cell_type": "code",
      "source": [
        "m1.named_children()"
      ],
      "metadata": {
        "id": "l1YQerHlH_4M",
        "outputId": "c9aca4f4-e6f3-4ccd-9606-c9c923c54972",
        "colab": {
          "base_uri": "https://localhost:8080/"
        }
      },
      "execution_count": 31,
      "outputs": [
        {
          "output_type": "execute_result",
          "data": {
            "text/plain": [
              "<generator object Module.named_children at 0x7fb4174161f0>"
            ]
          },
          "metadata": {},
          "execution_count": 31
        }
      ]
    },
    {
      "cell_type": "code",
      "source": [
        "list(m1.parameters())"
      ],
      "metadata": {
        "id": "5cedLBkkIFJJ",
        "outputId": "6b4c87e4-6aa9-43f2-b0bd-4b23327253ca",
        "colab": {
          "base_uri": "https://localhost:8080/"
        }
      },
      "execution_count": 32,
      "outputs": [
        {
          "output_type": "execute_result",
          "data": {
            "text/plain": [
              "[Parameter containing:\n",
              " tensor([[-0.14, -0.09,  0.04],\n",
              "         [-0.14, -0.39, -0.37],\n",
              "         [-0.54, -0.39, -0.22],\n",
              "         [-0.03, -0.05,  0.24]], requires_grad=True),\n",
              " Parameter containing:\n",
              " tensor([-0.26, -0.21,  0.46, -0.08], requires_grad=True)]"
            ]
          },
          "metadata": {},
          "execution_count": 32
        }
      ]
    },
    {
      "cell_type": "code",
      "source": [
        "class MLP(nn.Module):\n",
        "  def __init__(self,n_in,nh,n_out):\n",
        "    super().__init__()\n",
        "    self.l1 = nn.Linear(n_in,nh)\n",
        "    self.l2 = nn.Linear(nh,n_out)\n",
        "    self.relu = nn.ReLU()\n",
        "\n",
        "  def forward(self,x): return self.l2(self.relu(self.l1(x)))"
      ],
      "metadata": {
        "id": "OQHtoCDfILE9"
      },
      "execution_count": 33,
      "outputs": []
    },
    {
      "cell_type": "code",
      "source": [
        "model = MLP(m,nh,10)\n",
        "model.l1"
      ],
      "metadata": {
        "id": "yGriIQ6eI_R6",
        "outputId": "33334783-0626-41ba-af15-e2d43639a44c",
        "colab": {
          "base_uri": "https://localhost:8080/"
        }
      },
      "execution_count": 34,
      "outputs": [
        {
          "output_type": "execute_result",
          "data": {
            "text/plain": [
              "Linear(in_features=784, out_features=50, bias=True)"
            ]
          },
          "metadata": {},
          "execution_count": 34
        }
      ]
    },
    {
      "cell_type": "code",
      "source": [
        "model"
      ],
      "metadata": {
        "id": "N4zaGc6tJHCe",
        "outputId": "cc9e568e-feb7-49f7-bde7-41573616ffbc",
        "colab": {
          "base_uri": "https://localhost:8080/"
        }
      },
      "execution_count": 35,
      "outputs": [
        {
          "output_type": "execute_result",
          "data": {
            "text/plain": [
              "MLP(\n",
              "  (l1): Linear(in_features=784, out_features=50, bias=True)\n",
              "  (l2): Linear(in_features=50, out_features=10, bias=True)\n",
              "  (relu): ReLU()\n",
              ")"
            ]
          },
          "metadata": {},
          "execution_count": 35
        }
      ]
    },
    {
      "cell_type": "code",
      "source": [
        "for name,l in model.named_children(): print(f'{name}: {l}')"
      ],
      "metadata": {
        "id": "TY-WAV1oN4PM",
        "outputId": "5fc74409-5940-4473-ee85-5b9083700f5e",
        "colab": {
          "base_uri": "https://localhost:8080/"
        }
      },
      "execution_count": 36,
      "outputs": [
        {
          "output_type": "stream",
          "name": "stdout",
          "text": [
            "l1: Linear(in_features=784, out_features=50, bias=True)\n",
            "l2: Linear(in_features=50, out_features=10, bias=True)\n",
            "relu: ReLU()\n"
          ]
        }
      ]
    },
    {
      "cell_type": "code",
      "source": [
        "for p in model.parameters(): print(p.shape)"
      ],
      "metadata": {
        "id": "-rBgS1nnOc-z",
        "outputId": "a25cfad0-547a-41e4-e2fb-7de4347add33",
        "colab": {
          "base_uri": "https://localhost:8080/"
        }
      },
      "execution_count": 37,
      "outputs": [
        {
          "output_type": "stream",
          "name": "stdout",
          "text": [
            "torch.Size([50, 784])\n",
            "torch.Size([50])\n",
            "torch.Size([10, 50])\n",
            "torch.Size([10])\n"
          ]
        }
      ]
    },
    {
      "cell_type": "code",
      "source": [
        "def fit():\n",
        "  for epoch in range(epochs):\n",
        "    for i in range(0,n,bs):\n",
        "      s = slice(i,min(n,i+bs))\n",
        "      xb,yb = x_train[s],y_train[s]\n",
        "      preds = model(xb)\n",
        "      loss = loss_func(preds,yb)\n",
        "      loss.backward()\n",
        "      #if i==0:print(loss.item(), accuracy(preds,yb).item())\n",
        "      if i==0:print(f'{loss.item():.2f}, {accuracy(preds,yb).item():.2f}')\n",
        "      with torch.no_grad():\n",
        "        for p in model.parameters(): p -= p.grad *lr\n",
        "        model.zero_grad()\n",
        "\n",
        "    #report(loss,preds,yb)"
      ],
      "metadata": {
        "id": "ik8RqqmVOwGX"
      },
      "execution_count": 38,
      "outputs": []
    },
    {
      "cell_type": "code",
      "source": [
        "fit()"
      ],
      "metadata": {
        "id": "Hd9jrCwyQ-nc",
        "outputId": "fefeefa9-29b1-4d9f-b372-104c1a3590f5",
        "colab": {
          "base_uri": "https://localhost:8080/"
        }
      },
      "execution_count": 39,
      "outputs": [
        {
          "output_type": "stream",
          "name": "stdout",
          "text": [
            "2.30, 0.11\n",
            "0.14, 0.94\n",
            "0.13, 0.95\n"
          ]
        }
      ]
    },
    {
      "cell_type": "code",
      "source": [],
      "metadata": {
        "id": "falKibulRFDr"
      },
      "execution_count": 39,
      "outputs": []
    }
  ],
  "metadata": {
    "language_info": {
      "name": "python"
    },
    "orig_nbformat": 4,
    "colab": {
      "provenance": []
    },
    "kernelspec": {
      "name": "python3",
      "display_name": "Python 3"
    }
  },
  "nbformat": 4,
  "nbformat_minor": 0
}