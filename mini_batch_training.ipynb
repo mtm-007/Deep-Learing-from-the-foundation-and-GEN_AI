{
  "cells": [
    {
      "cell_type": "code",
      "execution_count": 1,
      "metadata": {
        "id": "-FGhTunJWBhV"
      },
      "outputs": [],
      "source": [
        "import pickle,gzip,math,os,time,shutil,torch,matplotlib as mpl, numpy as np,matplotlib.pyplot as plt\n",
        "from pathlib import Path\n",
        "from torch import tensor,nn\n",
        "import torch.nn.functional as F\n",
        "from fastcore.test import test_close\n",
        "from urllib.request import urlretrieve\n",
        "#torch.manual_seed(42)\n",
        "\n",
        "mpl.rcParams['image.cmap'] = 'gray'\n",
        "torch.set_printoptions(precision=2, linewidth=125, sci_mode=False)\n",
        "np.set_printoptions(precision=2, linewidth=125)\n",
        "\n",
        "MNIST_URL='https://github.com/mnielsen/neural-networks-and-deep-learning/blob/master/data/mnist.pkl.gz?raw=true'\n",
        "path_data = Path('data')\n",
        "path_data.mkdir(exist_ok=True)\n",
        "path_gz = path_data/'mnist.pkl.gz'\n",
        "\n",
        "if not path_gz.exists(): urlretrieve(MNIST_URL, path_gz)\n",
        "# path_data = Path('data')\n",
        "# path_gz = path_data/'mnist.pkl.gz'\n",
        "with gzip.open(path_gz, 'rb') as f: ((x_train, y_train), (x_valid, y_valid), _) = pickle.load(f, encoding='latin-1')\n",
        "x_train, y_train, x_valid, y_valid = map(tensor, [x_train, y_train, x_valid, y_valid])"
      ]
    },
    {
      "cell_type": "markdown",
      "source": [
        "## setup\n"
      ],
      "metadata": {
        "id": "n6cggNijWYRl"
      }
    },
    {
      "cell_type": "code",
      "source": [
        "n,m = x_train.shape\n",
        "c = y_train.max() +1\n",
        "nh = 50\n",
        "n,m,c"
      ],
      "metadata": {
        "id": "MlCRCeHbWHSF",
        "outputId": "50e6168a-04d4-4eb2-d976-90d5fc9e2769",
        "colab": {
          "base_uri": "https://localhost:8080/"
        }
      },
      "execution_count": 2,
      "outputs": [
        {
          "output_type": "execute_result",
          "data": {
            "text/plain": [
              "(50000, 784, tensor(10))"
            ]
          },
          "metadata": {},
          "execution_count": 2
        }
      ]
    },
    {
      "cell_type": "code",
      "source": [
        "class Model(nn.Module):\n",
        "    def __init__(self, n_in, nh, n_out):\n",
        "        super().__init__()\n",
        "        self.layers = [nn.Linear(n_in,nh), nn.ReLU(), nn.Linear(nh,n_out)]\n",
        "\n",
        "    def __call__(self, x):\n",
        "        for l in self.layers: x = l(x)\n",
        "        return x"
      ],
      "metadata": {
        "id": "y3FXjL0FfK1F"
      },
      "execution_count": 3,
      "outputs": []
    },
    {
      "cell_type": "code",
      "source": [
        "model = Model(m,nh,10)\n",
        "pred = model(x_train)\n",
        "pred.shape"
      ],
      "metadata": {
        "id": "BIn5T5uhXFkM",
        "outputId": "8f611995-f73d-4bf0-b53b-685e50561eed",
        "colab": {
          "base_uri": "https://localhost:8080/"
        }
      },
      "execution_count": 4,
      "outputs": [
        {
          "output_type": "execute_result",
          "data": {
            "text/plain": [
              "torch.Size([50000, 10])"
            ]
          },
          "metadata": {},
          "execution_count": 4
        }
      ]
    },
    {
      "cell_type": "markdown",
      "source": [
        "## Cross Entropy loss"
      ],
      "metadata": {
        "id": "fRqIFpv3fd7h"
      }
    },
    {
      "cell_type": "code",
      "source": [
        "def log_softmax(x): return (x.exp() / (x.exp().sum(-1,keepdim=True))).log()"
      ],
      "metadata": {
        "id": "Zsr414Keev8N"
      },
      "execution_count": 5,
      "outputs": []
    },
    {
      "cell_type": "code",
      "source": [
        "log_softmax(pred)"
      ],
      "metadata": {
        "id": "FjMjQNh4f31J",
        "outputId": "7a9414bd-c306-49e2-c2fd-7a44eb0e7a3d",
        "colab": {
          "base_uri": "https://localhost:8080/"
        }
      },
      "execution_count": 6,
      "outputs": [
        {
          "output_type": "execute_result",
          "data": {
            "text/plain": [
              "tensor([[-2.46, -2.24, -2.29,  ..., -2.34, -2.38, -2.32],\n",
              "        [-2.36, -2.24, -2.33,  ..., -2.23, -2.22, -2.37],\n",
              "        [-2.35, -2.18, -2.28,  ..., -2.31, -2.42, -2.37],\n",
              "        ...,\n",
              "        [-2.31, -2.19, -2.27,  ..., -2.32, -2.41, -2.29],\n",
              "        [-2.33, -2.22, -2.35,  ..., -2.33, -2.30, -2.24],\n",
              "        [-2.33, -2.25, -2.31,  ..., -2.33, -2.35, -2.36]], grad_fn=<LogBackward0>)"
            ]
          },
          "metadata": {},
          "execution_count": 6
        }
      ]
    },
    {
      "cell_type": "code",
      "source": [
        "def log_softmax(x): return x - x.exp().sum(-1,keepdim=True).log()"
      ],
      "metadata": {
        "id": "KyJd2BHFf85O"
      },
      "execution_count": 7,
      "outputs": []
    },
    {
      "cell_type": "code",
      "source": [
        "def logsumexp(x):\n",
        "  m = x.max(-1)[0]\n",
        "  return m + (x -m[:,None]).exp().sum(-1).log()"
      ],
      "metadata": {
        "id": "zWzPcNQsieWE"
      },
      "execution_count": 8,
      "outputs": []
    },
    {
      "cell_type": "code",
      "source": [
        "def log_softmax(x): return x - x.logsumexp(-1,keepdim=True)"
      ],
      "metadata": {
        "id": "AJ_nyaizDWr_"
      },
      "execution_count": 9,
      "outputs": []
    },
    {
      "cell_type": "code",
      "source": [
        "test_close(logsumexp(pred), pred.logsumexp(-1))\n",
        "sm_pred = log_softmax(pred)\n",
        "sm_pred"
      ],
      "metadata": {
        "id": "1CqYq_9GDy8d",
        "outputId": "9f2b640d-50dd-4fd2-ad9a-bea93bd5ac72",
        "colab": {
          "base_uri": "https://localhost:8080/"
        }
      },
      "execution_count": 10,
      "outputs": [
        {
          "output_type": "execute_result",
          "data": {
            "text/plain": [
              "tensor([[-2.46, -2.24, -2.29,  ..., -2.34, -2.38, -2.32],\n",
              "        [-2.36, -2.24, -2.33,  ..., -2.23, -2.22, -2.37],\n",
              "        [-2.35, -2.18, -2.28,  ..., -2.31, -2.42, -2.37],\n",
              "        ...,\n",
              "        [-2.31, -2.19, -2.27,  ..., -2.32, -2.41, -2.29],\n",
              "        [-2.33, -2.22, -2.35,  ..., -2.33, -2.30, -2.24],\n",
              "        [-2.33, -2.25, -2.31,  ..., -2.33, -2.35, -2.36]], grad_fn=<SubBackward0>)"
            ]
          },
          "metadata": {},
          "execution_count": 10
        }
      ]
    },
    {
      "cell_type": "code",
      "source": [
        "y_train[:3]"
      ],
      "metadata": {
        "id": "oUitMo8qUjl-",
        "outputId": "33bbb074-ae07-4af3-9314-95bd8c1983fa",
        "colab": {
          "base_uri": "https://localhost:8080/"
        }
      },
      "execution_count": 11,
      "outputs": [
        {
          "output_type": "execute_result",
          "data": {
            "text/plain": [
              "tensor([5, 0, 4])"
            ]
          },
          "metadata": {},
          "execution_count": 11
        }
      ]
    },
    {
      "cell_type": "code",
      "source": [
        "sm_pred[0,5], sm_pred[1,0], sm_pred[2,4]"
      ],
      "metadata": {
        "id": "JBghQE_dU6Fq",
        "outputId": "5accdaee-ecf6-4fa7-ad6c-cf14dfc24f15",
        "colab": {
          "base_uri": "https://localhost:8080/"
        }
      },
      "execution_count": 12,
      "outputs": [
        {
          "output_type": "execute_result",
          "data": {
            "text/plain": [
              "(tensor(-2.10, grad_fn=<SelectBackward0>),\n",
              " tensor(-2.36, grad_fn=<SelectBackward0>),\n",
              " tensor(-2.31, grad_fn=<SelectBackward0>))"
            ]
          },
          "metadata": {},
          "execution_count": 12
        }
      ]
    },
    {
      "cell_type": "code",
      "source": [
        "sm_pred[[0,1,2], y_train[:3]]"
      ],
      "metadata": {
        "id": "t-FENRVzVGAv",
        "outputId": "27b5de23-7e30-4b60-e5e8-0c39a352ed20",
        "colab": {
          "base_uri": "https://localhost:8080/"
        }
      },
      "execution_count": 13,
      "outputs": [
        {
          "output_type": "execute_result",
          "data": {
            "text/plain": [
              "tensor([-2.10, -2.36, -2.31], grad_fn=<IndexBackward0>)"
            ]
          },
          "metadata": {},
          "execution_count": 13
        }
      ]
    },
    {
      "cell_type": "code",
      "source": [
        "def nll(input, target):return -input[range(target.shape[0]),target].mean()"
      ],
      "metadata": {
        "id": "frFMQ4SmVP_w"
      },
      "execution_count": 14,
      "outputs": []
    },
    {
      "cell_type": "code",
      "source": [
        "loss = nll(sm_pred, y_train)\n",
        "loss"
      ],
      "metadata": {
        "id": "em6aGebOW5rO",
        "outputId": "bfcf94f7-96c1-453b-f5f7-192e561d2106",
        "colab": {
          "base_uri": "https://localhost:8080/"
        }
      },
      "execution_count": 15,
      "outputs": [
        {
          "output_type": "execute_result",
          "data": {
            "text/plain": [
              "tensor(2.30, grad_fn=<NegBackward0>)"
            ]
          },
          "metadata": {},
          "execution_count": 15
        }
      ]
    },
    {
      "cell_type": "code",
      "source": [
        "test_close(F.nll_loss(F.log_softmax(pred,-1), y_train),loss, 1e-3)"
      ],
      "metadata": {
        "id": "rnvJtdODY2_m"
      },
      "execution_count": 16,
      "outputs": []
    },
    {
      "cell_type": "code",
      "source": [
        "test_close(F.cross_entropy(pred,y_train),loss,1e-3)"
      ],
      "metadata": {
        "id": "l--99Dy2eV3L"
      },
      "execution_count": 17,
      "outputs": []
    },
    {
      "cell_type": "markdown",
      "source": [
        "## basic training Loop"
      ],
      "metadata": {
        "id": "liG3DB9cfmxn"
      }
    },
    {
      "cell_type": "code",
      "source": [
        "loss_func = F.cross_entropy"
      ],
      "metadata": {
        "id": "5HBrTCfpeo0K"
      },
      "execution_count": 18,
      "outputs": []
    },
    {
      "cell_type": "code",
      "source": [
        "bs=64        # batch size\n",
        "# xb = x_train[0:bs]\n",
        "# preds =model(xb)\n",
        "# preds[0], preds.shape"
      ],
      "metadata": {
        "id": "temu2ERbe775"
      },
      "execution_count": 19,
      "outputs": []
    },
    {
      "cell_type": "code",
      "source": [
        "# yb = y_train[0:64]\n",
        "# yb"
      ],
      "metadata": {
        "id": "D-sFD_MEicHi"
      },
      "execution_count": 20,
      "outputs": []
    },
    {
      "cell_type": "code",
      "source": [
        "# xb.shape, yb.shape"
      ],
      "metadata": {
        "id": "d7y2rJCl8Nz3"
      },
      "execution_count": 21,
      "outputs": []
    },
    {
      "cell_type": "code",
      "source": [
        "# loss_func(preds, yb)"
      ],
      "metadata": {
        "id": "AuBtNc2Bi4h-"
      },
      "execution_count": 22,
      "outputs": []
    },
    {
      "cell_type": "code",
      "source": [
        "# preds.argmax(dim=1)"
      ],
      "metadata": {
        "id": "qVMQhrQX7FQJ"
      },
      "execution_count": 23,
      "outputs": []
    },
    {
      "cell_type": "code",
      "source": [
        "def accuracy(out,yb): return (out.argmax(dim=1)==yb).float().mean()"
      ],
      "metadata": {
        "id": "g5Kht3hc-Fq1"
      },
      "execution_count": 24,
      "outputs": []
    },
    {
      "cell_type": "code",
      "source": [
        "# accuracy(preds,yb)"
      ],
      "metadata": {
        "id": "Qf_Nxs9pAXGv"
      },
      "execution_count": 25,
      "outputs": []
    },
    {
      "cell_type": "code",
      "source": [
        "lr=0.5\n",
        "epochs=3"
      ],
      "metadata": {
        "id": "SIyx_3m_AbKz"
      },
      "execution_count": 26,
      "outputs": []
    },
    {
      "cell_type": "code",
      "source": [
        "def report(loss, preds, yb): print(f'{loss:.2f}, {accuracy(preds, yb):.2f}')"
      ],
      "metadata": {
        "id": "_rHyycysEhBi"
      },
      "execution_count": 27,
      "outputs": []
    },
    {
      "cell_type": "code",
      "source": [
        "# xb.shape, yb.shape"
      ],
      "metadata": {
        "id": "bQDmcJRN8fHy"
      },
      "execution_count": 28,
      "outputs": []
    },
    {
      "cell_type": "code",
      "source": [
        "# xb,yb = x_train[:bs],y_train[:bs]\n",
        "# preds = model(xb)\n",
        "# report(loss_func(preds, yb), preds, yb)"
      ],
      "metadata": {
        "id": "eaf8lDrlEpT4"
      },
      "execution_count": 29,
      "outputs": []
    },
    {
      "cell_type": "code",
      "source": [
        "for epoch in range(epochs):\n",
        "    for i in range(0, n, bs):\n",
        "        s = slice(i, min(n,i+bs))\n",
        "        xb_,yb_ = x_train[s],y_train[s]\n",
        "        #import pdb; pdb.set_trace()\n",
        "        preds = model(xb_)\n",
        "        loss = loss_func(preds, yb_)\n",
        "        loss.backward()\n",
        "        with torch.no_grad():\n",
        "            for l in model.layers:\n",
        "                if hasattr(l, 'weight'):\n",
        "                    l.weight -= l.weight.grad * lr\n",
        "                    l.bias   -= l.bias.grad   * lr\n",
        "                    l.weight.grad.zero_()\n",
        "                    l.bias  .grad.zero_()\n",
        "    #report(loss, preds, yb)"
      ],
      "metadata": {
        "id": "qFoWEN9R9B_0"
      },
      "execution_count": 30,
      "outputs": []
    },
    {
      "cell_type": "code",
      "source": [
        "# for epoch in range(epochs):\n",
        "#   for i in range(0,n,bs):\n",
        "#     s = slice(i, min(n,i+bs))\n",
        "#     xb,yb = x_train[s],y_train[s]\n",
        "#     preds = model(xb)\n",
        "#     loss = loss_func(preds,yb)\n",
        "#     loss.backward()\n",
        "#     if i==0:print(loss.item(), accuracy(preds,yb).item())\n",
        "#     with torch.no_grad():\n",
        "#       for l in model.layers:\n",
        "#         if hasattr(l, 'weight'):\n",
        "#           l.weight -= l.weight.grad*lr\n",
        "#           l.bias   -= l.bias.grad   * lr\n",
        "#           l.weight.grad.zero_()\n",
        "#           l.bias.grad.zero_()\n",
        "\n",
        "#   #report(loss,preds,yb)"
      ],
      "metadata": {
        "id": "0yelM5k7A9Ep"
      },
      "execution_count": 31,
      "outputs": []
    },
    {
      "cell_type": "markdown",
      "source": [
        "## Parameters and Optim\n",
        "\n",
        "#### Parameters"
      ],
      "metadata": {
        "id": "CgjjjqBpGWEL"
      }
    },
    {
      "cell_type": "code",
      "source": [
        "m1 = nn.Module()\n",
        "m1.foo = nn.Linear(3,4)\n",
        "m1"
      ],
      "metadata": {
        "id": "fZpgddBvDetR",
        "outputId": "741ebb51-554e-42e3-d581-126cd8f1b7d9",
        "colab": {
          "base_uri": "https://localhost:8080/"
        }
      },
      "execution_count": 32,
      "outputs": [
        {
          "output_type": "execute_result",
          "data": {
            "text/plain": [
              "Module(\n",
              "  (foo): Linear(in_features=3, out_features=4, bias=True)\n",
              ")"
            ]
          },
          "metadata": {},
          "execution_count": 32
        }
      ]
    },
    {
      "cell_type": "code",
      "source": [
        "(list(m1.named_children()))"
      ],
      "metadata": {
        "id": "LFHkrQmIGkJC",
        "outputId": "2b0c1719-e14e-49d7-e2b9-38cdef7c025d",
        "colab": {
          "base_uri": "https://localhost:8080/"
        }
      },
      "execution_count": 33,
      "outputs": [
        {
          "output_type": "execute_result",
          "data": {
            "text/plain": [
              "[('foo', Linear(in_features=3, out_features=4, bias=True))]"
            ]
          },
          "metadata": {},
          "execution_count": 33
        }
      ]
    },
    {
      "cell_type": "code",
      "source": [
        "m1.named_children()"
      ],
      "metadata": {
        "id": "l1YQerHlH_4M",
        "outputId": "13998417-f31d-4877-a45e-307ebe1bad7b",
        "colab": {
          "base_uri": "https://localhost:8080/"
        }
      },
      "execution_count": 34,
      "outputs": [
        {
          "output_type": "execute_result",
          "data": {
            "text/plain": [
              "<generator object Module.named_children at 0x79cc4246f060>"
            ]
          },
          "metadata": {},
          "execution_count": 34
        }
      ]
    },
    {
      "cell_type": "code",
      "source": [
        "list(m1.parameters())"
      ],
      "metadata": {
        "id": "5cedLBkkIFJJ",
        "outputId": "c150af39-2298-4642-9105-8cf4dfa91826",
        "colab": {
          "base_uri": "https://localhost:8080/"
        }
      },
      "execution_count": 35,
      "outputs": [
        {
          "output_type": "execute_result",
          "data": {
            "text/plain": [
              "[Parameter containing:\n",
              " tensor([[-0.57, -0.22, -0.38],\n",
              "         [-0.09, -0.29,  0.40],\n",
              "         [ 0.04, -0.26,  0.17],\n",
              "         [-0.13,  0.34, -0.28]], requires_grad=True),\n",
              " Parameter containing:\n",
              " tensor([-0.40, -0.43, -0.25,  0.12], requires_grad=True)]"
            ]
          },
          "metadata": {},
          "execution_count": 35
        }
      ]
    },
    {
      "cell_type": "code",
      "source": [
        "class MLP(nn.Module):\n",
        "  def __init__(self,n_in,nh,n_out):\n",
        "    super().__init__()\n",
        "    self.l1 = nn.Linear(n_in,nh)\n",
        "    self.l2 = nn.Linear(nh,n_out)\n",
        "    self.relu = nn.ReLU()\n",
        "\n",
        "  def forward(self,x): return self.l2(self.relu(self.l1(x)))"
      ],
      "metadata": {
        "id": "OQHtoCDfILE9"
      },
      "execution_count": 36,
      "outputs": []
    },
    {
      "cell_type": "code",
      "source": [
        "model = MLP(m,nh,10)\n",
        "model.l1"
      ],
      "metadata": {
        "id": "yGriIQ6eI_R6",
        "outputId": "d18bd8ee-a840-4c3e-df75-1b29b7000e55",
        "colab": {
          "base_uri": "https://localhost:8080/"
        }
      },
      "execution_count": 37,
      "outputs": [
        {
          "output_type": "execute_result",
          "data": {
            "text/plain": [
              "Linear(in_features=784, out_features=50, bias=True)"
            ]
          },
          "metadata": {},
          "execution_count": 37
        }
      ]
    },
    {
      "cell_type": "code",
      "source": [
        "model"
      ],
      "metadata": {
        "id": "N4zaGc6tJHCe",
        "outputId": "057afa38-ee62-4d7f-e977-96e4570105b3",
        "colab": {
          "base_uri": "https://localhost:8080/"
        }
      },
      "execution_count": 38,
      "outputs": [
        {
          "output_type": "execute_result",
          "data": {
            "text/plain": [
              "MLP(\n",
              "  (l1): Linear(in_features=784, out_features=50, bias=True)\n",
              "  (l2): Linear(in_features=50, out_features=10, bias=True)\n",
              "  (relu): ReLU()\n",
              ")"
            ]
          },
          "metadata": {},
          "execution_count": 38
        }
      ]
    },
    {
      "cell_type": "code",
      "source": [
        "for name,l in model.named_children(): print(f'{name}: {l}')"
      ],
      "metadata": {
        "id": "TY-WAV1oN4PM",
        "outputId": "3d68b94f-fe1f-4ca5-fad2-cfd4c49e2882",
        "colab": {
          "base_uri": "https://localhost:8080/"
        }
      },
      "execution_count": 39,
      "outputs": [
        {
          "output_type": "stream",
          "name": "stdout",
          "text": [
            "l1: Linear(in_features=784, out_features=50, bias=True)\n",
            "l2: Linear(in_features=50, out_features=10, bias=True)\n",
            "relu: ReLU()\n"
          ]
        }
      ]
    },
    {
      "cell_type": "code",
      "source": [
        "for p in model.parameters(): print(p.shape)"
      ],
      "metadata": {
        "id": "-rBgS1nnOc-z",
        "outputId": "060c476c-f5f7-4c26-8def-cadc388ecc31",
        "colab": {
          "base_uri": "https://localhost:8080/"
        }
      },
      "execution_count": 40,
      "outputs": [
        {
          "output_type": "stream",
          "name": "stdout",
          "text": [
            "torch.Size([50, 784])\n",
            "torch.Size([50])\n",
            "torch.Size([10, 50])\n",
            "torch.Size([10])\n"
          ]
        }
      ]
    },
    {
      "cell_type": "code",
      "source": [
        "def fit():\n",
        "  for epoch in range(epochs):\n",
        "    for i in range(0,n,bs):\n",
        "      s = slice(i,min(n,i+bs))\n",
        "      xb,yb = x_train[s],y_train[s]\n",
        "      preds = model(xb)\n",
        "      loss = loss_func(preds,yb)\n",
        "      loss.backward()\n",
        "      #if i==0:print(loss.item(), accuracy(preds,yb).item())\n",
        "      if i==0:print(f'{loss.item():.2f}, {accuracy(preds,yb).item():.2f}')\n",
        "      with torch.no_grad():\n",
        "        for p in model.parameters(): p -= p.grad *lr\n",
        "        model.zero_grad()\n",
        "\n",
        "    #report(loss,preds,yb)"
      ],
      "metadata": {
        "id": "ik8RqqmVOwGX"
      },
      "execution_count": 41,
      "outputs": []
    },
    {
      "cell_type": "code",
      "source": [
        "fit()"
      ],
      "metadata": {
        "id": "Hd9jrCwyQ-nc",
        "outputId": "27ac26da-0c1f-4053-84f1-42549280c257",
        "colab": {
          "base_uri": "https://localhost:8080/"
        }
      },
      "execution_count": 42,
      "outputs": [
        {
          "output_type": "stream",
          "name": "stdout",
          "text": [
            "2.33, 0.03\n",
            "0.17, 0.94\n",
            "0.13, 0.95\n"
          ]
        }
      ]
    },
    {
      "cell_type": "markdown",
      "source": [
        "Lets creat our own nn.Module"
      ],
      "metadata": {
        "id": "9fUkBqcbvcwj"
      }
    },
    {
      "cell_type": "code",
      "source": [
        "class MyModule():\n",
        "  def __init__(self, n_in, nh, n_out):\n",
        "    self._modules = {}\n",
        "    self.l1 = nn.Linear(n_in, nh)\n",
        "    self.l2 = nn.Linear(nh, n_out)\n",
        "\n",
        "  def __setattr__(self,k, v):\n",
        "    if not k.startswith(\"_\"): self._modules[k] = v\n",
        "    super().__setattr__(k,v)\n",
        "\n",
        "  def __repr__(self): return f'{self._modules}'\n",
        "\n",
        "  def parameters(self):\n",
        "    for l in self._modules.values():\n",
        "      #for p in l.parameters(): yield p  # the above can be more factored into\n",
        "      yield from l.parameters()"
      ],
      "metadata": {
        "id": "falKibulRFDr"
      },
      "execution_count": 43,
      "outputs": []
    },
    {
      "cell_type": "code",
      "source": [
        "md1 = MyModule(m,nh,10)\n",
        "md1"
      ],
      "metadata": {
        "colab": {
          "base_uri": "https://localhost:8080/"
        },
        "id": "Jr_5eNEDxUTe",
        "outputId": "b6ee051b-9b03-4d58-cc47-43534709618e"
      },
      "execution_count": 44,
      "outputs": [
        {
          "output_type": "execute_result",
          "data": {
            "text/plain": [
              "{'l1': Linear(in_features=784, out_features=50, bias=True), 'l2': Linear(in_features=50, out_features=10, bias=True)}"
            ]
          },
          "metadata": {},
          "execution_count": 44
        }
      ]
    },
    {
      "cell_type": "code",
      "source": [
        "for p in md1.parameters(): print(p.shape)"
      ],
      "metadata": {
        "colab": {
          "base_uri": "https://localhost:8080/"
        },
        "id": "L9NKnnNkxb1c",
        "outputId": "47cbd79a-6d6d-4c70-8d07-c81160a0b68b"
      },
      "execution_count": 45,
      "outputs": [
        {
          "output_type": "stream",
          "name": "stdout",
          "text": [
            "torch.Size([50, 784])\n",
            "torch.Size([50])\n",
            "torch.Size([10, 50])\n",
            "torch.Size([10])\n"
          ]
        }
      ]
    },
    {
      "cell_type": "markdown",
      "source": [
        "## Registering Modules"
      ],
      "metadata": {
        "id": "5YYdNQoL2NKB"
      }
    },
    {
      "cell_type": "code",
      "source": [
        "from functools import reduce"
      ],
      "metadata": {
        "id": "P37YEfGP2PrM"
      },
      "execution_count": 46,
      "outputs": []
    },
    {
      "cell_type": "code",
      "source": [
        "layers = [nn.Linear(m,nh), nn.ReLU(), nn.Linear(nh,10)]"
      ],
      "metadata": {
        "id": "OgsxCbO32U3Q"
      },
      "execution_count": 47,
      "outputs": []
    },
    {
      "cell_type": "code",
      "source": [
        "class Module(nn.Module):\n",
        "  def __init__(self,layers):\n",
        "    super().__init__()\n",
        "    self.layers = layers\n",
        "    for i,l in enumerate(self.layers): self.add_module(f'layer_{i}',l)\n",
        "\n",
        "  def forward(self,x): return reduce(lambda val,layer: layer(val), self.layers,x)"
      ],
      "metadata": {
        "id": "sMHEnxy12ov0"
      },
      "execution_count": 48,
      "outputs": []
    },
    {
      "cell_type": "code",
      "source": [
        "model = Module(layers)\n",
        "model"
      ],
      "metadata": {
        "colab": {
          "base_uri": "https://localhost:8080/"
        },
        "id": "bSjoYXfd3WCj",
        "outputId": "433f7217-9aea-4578-cc33-66a0f7b6bf91"
      },
      "execution_count": 49,
      "outputs": [
        {
          "output_type": "execute_result",
          "data": {
            "text/plain": [
              "Module(\n",
              "  (layer_0): Linear(in_features=784, out_features=50, bias=True)\n",
              "  (layer_1): ReLU()\n",
              "  (layer_2): Linear(in_features=50, out_features=10, bias=True)\n",
              ")"
            ]
          },
          "metadata": {},
          "execution_count": 49
        }
      ]
    },
    {
      "cell_type": "code",
      "source": [
        "# model(xb).shape"
      ],
      "metadata": {
        "id": "xEt9XEmG3-M0"
      },
      "execution_count": 50,
      "outputs": []
    },
    {
      "cell_type": "code",
      "source": [
        "# xb.shape,yb.shape"
      ],
      "metadata": {
        "id": "nAVIHjlc4FNK"
      },
      "execution_count": 51,
      "outputs": []
    },
    {
      "cell_type": "markdown",
      "source": [
        "## nn.ModuleList"
      ],
      "metadata": {
        "id": "dUHCbfi5FS-V"
      }
    },
    {
      "cell_type": "code",
      "source": [
        "class SequentialModule(nn.Module):\n",
        "  def __init__(self, layers):\n",
        "    super().__init__()\n",
        "    self.layers = nn.ModuleList(layers)\n",
        "\n",
        "  def forward(self,x):\n",
        "    for l in self.layers: x= l(x)\n",
        "    return x"
      ],
      "metadata": {
        "id": "mIp4YIhZ5l5F"
      },
      "execution_count": 52,
      "outputs": []
    },
    {
      "cell_type": "code",
      "source": [
        "model = SequentialModule(layers)\n",
        "model"
      ],
      "metadata": {
        "colab": {
          "base_uri": "https://localhost:8080/"
        },
        "id": "hendY-bf78kN",
        "outputId": "ab3c64c2-8103-487a-8932-e03acce056a3"
      },
      "execution_count": 53,
      "outputs": [
        {
          "output_type": "execute_result",
          "data": {
            "text/plain": [
              "SequentialModule(\n",
              "  (layers): ModuleList(\n",
              "    (0): Linear(in_features=784, out_features=50, bias=True)\n",
              "    (1): ReLU()\n",
              "    (2): Linear(in_features=50, out_features=10, bias=True)\n",
              "  )\n",
              ")"
            ]
          },
          "metadata": {},
          "execution_count": 53
        }
      ]
    },
    {
      "cell_type": "code",
      "source": [
        "fit()"
      ],
      "metadata": {
        "colab": {
          "base_uri": "https://localhost:8080/"
        },
        "id": "TPjifE2hGbTh",
        "outputId": "1d16b4ff-29c0-487e-8189-992cf01ac005"
      },
      "execution_count": 54,
      "outputs": [
        {
          "output_type": "stream",
          "name": "stdout",
          "text": [
            "2.31, 0.08\n",
            "0.15, 0.92\n",
            "0.11, 0.95\n"
          ]
        }
      ]
    },
    {
      "cell_type": "markdown",
      "source": [
        "### nn.Squential"
      ],
      "metadata": {
        "id": "1uLY2dWEN7FY"
      }
    },
    {
      "cell_type": "code",
      "source": [
        "model = nn.Sequential(nn.Linear(m,nh), nn.ReLU(), nn.Linear(nh,10))\n",
        "model"
      ],
      "metadata": {
        "colab": {
          "base_uri": "https://localhost:8080/"
        },
        "id": "0SDaBN-6GkNK",
        "outputId": "bf153bb9-1f3f-4a91-d4bd-bfdcb0be1a52"
      },
      "execution_count": 55,
      "outputs": [
        {
          "output_type": "execute_result",
          "data": {
            "text/plain": [
              "Sequential(\n",
              "  (0): Linear(in_features=784, out_features=50, bias=True)\n",
              "  (1): ReLU()\n",
              "  (2): Linear(in_features=50, out_features=10, bias=True)\n",
              ")"
            ]
          },
          "metadata": {},
          "execution_count": 55
        }
      ]
    },
    {
      "cell_type": "code",
      "source": [
        "fit()\n",
        "#loss_func(model(xb),yb), accuracy(model(xb),yb)"
      ],
      "metadata": {
        "colab": {
          "base_uri": "https://localhost:8080/"
        },
        "id": "5bc6iWzDG0DK",
        "outputId": "f947ecbc-4027-4f28-9311-137f5de8d559"
      },
      "execution_count": 56,
      "outputs": [
        {
          "output_type": "stream",
          "name": "stdout",
          "text": [
            "2.29, 0.14\n",
            "0.19, 0.94\n",
            "0.21, 0.92\n"
          ]
        }
      ]
    },
    {
      "cell_type": "markdown",
      "source": [
        "## Optimizer"
      ],
      "metadata": {
        "id": "tx6aWVRGaKa7"
      }
    },
    {
      "cell_type": "code",
      "source": [
        "class Optimizer():\n",
        "  def __init__(self,params,lr=0.5): self.params,self.lr = list(params), lr\n",
        "\n",
        "  def step(self):\n",
        "    with torch.no_grad():\n",
        "      for p in self.params: p -= p.grad * self.lr\n",
        "\n",
        "  def zero_grad(self):\n",
        "    for p in self.params: p.grad.data.zero_()"
      ],
      "metadata": {
        "id": "KokB3gdnOP68"
      },
      "execution_count": 57,
      "outputs": []
    },
    {
      "cell_type": "code",
      "source": [
        "model = nn.Sequential(nn.Linear(m,nh), nn.ReLU(), nn.Linear(nh,10))"
      ],
      "metadata": {
        "id": "hvfdTEwtbW7W"
      },
      "execution_count": 58,
      "outputs": []
    },
    {
      "cell_type": "code",
      "source": [
        "opt = Optimizer(model.parameters())"
      ],
      "metadata": {
        "id": "C1m5maWybR-U"
      },
      "execution_count": 59,
      "outputs": []
    },
    {
      "cell_type": "code",
      "source": [
        "for epoch in range(epochs):\n",
        "  for i in range(0,n,bs):\n",
        "    s = slice(i, min(n, i+bs))\n",
        "    xb,yb = x_train[s], y_train[s]\n",
        "    preds = model(xb)\n",
        "    loss = loss_func(preds, yb)\n",
        "    loss.backward()\n",
        "    opt.step()\n",
        "    opt.zero_grad()\n",
        "  report(loss, preds,yb)"
      ],
      "metadata": {
        "colab": {
          "base_uri": "https://localhost:8080/"
        },
        "id": "_kM-9aF8bk2e",
        "outputId": "0ec6a624-abf6-493c-d206-322d2c24db3b"
      },
      "execution_count": 60,
      "outputs": [
        {
          "output_type": "stream",
          "name": "stdout",
          "text": [
            "0.25, 0.94\n",
            "0.08, 1.00\n",
            "0.05, 1.00\n"
          ]
        }
      ]
    },
    {
      "cell_type": "code",
      "source": [
        "from torch import optim"
      ],
      "metadata": {
        "id": "YIPSjjLGcbyd"
      },
      "execution_count": 61,
      "outputs": []
    },
    {
      "cell_type": "code",
      "source": [
        "def get_model():\n",
        "  model = nn.Sequential(nn.Linear(m,nh), nn.ReLU(), nn.Linear(nh,10))\n",
        "  return model, optim.SGD(model.parameters(), lr=lr)"
      ],
      "metadata": {
        "id": "TTpg-pPmcixy"
      },
      "execution_count": 62,
      "outputs": []
    },
    {
      "cell_type": "code",
      "source": [
        "model,opt = get_model()\n",
        "#loss_func(model(xb),yb)"
      ],
      "metadata": {
        "id": "3-fbmd4Odsfy"
      },
      "execution_count": 63,
      "outputs": []
    },
    {
      "cell_type": "code",
      "source": [
        "for epoch in range(epochs):\n",
        "  for i in range(0,n,bs):\n",
        "    s = slice(i, min(n, i+bs))\n",
        "    xb,yb = x_train[s], y_train[s]\n",
        "    preds = model(xb)\n",
        "    loss = loss_func(preds, yb)\n",
        "    loss.backward()\n",
        "    opt.step()\n",
        "    opt.zero_grad()\n",
        "  report(loss, preds,yb)"
      ],
      "metadata": {
        "colab": {
          "base_uri": "https://localhost:8080/"
        },
        "id": "18uSh6Pkd7R2",
        "outputId": "05705812-6c7c-42cd-a50f-b9140ac258bc"
      },
      "execution_count": 64,
      "outputs": [
        {
          "output_type": "stream",
          "name": "stdout",
          "text": [
            "0.25, 0.94\n",
            "0.10, 1.00\n",
            "0.02, 1.00\n"
          ]
        }
      ]
    },
    {
      "cell_type": "markdown",
      "source": [
        "## Datasets\n",
        "\n",
        "we were iterating the mini-batches with xb,yb = x_train[s],y_train[s], we can facterize the code to:\n",
        " xb,yb =x_train[s] by using the Dataset class"
      ],
      "metadata": {
        "id": "ydI69AnXe5X_"
      }
    },
    {
      "cell_type": "code",
      "source": [
        "class Dataset():\n",
        "  def __init__(self,x,y): self.x, self.y = x,y\n",
        "  def __len__(self): return len(self.x)\n",
        "  def __getitem__(self,i): return self.x[i], self.y[i]"
      ],
      "metadata": {
        "id": "AIf8_qsoeFJ_"
      },
      "execution_count": 65,
      "outputs": []
    },
    {
      "cell_type": "code",
      "source": [
        "train_ds,valid_ds = Dataset(x_train,y_train), Dataset(x_valid, y_valid)\n",
        "assert len(train_ds) == len(x_train)\n",
        "assert len(valid_ds) == len(x_valid)"
      ],
      "metadata": {
        "id": "9v_Li19Ofdz9"
      },
      "execution_count": 66,
      "outputs": []
    },
    {
      "cell_type": "code",
      "source": [
        "xb,yb = train_ds[0:5]\n",
        "assert xb.shape == (5, 28*28)\n",
        "assert yb.shape == (5,)\n",
        "xb,yb"
      ],
      "metadata": {
        "colab": {
          "base_uri": "https://localhost:8080/"
        },
        "id": "p6Z1LaDaf4In",
        "outputId": "fbb1c759-50ee-4efe-b2fc-d01f3ed4fb13"
      },
      "execution_count": 67,
      "outputs": [
        {
          "output_type": "execute_result",
          "data": {
            "text/plain": [
              "(tensor([[0., 0., 0.,  ..., 0., 0., 0.],\n",
              "         [0., 0., 0.,  ..., 0., 0., 0.],\n",
              "         [0., 0., 0.,  ..., 0., 0., 0.],\n",
              "         [0., 0., 0.,  ..., 0., 0., 0.],\n",
              "         [0., 0., 0.,  ..., 0., 0., 0.]]),\n",
              " tensor([5, 0, 4, 1, 9]))"
            ]
          },
          "metadata": {},
          "execution_count": 67
        }
      ]
    },
    {
      "cell_type": "code",
      "source": [
        "model,opt = get_model()"
      ],
      "metadata": {
        "id": "IQSsozOzgN74"
      },
      "execution_count": 68,
      "outputs": []
    },
    {
      "cell_type": "code",
      "source": [
        "for epoch in range(epochs):\n",
        "  for i in range(0,n,bs):\n",
        "    xb,yb = train_ds[i:min(n,i+bs)]\n",
        "    preds = model(xb)\n",
        "    loss = loss_func(preds,yb)\n",
        "    loss.backward()\n",
        "    opt.step()\n",
        "    opt.zero_grad()\n",
        "  report(loss,preds,yb)"
      ],
      "metadata": {
        "colab": {
          "base_uri": "https://localhost:8080/"
        },
        "id": "cqJqAJrIgbqF",
        "outputId": "f6527c4e-a44b-406e-d20d-5e96aa3d905d"
      },
      "execution_count": 69,
      "outputs": [
        {
          "output_type": "stream",
          "name": "stdout",
          "text": [
            "0.17, 0.94\n",
            "0.09, 1.00\n",
            "0.05, 1.00\n"
          ]
        }
      ]
    },
    {
      "cell_type": "code",
      "source": [
        "len(train_ds)"
      ],
      "metadata": {
        "colab": {
          "base_uri": "https://localhost:8080/"
        },
        "id": "dU1bd1BZg7hj",
        "outputId": "600e6cc4-4e59-4498-b12d-e4aaf9bfac7d"
      },
      "execution_count": 70,
      "outputs": [
        {
          "output_type": "execute_result",
          "data": {
            "text/plain": [
              "50000"
            ]
          },
          "metadata": {},
          "execution_count": 70
        }
      ]
    },
    {
      "cell_type": "markdown",
      "source": [
        "## DataLoader"
      ],
      "metadata": {
        "id": "uyY3E70972Jq"
      }
    },
    {
      "cell_type": "code",
      "source": [
        "xb.shape, yb.shape"
      ],
      "metadata": {
        "colab": {
          "base_uri": "https://localhost:8080/"
        },
        "id": "l3WOvU31udp6",
        "outputId": "fc2b5a72-d44e-4a40-a679-4a019e7365ba"
      },
      "execution_count": 71,
      "outputs": [
        {
          "output_type": "execute_result",
          "data": {
            "text/plain": [
              "(torch.Size([16, 784]), torch.Size([16]))"
            ]
          },
          "metadata": {},
          "execution_count": 71
        }
      ]
    },
    {
      "cell_type": "code",
      "source": [
        "class DataLoader():\n",
        "  def __init__(self,ds,bs): self.ds, self.bs = ds,bs\n",
        "  def __iter__(self):\n",
        "    for i in range(0, len(self.ds), self.bs): yield self.ds[i:i+self.bs]"
      ],
      "metadata": {
        "id": "uR7yqk9LhAZ9"
      },
      "execution_count": 72,
      "outputs": []
    },
    {
      "cell_type": "code",
      "source": [
        "train_dl = DataLoader(train_ds,bs)\n",
        "valid_dl = DataLoader(valid_ds,bs)"
      ],
      "metadata": {
        "id": "n_AuE2MY8iRl"
      },
      "execution_count": 73,
      "outputs": []
    },
    {
      "cell_type": "code",
      "source": [
        "xb,yb = next(iter(valid_dl))\n",
        "xb.shape,yb.shape"
      ],
      "metadata": {
        "colab": {
          "base_uri": "https://localhost:8080/"
        },
        "id": "RE_OibFW8wGp",
        "outputId": "4059150a-5b09-45db-fda1-c8273ec5df94"
      },
      "execution_count": 74,
      "outputs": [
        {
          "output_type": "execute_result",
          "data": {
            "text/plain": [
              "(torch.Size([64, 784]), torch.Size([64]))"
            ]
          },
          "metadata": {},
          "execution_count": 74
        }
      ]
    },
    {
      "cell_type": "code",
      "source": [
        "yb"
      ],
      "metadata": {
        "colab": {
          "base_uri": "https://localhost:8080/"
        },
        "id": "jTevjVcL86Wd",
        "outputId": "33054d72-4146-4726-b0bb-0805f21b28ed"
      },
      "execution_count": 75,
      "outputs": [
        {
          "output_type": "execute_result",
          "data": {
            "text/plain": [
              "tensor([3, 8, 6, 9, 6, 4, 5, 3, 8, 4, 5, 2, 3, 8, 4, 8, 1, 5, 0, 5, 9, 7, 4, 1, 0, 3, 0, 6, 2, 9, 9, 4, 1, 3, 6, 8, 0, 7, 7,\n",
              "        6, 8, 9, 0, 3, 8, 3, 7, 7, 8, 4, 4, 1, 2, 9, 8, 1, 1, 0, 6, 6, 5, 0, 1, 1])"
            ]
          },
          "metadata": {},
          "execution_count": 75
        }
      ]
    },
    {
      "cell_type": "code",
      "source": [
        "plt.imshow(xb[0].view(28,28))\n",
        "yb[2]"
      ],
      "metadata": {
        "colab": {
          "base_uri": "https://localhost:8080/",
          "height": 467
        },
        "id": "Lkkp1bA69Q3C",
        "outputId": "aff2a98d-2802-494b-ebe8-ffeedb26a3da"
      },
      "execution_count": 76,
      "outputs": [
        {
          "output_type": "execute_result",
          "data": {
            "text/plain": [
              "tensor(6)"
            ]
          },
          "metadata": {},
          "execution_count": 76
        },
        {
          "output_type": "display_data",
          "data": {
            "text/plain": [
              "<Figure size 640x480 with 1 Axes>"
            ],
            "image/png": "[encoded data removed]"
          },
          "metadata": {}
        }
      ]
    },
    {
      "cell_type": "code",
      "source": [
        "model,opt = get_model()"
      ],
      "metadata": {
        "id": "307zTfIO9eeO"
      },
      "execution_count": 77,
      "outputs": []
    },
    {
      "cell_type": "code",
      "source": [
        "def fit():\n",
        "  for epoch in range(epochs):\n",
        "    for xb,yb in train_dl:\n",
        "      #import pdb; pdb.set_trace()\n",
        "      preds = model(xb)\n",
        "      loss = loss_func(preds,yb)\n",
        "      loss.backward()\n",
        "      opt.step()\n",
        "      opt.zero_grad()\n",
        "    report(loss,preds,yb)"
      ],
      "metadata": {
        "id": "zikUxcnqytTC"
      },
      "execution_count": 78,
      "outputs": []
    },
    {
      "cell_type": "code",
      "source": [
        "fit()\n",
        "loss_func(model(xb),yb),accuracy(model(xb),yb)"
      ],
      "metadata": {
        "colab": {
          "base_uri": "https://localhost:8080/"
        },
        "id": "yRJy2qRfzZ2e",
        "outputId": "246c2861-b985-4601-ee7d-e72cd35bb9ba"
      },
      "execution_count": 79,
      "outputs": [
        {
          "output_type": "stream",
          "name": "stdout",
          "text": [
            "0.15, 0.94\n",
            "0.06, 1.00\n",
            "0.03, 1.00\n"
          ]
        },
        {
          "output_type": "execute_result",
          "data": {
            "text/plain": [
              "(tensor(0.08, grad_fn=<NllLossBackward0>), tensor(0.97))"
            ]
          },
          "metadata": {},
          "execution_count": 79
        }
      ]
    },
    {
      "cell_type": "markdown",
      "source": [
        "## Random Sampling"
      ],
      "metadata": {
        "id": "w4OpX66a0gzY"
      }
    },
    {
      "cell_type": "code",
      "source": [
        "import random\n",
        "from itertools import islice"
      ],
      "metadata": {
        "id": "Kp4f1Q1KzmuH"
      },
      "execution_count": 80,
      "outputs": []
    },
    {
      "cell_type": "code",
      "source": [
        "class Sampler():\n",
        "  def __init__(self, ds, shuffle=False): self.n, self.shuffle = len(ds), shuffle\n",
        "  def __iter__(self):\n",
        "    res = list(range(self.n))\n",
        "    if self.shuffle: random.shuffle(res)\n",
        "    return iter(res)"
      ],
      "metadata": {
        "id": "TXz2M47o0mgr"
      },
      "execution_count": 81,
      "outputs": []
    },
    {
      "cell_type": "code",
      "source": [
        "ss = Sampler(train_ds)"
      ],
      "metadata": {
        "id": "lTETOreB1Rq9"
      },
      "execution_count": 82,
      "outputs": []
    },
    {
      "cell_type": "code",
      "source": [
        "it = iter(ss)\n",
        "for o in range(5): print(next(it))"
      ],
      "metadata": {
        "colab": {
          "base_uri": "https://localhost:8080/"
        },
        "id": "yeYTy4_Q1Xmi",
        "outputId": "676c7b27-1bff-4c0b-c698-69e8c2d9d149"
      },
      "execution_count": 83,
      "outputs": [
        {
          "output_type": "stream",
          "name": "stdout",
          "text": [
            "0\n",
            "1\n",
            "2\n",
            "3\n",
            "4\n"
          ]
        }
      ]
    },
    {
      "cell_type": "code",
      "source": [
        "list(islice(ss,5))"
      ],
      "metadata": {
        "colab": {
          "base_uri": "https://localhost:8080/"
        },
        "id": "Bmc5Q99p1p7V",
        "outputId": "e59cb60f-cd96-4109-c33f-c4d219df8e78"
      },
      "execution_count": 84,
      "outputs": [
        {
          "output_type": "execute_result",
          "data": {
            "text/plain": [
              "[0, 1, 2, 3, 4]"
            ]
          },
          "metadata": {},
          "execution_count": 84
        }
      ]
    },
    {
      "cell_type": "code",
      "source": [
        "ss = Sampler(train_ds, shuffle=True)\n",
        "list(islice(ss,5))"
      ],
      "metadata": {
        "colab": {
          "base_uri": "https://localhost:8080/"
        },
        "id": "OlEPscnb12UY",
        "outputId": "8a76f1a2-3a6e-4c86-c7c3-b087ee402cf9"
      },
      "execution_count": 85,
      "outputs": [
        {
          "output_type": "execute_result",
          "data": {
            "text/plain": [
              "[4791, 37406, 39598, 17004, 35454]"
            ]
          },
          "metadata": {},
          "execution_count": 85
        }
      ]
    },
    {
      "cell_type": "code",
      "source": [
        "import fastcore.all as fc"
      ],
      "metadata": {
        "id": "ANl57nQ02Bbu"
      },
      "execution_count": 86,
      "outputs": []
    },
    {
      "cell_type": "code",
      "source": [
        "class BatchSampler():\n",
        "  def __init__(self, sampler, bs, drop_last=False): fc.store_attr()\n",
        "    #self.sampler,self.bs, self.drop_last =sampler,bs,drop_last\n",
        "  def __iter__(self): yield from fc.chunked(iter(self.sampler), self.bs, drop_last = self.drop_last)"
      ],
      "metadata": {
        "id": "bTAtHpw9PkRu"
      },
      "execution_count": 87,
      "outputs": []
    },
    {
      "cell_type": "code",
      "source": [
        "Batchs = BatchSampler(ss,4)\n",
        "list(islice(Batchs,5))"
      ],
      "metadata": {
        "colab": {
          "base_uri": "https://localhost:8080/"
        },
        "id": "fT4DI2xcQzwH",
        "outputId": "a88152be-848e-4a12-e2fc-8e3360543f9b"
      },
      "execution_count": 88,
      "outputs": [
        {
          "output_type": "execute_result",
          "data": {
            "text/plain": [
              "[[5, 12806, 7476, 34288],\n",
              " [29000, 38648, 22753, 46725],\n",
              " [41548, 30198, 13740, 3858],\n",
              " [18314, 21319, 23893, 5725],\n",
              " [34062, 5082, 35019, 43694]]"
            ]
          },
          "metadata": {},
          "execution_count": 88
        }
      ]
    },
    {
      "cell_type": "code",
      "source": [
        "def collate(b):\n",
        "  xs,ys = zip(*b)\n",
        "  return torch.stack(xs),torch.stack(ys)"
      ],
      "metadata": {
        "id": "R61z0eeKRHeR"
      },
      "execution_count": 89,
      "outputs": []
    },
    {
      "cell_type": "code",
      "source": [
        "class DataLoader():\n",
        "  def __init__(self,ds, batchs, collate_fn=collate): fc.store_attr()\n",
        "  def __iter__(self): yield from (self.collate_fn(self.ds[i] for i in b) for b in self.batchs)"
      ],
      "metadata": {
        "id": "tPoDNexA1odS"
      },
      "execution_count": 90,
      "outputs": []
    },
    {
      "cell_type": "code",
      "source": [
        "train_samp = BatchSampler(Sampler(train_ds, shuffle=True),bs)\n",
        "valid_samp = BatchSampler(Sampler(valid_ds, shuffle=False),bs)"
      ],
      "metadata": {
        "id": "0NTqBfIv3B4A"
      },
      "execution_count": 91,
      "outputs": []
    },
    {
      "cell_type": "code",
      "source": [
        "train_dl = DataLoader(train_ds, batchs=train_samp)\n",
        "valid_dl = DataLoader(valid_ds, batchs=valid_samp)"
      ],
      "metadata": {
        "id": "GMkXTD0P7NZU"
      },
      "execution_count": 92,
      "outputs": []
    },
    {
      "cell_type": "code",
      "source": [
        "xb,yb = next(iter(valid_dl))\n",
        "plt.imshow(xb[0].view(28,28))\n",
        "yb[0]"
      ],
      "metadata": {
        "colab": {
          "base_uri": "https://localhost:8080/",
          "height": 467
        },
        "id": "k7r-UIB07wY6",
        "outputId": "db5f2fe0-6759-4887-c134-9ba50b46b2fc"
      },
      "execution_count": 93,
      "outputs": [
        {
          "output_type": "execute_result",
          "data": {
            "text/plain": [
              "tensor(3)"
            ]
          },
          "metadata": {},
          "execution_count": 93
        },
        {
          "output_type": "display_data",
          "data": {
            "text/plain": [
              "<Figure size 640x480 with 1 Axes>"
            ],
            "image/png": "[encoded data removed]"
          },
          "metadata": {}
        }
      ]
    },
    {
      "cell_type": "markdown",
      "source": [
        "## Multiprocessing Dataloader"
      ],
      "metadata": {
        "id": "DHZ0URa6v-72"
      }
    },
    {
      "cell_type": "code",
      "source": [
        "import torch.multiprocessing as mp\n",
        "from fastcore.basics import store_attr"
      ],
      "metadata": {
        "id": "-V-ISZX58L8s"
      },
      "execution_count": 94,
      "outputs": []
    },
    {
      "cell_type": "code",
      "source": [
        "train_ds[[3,6,8,1]]"
      ],
      "metadata": {
        "id": "x5JNrCyYwS_3",
        "outputId": "4e570b9c-45df-4b1a-aa3f-d56509429bb0",
        "colab": {
          "base_uri": "https://localhost:8080/"
        }
      },
      "execution_count": 95,
      "outputs": [
        {
          "output_type": "execute_result",
          "data": {
            "text/plain": [
              "(tensor([[0., 0., 0.,  ..., 0., 0., 0.],\n",
              "         [0., 0., 0.,  ..., 0., 0., 0.],\n",
              "         [0., 0., 0.,  ..., 0., 0., 0.],\n",
              "         [0., 0., 0.,  ..., 0., 0., 0.]]),\n",
              " tensor([1, 1, 1, 0]))"
            ]
          },
          "metadata": {},
          "execution_count": 95
        }
      ]
    },
    {
      "cell_type": "code",
      "source": [
        "train_ds.__getitem__([3,6,8,1])"
      ],
      "metadata": {
        "id": "RF2EzAm2wYYR",
        "outputId": "10ad9571-3947-4b16-eb40-c730c9a2539a",
        "colab": {
          "base_uri": "https://localhost:8080/"
        }
      },
      "execution_count": 96,
      "outputs": [
        {
          "output_type": "execute_result",
          "data": {
            "text/plain": [
              "(tensor([[0., 0., 0.,  ..., 0., 0., 0.],\n",
              "         [0., 0., 0.,  ..., 0., 0., 0.],\n",
              "         [0., 0., 0.,  ..., 0., 0., 0.],\n",
              "         [0., 0., 0.,  ..., 0., 0., 0.]]),\n",
              " tensor([1, 1, 1, 0]))"
            ]
          },
          "metadata": {},
          "execution_count": 96
        }
      ]
    },
    {
      "cell_type": "code",
      "source": [
        "for o in map(train_ds.__getitem__,([3,6],[8,1])): print(o)"
      ],
      "metadata": {
        "id": "wICZki73wfMc",
        "outputId": "3ce7120f-6cbb-46d0-9c8d-094c99c7e685",
        "colab": {
          "base_uri": "https://localhost:8080/"
        }
      },
      "execution_count": 97,
      "outputs": [
        {
          "output_type": "stream",
          "name": "stdout",
          "text": [
            "(tensor([[0., 0., 0.,  ..., 0., 0., 0.],\n",
            "        [0., 0., 0.,  ..., 0., 0., 0.]]), tensor([1, 1]))\n",
            "(tensor([[0., 0., 0.,  ..., 0., 0., 0.],\n",
            "        [0., 0., 0.,  ..., 0., 0., 0.]]), tensor([1, 0]))\n"
          ]
        }
      ]
    },
    {
      "cell_type": "code",
      "source": [
        "class DataLoader():\n",
        "  def __init__(self,ds,batchs, n_workers=1,collate_fn=collate): fc.store_attr()\n",
        "  def __iter__(self):\n",
        "    with mp.Pool(self.n_workers) as ex: yield from ex.map(self.ds.__getitem__,iter(self.batchs))"
      ],
      "metadata": {
        "id": "F_IzM1t9w35W"
      },
      "execution_count": 98,
      "outputs": []
    },
    {
      "cell_type": "code",
      "source": [
        "train_dl = DataLoader(train_ds,train_samp, n_workers=2)\n",
        "it = iter(train_dl)"
      ],
      "metadata": {
        "id": "MNAD1CgByJwQ"
      },
      "execution_count": 99,
      "outputs": []
    },
    {
      "cell_type": "code",
      "source": [
        "xb,yb = next(it)\n",
        "xb.shape, yb.shape"
      ],
      "metadata": {
        "id": "fG4il689ygnq",
        "outputId": "34d9eb85-f20a-4abf-c4b9-58e658dff43f",
        "colab": {
          "base_uri": "https://localhost:8080/"
        }
      },
      "execution_count": 100,
      "outputs": [
        {
          "output_type": "execute_result",
          "data": {
            "text/plain": [
              "(torch.Size([64, 784]), torch.Size([64]))"
            ]
          },
          "metadata": {},
          "execution_count": 100
        }
      ]
    },
    {
      "cell_type": "markdown",
      "source": [
        "### Pytorch DataLoader"
      ],
      "metadata": {
        "id": "Bdy_jNuw0ZPg"
      }
    },
    {
      "cell_type": "code",
      "source": [
        "from torch.utils.data import DataLoader, SequentialSampler, RandomSampler, BatchSampler"
      ],
      "metadata": {
        "id": "Tq8X1XqWyn6T"
      },
      "execution_count": 101,
      "outputs": []
    },
    {
      "cell_type": "code",
      "source": [
        "train_samp = BatchSampler(RandomSampler(train_ds),     bs, drop_last=False)\n",
        "valid_samp = BatchSampler(SequentialSampler(valid_ds), bs, drop_last=False)"
      ],
      "metadata": {
        "id": "A-I8apiZ0phi"
      },
      "execution_count": 102,
      "outputs": []
    },
    {
      "cell_type": "code",
      "source": [
        "train_dl = DataLoader(train_ds, batch_sampler=train_samp, collate_fn=collate)\n",
        "valid_dl = DataLoader(valid_ds, batch_sampler=valid_samp, collate_fn=collate)"
      ],
      "metadata": {
        "id": "Vk6Wlazy1Hc6"
      },
      "execution_count": 103,
      "outputs": []
    },
    {
      "cell_type": "code",
      "source": [
        "model,opt = get_model()\n",
        "fit()\n",
        "loss_func(model(xb),yb),accuracy(model(xb),yb)"
      ],
      "metadata": {
        "id": "1Xpasywb1sAO",
        "outputId": "3822164b-377c-4ddb-8416-a4d0c45fdc47",
        "colab": {
          "base_uri": "https://localhost:8080/"
        }
      },
      "execution_count": 104,
      "outputs": [
        {
          "output_type": "stream",
          "name": "stdout",
          "text": [
            "0.51, 0.81\n",
            "0.10, 0.94\n",
            "0.02, 1.00\n"
          ]
        },
        {
          "output_type": "execute_result",
          "data": {
            "text/plain": [
              "(tensor(0.07, grad_fn=<NllLossBackward0>), tensor(0.98))"
            ]
          },
          "metadata": {},
          "execution_count": 104
        }
      ]
    },
    {
      "cell_type": "markdown",
      "source": [
        "Pytorch can Autogenerate the BatchSampler for Us: instead of calling one by one we can do it in one."
      ],
      "metadata": {
        "id": "MkOiPyaG4Qdz"
      }
    },
    {
      "cell_type": "code",
      "source": [
        "train_dl = DataLoader(train_ds,bs, sampler=RandomSampler(train_ds), collate_fn=collate)\n",
        "valid_dl = DataLoader(valid_ds, bs, sampler=SequentialSampler(valid_ds), collate_fn=collate)"
      ],
      "metadata": {
        "id": "Y6lT3nQR17Et"
      },
      "execution_count": 105,
      "outputs": []
    },
    {
      "cell_type": "markdown",
      "source": [
        "pytorch can also Autogenerate SequentialSampler/RandomSampler"
      ],
      "metadata": {
        "id": "Kzye-AhM5LR0"
      }
    },
    {
      "cell_type": "code",
      "source": [
        "train_dl = DataLoader(train_ds, bs, shuffle=True, drop_last=True, num_workers=2)\n",
        "valid_dl = DataLoader(valid_ds, bs, shuffle=False, num_workers=2)"
      ],
      "metadata": {
        "id": "8MSa-1zj5Huo"
      },
      "execution_count": 108,
      "outputs": []
    },
    {
      "cell_type": "code",
      "source": [
        "model,opt = get_model()\n",
        "fit()\n",
        "loss_func(model(xb),yb), accuracy(model(xb),yb)"
      ],
      "metadata": {
        "id": "wdS2jNMK5tfg",
        "outputId": "0dfa95c1-cf3d-40d6-aa7b-e50657ed3b99",
        "colab": {
          "base_uri": "https://localhost:8080/"
        }
      },
      "execution_count": 109,
      "outputs": [
        {
          "output_type": "stream",
          "name": "stdout",
          "text": [
            "0.10, 0.97\n",
            "0.04, 0.98\n",
            "0.03, 0.98\n"
          ]
        },
        {
          "output_type": "execute_result",
          "data": {
            "text/plain": [
              "(tensor(0.05, grad_fn=<NllLossBackward0>), tensor(0.98))"
            ]
          },
          "metadata": {},
          "execution_count": 109
        }
      ]
    },
    {
      "cell_type": "code",
      "source": [],
      "metadata": {
        "id": "3jhu8M9O5-Rv"
      },
      "execution_count": null,
      "outputs": []
    }
  ],
  "metadata": {
    "language_info": {
      "name": "python"
    },
    "orig_nbformat": 4,
    "colab": {
      "provenance": [],
      "gpuType": "T4"
    },
    "kernelspec": {
      "name": "python3",
      "display_name": "Python 3"
    },
    "accelerator": "GPU"
  },
  "nbformat": 4,
  "nbformat_minor": 0
}