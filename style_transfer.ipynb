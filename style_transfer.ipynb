{
 "cells": [
  {
   "cell_type": "code",
   "execution_count": null,
   "id": "8879572d",
   "metadata": {},
   "outputs": [],
   "source": [
    "import pickle,gzip,math,os,time,shutil,torch,random,timm,torchvision,io,PIL\n",
    "import fastcore.all as fc,matplotlib as mpl,numpy as np,matplotlib.pyplot as plt\n",
    "from collections.abc import Mapping\n",
    "from pathlib import Path\n",
    "from operator import attrgetter,itemgetter\n",
    "from functools import partial\n",
    "from copy import copy\n",
    "from contextlib import contextmanager\n",
    "\n",
    "import torchvision.transforms.functional as TF,torch.nn.functional as F\n",
    "from torchvision import transforms\n",
    "from torch import tensor,nn,optim\n",
    "from torch.utils.data import DataLoader,default_collate\n",
    "from torch.nn import init\n",
    "from torch.optim import lr_scheduler\n",
    "from torcheval.metrics import MulticlassAccuracy\n",
    "from datasets import load_dataset,load_dataset_builder\n",
    "from fastcore.foundation import L, store_attr"
   ]
  },
  {
   "cell_type": "code",
   "execution_count": null,
   "id": "67b945f9",
   "metadata": {},
   "outputs": [],
   "source": [
    "from n_framework import*\n",
    "from activations_module import *"
   ]
  },
  {
   "cell_type": "code",
   "execution_count": null,
   "id": "ef46d7af",
   "metadata": {},
   "outputs": [],
   "source": [
    "# Image URLs for demos. Change as desired.\n",
    "face_url = \"https://images.pexels.com/photos/2690323/pexels-photo-2690323.jpeg?w=256\"\n",
    "spiderweb_url = \"https://images.pexels.com/photos/34225/spider-web-with-water-beads-network-dewdrop.jpg?w=256\"\n",
    "     "
   ]
  },
  {
   "cell_type": "code",
   "execution_count": null,
   "id": "aef22af9",
   "metadata": {},
   "outputs": [],
   "source": [
    "def download_image(url):\n",
    "    imgb = fc.urlread(url, decode=False)\n",
    "    return torchvision.io.decode_image(tensor(list(imgb), dtype=torch.uint8)).float()/255"
   ]
  },
  {
   "cell_type": "code",
   "execution_count": null,
   "id": "8e2fbe61",
   "metadata": {},
   "outputs": [],
   "source": [
    "content_img = download_image(face_url).to(def_device)\n",
    "print('content_imgae_shape:',content_img.shape)\n",
    "show_image(content_img);"
   ]
  },
  {
   "cell_type": "code",
   "execution_count": null,
   "id": "7d00aa49",
   "metadata": {},
   "outputs": [],
   "source": [
    "content_img.min(), content_img.max()"
   ]
  },
  {
   "cell_type": "markdown",
   "id": "46ab78b6",
   "metadata": {},
   "source": [
    "## optimizing an Image"
   ]
  },
  {
   "cell_type": "code",
   "execution_count": null,
   "id": "50dd8d0e",
   "metadata": {},
   "outputs": [],
   "source": [
    "class LenghtDataset():\n",
    "    def __init__(self, length=1): self.length = length\n",
    "    def __len__(self): return self.length\n",
    "    def __getitem__(self,idx): return 0,0\n",
    "    \n",
    "def getDummy_dls(length=100):\n",
    "    return DataLoaders(DataLoader(LenghtDataset(length), batch_size=1), # train\n",
    "                      DataLoader(LenghtDataset(1), batch_size=1)) # val,length=1"
   ]
  },
  {
   "cell_type": "code",
   "execution_count": null,
   "id": "448192ed",
   "metadata": {},
   "outputs": [],
   "source": [
    "# for batch in getDummy_dls(10).train:\n",
    "#     print(batch)"
   ]
  },
  {
   "cell_type": "code",
   "execution_count": null,
   "id": "a6776b38",
   "metadata": {},
   "outputs": [],
   "source": [
    "class TensorModel(nn.Module):\n",
    "    def __init__(self, t):\n",
    "        super().__init__()\n",
    "        self.t = nn.Parameter(t.clone())\n",
    "    def forward(self, x=0): return self.t"
   ]
  },
  {
   "cell_type": "code",
   "execution_count": null,
   "id": "7427e0ac",
   "metadata": {},
   "outputs": [],
   "source": [
    "class TensorModel2(nn.Module):\n",
    "    def __init__(self, t):\n",
    "        super().__init__()\n",
    "        self.t = nn.Parameter(t.clone())\n",
    "    def forward(self, x=0): return self.t\n",
    "     \n",
    "\n",
    "model = TensorModel2(torch.randn_like(content_img))\n",
    "show_image(model());\n",
    "     "
   ]
  },
  {
   "cell_type": "code",
   "execution_count": null,
   "id": "18e93bd7",
   "metadata": {},
   "outputs": [],
   "source": [
    "model = TensorModel(torch.randn_like(content_img))\n",
    "show_image(model());"
   ]
  },
  {
   "cell_type": "code",
   "execution_count": null,
   "id": "114933c8",
   "metadata": {},
   "outputs": [],
   "source": [
    "[p.shape for p in model.parameters()]"
   ]
  },
  {
   "cell_type": "code",
   "execution_count": null,
   "id": "14a55c1e",
   "metadata": {},
   "outputs": [],
   "source": [
    "class ImageOptCB(TrainCB):\n",
    "    def predict(self,learn): learn.preds = learn.model()\n",
    "    def get_loss(self,learn): learn.loss = learn.loss_func(learn.preds)"
   ]
  },
  {
   "cell_type": "code",
   "execution_count": null,
   "id": "37e6a3cb",
   "metadata": {},
   "outputs": [],
   "source": [
    "def loss_fn_mse(im):\n",
    "    return F.mse_loss(im, content_img)\n",
    "\n",
    "model = TensorModel(torch.rand_like(content_img))\n",
    "cbs = [ImageOptCB(), ProgressCB(), MetricsCB(),DeviceCB()]\n",
    "learn = Learner(model, getDummy_dls(100), loss_fn_mse,\n",
    "                lr= 1e-2, cbs=cbs, opt_func=torch.optim.Adam)\n",
    "learn.fit(1)"
   ]
  },
  {
   "cell_type": "code",
   "execution_count": null,
   "id": "7fb57cb8",
   "metadata": {},
   "outputs": [],
   "source": [
    "show_images([learn.model().clip(0,1), content_img]);"
   ]
  },
  {
   "cell_type": "markdown",
   "id": "dc4c84cb",
   "metadata": {},
   "source": [
    "###### lets view the progress"
   ]
  },
  {
   "cell_type": "code",
   "execution_count": null,
   "id": "102838f0",
   "metadata": {},
   "outputs": [],
   "source": [
    "class ImageLogCB(callback):\n",
    "    order = ProgressCB.order + 1\n",
    "    def __init__(self, log_every=10): store_attr();self.images=[]; self.i =0\n",
    "    def after_batch(self, learn):\n",
    "        if self.i%self.log_every ==0: self.images.append(to_cpu(learn.preds.clip(0,1)))\n",
    "        self.i += 1\n",
    "    def after_fit(self, learn): show_images(self.images)"
   ]
  },
  {
   "cell_type": "code",
   "execution_count": null,
   "id": "4e045a3d",
   "metadata": {},
   "outputs": [],
   "source": [
    "model = TensorModel(torch.rand_like(content_img))\n",
    "learn = Learner(model, getDummy_dls(150), loss_fn_mse, lr=1e-2, cbs = cbs, opt_func=torch.optim.Adam)\n",
    "learn.fit(1, cbs= [ImageLogCB(30)])"
   ]
  },
  {
   "cell_type": "code",
   "execution_count": null,
   "id": "450112bd",
   "metadata": {},
   "outputs": [],
   "source": []
  }
 ],
 "metadata": {
  "kernelspec": {
   "display_name": "python3",
   "language": "python",
   "name": "python3"
  }
 },
 "nbformat": 4,
 "nbformat_minor": 5
}
