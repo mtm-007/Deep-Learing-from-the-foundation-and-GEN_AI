{
 "cells": [
  {
   "cell_type": "code",
   "execution_count": null,
   "id": "b17d849e",
   "metadata": {},
   "outputs": [],
   "source": [
    "import shutil,timm,os,torch,random,datasets,math\n",
    "import fastcore.all as fc, numpy as np, matplotlib as mpl, matplotlib.pyplot as plt\n",
    "#import k_diffusion as K,\n",
    "import torchvision.transforms as T\n",
    "import torchvision.transforms.functional as TF,torch.nn.functional as F\n",
    "\n",
    "from torch.utils.data import DataLoader,default_collate\n",
    "from pathlib import Path\n",
    "from torch.nn import init\n",
    "from fastcore.foundation import L\n",
    "from torch import nn,tensor\n",
    "from operator import itemgetter\n",
    "from torcheval.metrics import MulticlassAccuracy\n",
    "from functools import partial\n",
    "from torch.optim import lr_scheduler\n",
    "from torch import optim\n",
    "from torchvision.io import read_image,ImageReadMode\n",
    "from glob import glob"
   ]
  },
  {
   "cell_type": "code",
   "execution_count": null,
   "id": "c5f5ed62",
   "metadata": {},
   "outputs": [],
   "source": [
    "from n_framework import*\n",
    "from activations_module import *\n",
    "from fastprogress import progress_bar"
   ]
  },
  {
   "cell_type": "code",
   "execution_count": null,
   "id": "2b0853d9",
   "metadata": {},
   "outputs": [],
   "source": [
    "torch.set_printoptions(precision=5, linewidth=140, sci_mode=False)\n",
    "torch.manual_seed(1)\n",
    "mpl.rcParams['figure.dpi'] = 70\n",
    "\n",
    "set_seed(42)\n"
   ]
  },
  {
   "cell_type": "code",
   "execution_count": null,
   "id": "39d95a6d",
   "metadata": {},
   "outputs": [],
   "source": [
    "path_data = Path('data')\n",
    "path_data.mkdir(exist_ok=True)\n",
    "path = path_data/'tiny-imagenet-200'\n",
    "\n",
    "url = 'http://cs231n.stanford.edu/tiny-imagenet-200.zip'\n",
    "\n",
    "if not path.exists():\n",
    "    path_zip = fc.urlsave(url, path_data)\n",
    "    shutil.unpack_archive('data/tiny-imagenet-200.zip', 'data')    "
   ]
  },
  {
   "cell_type": "code",
   "execution_count": null,
   "id": "d40d72f6",
   "metadata": {},
   "outputs": [],
   "source": [
    "bs = 512"
   ]
  },
  {
   "cell_type": "markdown",
   "id": "065287c1",
   "metadata": {},
   "source": [
    "## Preprocessing data"
   ]
  },
  {
   "cell_type": "code",
   "execution_count": null,
   "id": "f9ccec7e",
   "metadata": {},
   "outputs": [],
   "source": [
    "class Tiny_dataset:\n",
    "    def __init__(self, path):\n",
    "        self.path = Path(path)\n",
    "        self.files = glob(str(path/'**/*.JPEG'), recursive=True)\n",
    "    def __len__(self): return len(self.files)\n",
    "    def __getitem__(self, i ): return self.files[i], Path(self.files[i]).parent.parent.name\n",
    "    \n",
    "tds = Tiny_dataset(path/'train')"
   ]
  },
  {
   "cell_type": "code",
   "execution_count": null,
   "id": "a7692dcd",
   "metadata": {},
   "outputs": [
    {
     "data": {
      "text/plain": [
       "('data/tiny-imagenet-200/train/n02795169/images/n02795169_369.JPEG',\n",
       " 'n02795169')"
      ]
     },
     "execution_count": null,
     "metadata": {},
     "output_type": "execute_result"
    }
   ],
   "source": [
    "tds[0]"
   ]
  },
  {
   "cell_type": "code",
   "execution_count": null,
   "id": "ca0733c0",
   "metadata": {},
   "outputs": [],
   "source": [
    "print(path_anno.read_text())"
   ]
  },
  {
   "cell_type": "code",
   "execution_count": null,
   "id": "12aecbd8",
   "metadata": {},
   "outputs": [],
   "source": []
  }
 ],
 "metadata": {
  "kernelspec": {
   "display_name": "python3",
   "language": "python",
   "name": "python3"
  }
 },
 "nbformat": 4,
 "nbformat_minor": 5
}
