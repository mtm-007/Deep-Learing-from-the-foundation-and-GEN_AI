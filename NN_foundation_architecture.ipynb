{
  "cells": [
    {
      "cell_type": "code",
      "execution_count": 1,
      "metadata": {
        "id": "myN02kx8XLUJ"
      },
      "outputs": [],
      "source": [
        "import pickle,gzip,math,os,time,shutil,torch,matplotlib as mpl, numpy as np\n",
        "from pathlib import Path\n",
        "from torch import tensor\n",
        "from fastcore.test import test_close\n",
        "torch.manual_seed(42)\n",
        "\n",
        "mpl.rcParams['image.cmap'] = 'gray'\n",
        "torch.set_printoptions(precision=2, linewidth=125, sci_mode=False)\n",
        "np.set_printoptions(precision=2, linewidth=125)"
      ]
    },
    {
      "cell_type": "code",
      "source": [
        "MNIST_URL='https://github.com/mnielsen/neural-networks-and-deep-learning/blob/master/data/mnist.pkl.gz?raw=true'\n",
        "path_data = Path('data')\n",
        "path_data.mkdir(exist_ok=True)\n",
        "path_gz = path_data/'mnist.pkl.gz'"
      ],
      "metadata": {
        "id": "EkStZI7hXQ3V"
      },
      "execution_count": 2,
      "outputs": []
    },
    {
      "cell_type": "code",
      "source": [
        "from urllib.request import urlretrieve\n",
        "if not path_gz.exists(): urlretrieve(MNIST_URL, path_gz)"
      ],
      "metadata": {
        "id": "QSTXYxWUYb_Q"
      },
      "execution_count": 3,
      "outputs": []
    },
    {
      "cell_type": "code",
      "source": [],
      "metadata": {
        "id": "cYvRcT5YYQwT"
      },
      "execution_count": 3,
      "outputs": []
    },
    {
      "cell_type": "code",
      "source": [
        "path_data = Path('data')\n",
        "path_gz = path_data/'mnist.pkl.gz'\n",
        "with gzip.open(path_gz, 'rb') as f: ((x_train, y_train), (x_valid, y_valid), _) = pickle.load(f, encoding='latin-1')\n",
        "x_train, y_train, x_valid, y_valid = map(tensor, [x_train, y_train, x_valid, y_valid])\n",
        ""
      ],
      "metadata": {
        "id": "lFX2ELkCXniF"
      },
      "execution_count": 4,
      "outputs": []
    },
    {
      "cell_type": "code",
      "source": [
        "n,m = x_train.shape\n",
        "c = y_train.max()+1\n",
        "n,m,c"
      ],
      "metadata": {
        "colab": {
          "base_uri": "https://localhost:8080/"
        },
        "id": "jYC5bKPVYFHb",
        "outputId": "e7a985bb-2bd6-4fe1-b272-fea446e9a5e8"
      },
      "execution_count": 5,
      "outputs": [
        {
          "output_type": "execute_result",
          "data": {
            "text/plain": [
              "(50000, 784, tensor(10))"
            ]
          },
          "metadata": {},
          "execution_count": 5
        }
      ]
    },
    {
      "cell_type": "code",
      "source": [
        "# number of activation layers or hidden layers\n",
        "nh =50"
      ],
      "metadata": {
        "id": "s7WnYynRX8Dx"
      },
      "execution_count": 6,
      "outputs": []
    },
    {
      "cell_type": "code",
      "source": [
        "w1 = torch.randn(m,nh)\n",
        "b1 = torch.zeros(nh)\n",
        "w2 = torch.randn(nh,1)\n",
        "b2 = torch.zeros(1)"
      ],
      "metadata": {
        "id": "PCKUHUqlaB59"
      },
      "execution_count": 7,
      "outputs": []
    },
    {
      "cell_type": "code",
      "source": [
        "def lin(x,w,b): return x@w + b"
      ],
      "metadata": {
        "id": "m_jl2AWQb7Fk"
      },
      "execution_count": 8,
      "outputs": []
    },
    {
      "cell_type": "code",
      "source": [
        "x_valid.shape"
      ],
      "metadata": {
        "colab": {
          "base_uri": "https://localhost:8080/"
        },
        "id": "wiEeYstncFpU",
        "outputId": "e4ad2209-e588-47f5-a451-b49c7ba2b5e1"
      },
      "execution_count": 9,
      "outputs": [
        {
          "output_type": "execute_result",
          "data": {
            "text/plain": [
              "torch.Size([10000, 784])"
            ]
          },
          "metadata": {},
          "execution_count": 9
        }
      ]
    },
    {
      "cell_type": "code",
      "source": [
        "t = lin(x_valid,w1,b1)\n",
        "t.shape"
      ],
      "metadata": {
        "colab": {
          "base_uri": "https://localhost:8080/"
        },
        "id": "70pUlKhFcZYh",
        "outputId": "a6faba3d-2d85-493e-aacb-add40d973d2b"
      },
      "execution_count": 10,
      "outputs": [
        {
          "output_type": "execute_result",
          "data": {
            "text/plain": [
              "torch.Size([10000, 50])"
            ]
          },
          "metadata": {},
          "execution_count": 10
        }
      ]
    },
    {
      "cell_type": "code",
      "source": [
        "def relu(x): return x.clamp_min(0.)"
      ],
      "metadata": {
        "id": "OlJlZ9m2cggf"
      },
      "execution_count": 11,
      "outputs": []
    },
    {
      "cell_type": "code",
      "source": [
        "t =relu(t)\n",
        "t.shape"
      ],
      "metadata": {
        "colab": {
          "base_uri": "https://localhost:8080/"
        },
        "id": "wC4moubKcuUE",
        "outputId": "866adda0-38d5-41b9-91e1-239e8c743147"
      },
      "execution_count": 12,
      "outputs": [
        {
          "output_type": "execute_result",
          "data": {
            "text/plain": [
              "torch.Size([10000, 50])"
            ]
          },
          "metadata": {},
          "execution_count": 12
        }
      ]
    },
    {
      "cell_type": "code",
      "source": [
        "t"
      ],
      "metadata": {
        "colab": {
          "base_uri": "https://localhost:8080/"
        },
        "id": "31v24pePc0Ha",
        "outputId": "007adfc8-49d0-46aa-94aa-8d3d31a44bd3"
      },
      "execution_count": 13,
      "outputs": [
        {
          "output_type": "execute_result",
          "data": {
            "text/plain": [
              "tensor([[ 0.00, 11.87,  0.00,  ...,  5.48,  2.14, 15.30],\n",
              "        [ 5.38, 10.21,  0.00,  ...,  0.88,  0.08, 20.23],\n",
              "        [ 3.31,  0.12,  3.10,  ..., 16.89,  0.00, 24.74],\n",
              "        ...,\n",
              "        [ 4.01, 10.35,  0.00,  ...,  0.23,  0.00, 18.28],\n",
              "        [10.62,  0.00, 10.72,  ...,  0.00,  0.00, 18.23],\n",
              "        [ 2.84,  0.00,  1.43,  ...,  0.00,  5.75,  2.12]])"
            ]
          },
          "metadata": {},
          "execution_count": 13
        }
      ]
    },
    {
      "cell_type": "code",
      "source": [
        "def model_(xb):\n",
        "  l1 = lin(xb,w1,b1)\n",
        "  l2 = relu(l1)\n",
        "  return lin(l2,w2,b2)"
      ],
      "metadata": {
        "id": "J7CitSf0c3ch"
      },
      "execution_count": 14,
      "outputs": []
    },
    {
      "cell_type": "code",
      "source": [
        "res = model_(x_valid)\n",
        "res.shape"
      ],
      "metadata": {
        "colab": {
          "base_uri": "https://localhost:8080/"
        },
        "id": "p1EePPfxdffB",
        "outputId": "322d985c-9f47-49d0-d118-b5c6f3d42ee0"
      },
      "execution_count": 15,
      "outputs": [
        {
          "output_type": "execute_result",
          "data": {
            "text/plain": [
              "torch.Size([10000, 1])"
            ]
          },
          "metadata": {},
          "execution_count": 15
        }
      ]
    },
    {
      "cell_type": "markdown",
      "source": [
        "## LOSS Function\n",
        "Lets start with MSE to begin with then we return to a better Loss fucntion because MSE is not good with multiclass"
      ],
      "metadata": {
        "id": "espXAxs_dy6v"
      }
    },
    {
      "cell_type": "code",
      "source": [
        "res.shape,y_valid.shape"
      ],
      "metadata": {
        "colab": {
          "base_uri": "https://localhost:8080/"
        },
        "id": "995p-Dfwdkfz",
        "outputId": "fc3c4925-77a9-470c-9c9f-1d278790644d"
      },
      "execution_count": 16,
      "outputs": [
        {
          "output_type": "execute_result",
          "data": {
            "text/plain": [
              "(torch.Size([10000, 1]), torch.Size([10000]))"
            ]
          },
          "metadata": {},
          "execution_count": 16
        }
      ]
    },
    {
      "cell_type": "code",
      "source": [
        "y_valid[:,None].shape"
      ],
      "metadata": {
        "colab": {
          "base_uri": "https://localhost:8080/"
        },
        "id": "MEMj55ZvehxZ",
        "outputId": "e72478b4-2c31-4764-a08f-ea7cb91c7e38"
      },
      "execution_count": 17,
      "outputs": [
        {
          "output_type": "execute_result",
          "data": {
            "text/plain": [
              "torch.Size([10000, 1])"
            ]
          },
          "metadata": {},
          "execution_count": 17
        }
      ]
    },
    {
      "cell_type": "markdown",
      "source": [
        "Here broadcasting is applied. And it starts from Right to Left so first example here res has [10000,1] shape and y_valid has [10000] shape and per the Rules the res value(1) is multiplied with 10000.. right to left rule. But if we change y_valid shape to [10000,1] with y_valid[,:None] it will give us the right result.\n",
        "### alternatively\n",
        "### we can change the shape of res to just [10000] by removing the trailing unit vector. With res[:,0] or the sqeeze function res.sqeeze to remove the trailing unit dimentions as the example used below."
      ],
      "metadata": {
        "id": "8c5jrm8Ue1YY"
      }
    },
    {
      "cell_type": "code",
      "source": [
        "(res -y_valid).shape"
      ],
      "metadata": {
        "colab": {
          "base_uri": "https://localhost:8080/"
        },
        "id": "hxXwMPxwfD3V",
        "outputId": "c6ee0d22-78fb-4ced-cfba-fb10d31e4c40"
      },
      "execution_count": 18,
      "outputs": [
        {
          "output_type": "execute_result",
          "data": {
            "text/plain": [
              "torch.Size([10000, 10000])"
            ]
          },
          "metadata": {},
          "execution_count": 18
        }
      ]
    },
    {
      "cell_type": "code",
      "source": [
        "(res-y_valid[:,None]).shape"
      ],
      "metadata": {
        "colab": {
          "base_uri": "https://localhost:8080/"
        },
        "id": "I97wC3YrdwJo",
        "outputId": "05835530-239e-4a7a-8950-3c083b378783"
      },
      "execution_count": 19,
      "outputs": [
        {
          "output_type": "execute_result",
          "data": {
            "text/plain": [
              "torch.Size([10000, 1])"
            ]
          },
          "metadata": {},
          "execution_count": 19
        }
      ]
    },
    {
      "cell_type": "code",
      "source": [
        "res[:,0].shape"
      ],
      "metadata": {
        "colab": {
          "base_uri": "https://localhost:8080/"
        },
        "id": "Qi389VJCegso",
        "outputId": "1d6d9be2-34c1-4e4d-a689-1df09bd86f17"
      },
      "execution_count": 20,
      "outputs": [
        {
          "output_type": "execute_result",
          "data": {
            "text/plain": [
              "torch.Size([10000])"
            ]
          },
          "metadata": {},
          "execution_count": 20
        }
      ]
    },
    {
      "cell_type": "code",
      "source": [
        "q = res[None,:,None]\n",
        "q.shape"
      ],
      "metadata": {
        "colab": {
          "base_uri": "https://localhost:8080/"
        },
        "id": "OZGw4cungqYP",
        "outputId": "07363e5c-25ee-4e50-c0e9-9391a9e8bf5e"
      },
      "execution_count": 21,
      "outputs": [
        {
          "output_type": "execute_result",
          "data": {
            "text/plain": [
              "torch.Size([1, 10000, 1, 1])"
            ]
          },
          "metadata": {},
          "execution_count": 21
        }
      ]
    },
    {
      "cell_type": "code",
      "source": [
        "q.squeeze().shape"
      ],
      "metadata": {
        "colab": {
          "base_uri": "https://localhost:8080/"
        },
        "id": "HqULohdFg2qs",
        "outputId": "ea8072d1-a144-477d-eb4b-de0e7195e8b4"
      },
      "execution_count": 22,
      "outputs": [
        {
          "output_type": "execute_result",
          "data": {
            "text/plain": [
              "torch.Size([10000])"
            ]
          },
          "metadata": {},
          "execution_count": 22
        }
      ]
    },
    {
      "cell_type": "code",
      "source": [
        "res.squeeze().shape"
      ],
      "metadata": {
        "colab": {
          "base_uri": "https://localhost:8080/"
        },
        "id": "rbSZ-E7fgfXa",
        "outputId": "ac4dc9bc-0414-4a09-cae5-f79a193d5f69"
      },
      "execution_count": 23,
      "outputs": [
        {
          "output_type": "execute_result",
          "data": {
            "text/plain": [
              "torch.Size([10000])"
            ]
          },
          "metadata": {},
          "execution_count": 23
        }
      ]
    },
    {
      "cell_type": "code",
      "source": [
        "(res[:,0]-y_valid).shape"
      ],
      "metadata": {
        "colab": {
          "base_uri": "https://localhost:8080/"
        },
        "id": "iXlr-YPhglda",
        "outputId": "87b65791-93f3-4208-ab85-278b78c5016f"
      },
      "execution_count": 24,
      "outputs": [
        {
          "output_type": "execute_result",
          "data": {
            "text/plain": [
              "torch.Size([10000])"
            ]
          },
          "metadata": {},
          "execution_count": 24
        }
      ]
    },
    {
      "cell_type": "code",
      "source": [
        "y_train,y_valid = y_train.float(),y_valid.float()\n",
        "preds = model_(x_train)\n",
        "preds.shape"
      ],
      "metadata": {
        "colab": {
          "base_uri": "https://localhost:8080/"
        },
        "id": "V6YtW-Prih8D",
        "outputId": "66954526-b1fa-4fa6-c2ca-aeaa526f32a7"
      },
      "execution_count": 25,
      "outputs": [
        {
          "output_type": "execute_result",
          "data": {
            "text/plain": [
              "torch.Size([50000, 1])"
            ]
          },
          "metadata": {},
          "execution_count": 25
        }
      ]
    },
    {
      "cell_type": "code",
      "source": [
        "def mse(output, target): return (output[:,0]-target).pow(2).mean()"
      ],
      "metadata": {
        "id": "zbXTgU5ktlNM"
      },
      "execution_count": 26,
      "outputs": []
    },
    {
      "cell_type": "code",
      "source": [
        "mse(preds, y_train)"
      ],
      "metadata": {
        "id": "WtN5aFp2udzU",
        "outputId": "a4a3c5c5-7c0f-43f3-92f6-018f57c63dba",
        "colab": {
          "base_uri": "https://localhost:8080/"
        }
      },
      "execution_count": 27,
      "outputs": [
        {
          "output_type": "execute_result",
          "data": {
            "text/plain": [
              "tensor(4308.76)"
            ]
          },
          "metadata": {},
          "execution_count": 27
        }
      ]
    },
    {
      "cell_type": "markdown",
      "source": [
        "### Gradient and backward pass"
      ],
      "metadata": {
        "id": "68DDIXfbP8bI"
      }
    },
    {
      "cell_type": "markdown",
      "source": [
        "Here on our notebook we can use sympy library to show differential equation on our nb"
      ],
      "metadata": {
        "id": "JLFOLfdOQfSR"
      }
    },
    {
      "cell_type": "code",
      "source": [
        "from sympy import symbols, diff\n",
        "x,y  = symbols('x y')\n",
        "diff(x**2,x)"
      ],
      "metadata": {
        "id": "Uaqme5bCupVN",
        "outputId": "01a448a3-a8cd-4431-bf89-5681987d2356",
        "colab": {
          "base_uri": "https://localhost:8080/",
          "height": 58
        }
      },
      "execution_count": 28,
      "outputs": [
        {
          "output_type": "execute_result",
          "data": {
            "text/plain": [
              "2*x"
            ],
            "text/latex": "$\\displaystyle 2 x$"
          },
          "metadata": {},
          "execution_count": 28
        }
      ]
    },
    {
      "cell_type": "code",
      "source": [
        "diff(3*x**2+9,x)"
      ],
      "metadata": {
        "id": "kIA3C9F-QQEo",
        "outputId": "69d98b40-1920-46eb-ae65-ed6cab18a6d8",
        "colab": {
          "base_uri": "https://localhost:8080/",
          "height": 58
        }
      },
      "execution_count": 29,
      "outputs": [
        {
          "output_type": "execute_result",
          "data": {
            "text/plain": [
              "6*x"
            ],
            "text/latex": "$\\displaystyle 6 x$"
          },
          "metadata": {},
          "execution_count": 29
        }
      ]
    },
    {
      "cell_type": "markdown",
      "source": [
        "The python debugger (pdb) is quite helpful.\n",
        "we replaced w.g = (i * o).sum with just matrix multiplication (ofc transposed inp. after seeing\n",
        "the einsum [\"p torch.einsum('ij,ik->jk', inp, out.g)\"]\n",
        "with pdb debugger its quite the same if we use just matrix multi w.g = inp.T @ out.g"
      ],
      "metadata": {
        "id": "Hruh_zc9on8O"
      }
    },
    {
      "cell_type": "code",
      "source": [
        "def lin_grad(inp,out,w,b):\n",
        "  #grad matrix multip with respect to the input\n",
        "  inp.g = out.g@ w.t()\n",
        "  import pdb; pdb.set_trace()\n",
        "  #i,o = inp.unsqueeze(-1), out.g.unsqueeze(1)\n",
        "  #w.g = (i * o).sum(0)\n",
        "  w.g = inp.T @ out.g\n",
        "  b.g = out.g.sum(0)"
      ],
      "metadata": {
        "id": "t5ItKHJnQX6J"
      },
      "execution_count": 46,
      "outputs": []
    },
    {
      "cell_type": "code",
      "source": [
        "def forward_and_backward(inp,targ):\n",
        "  #forward pass:\n",
        "  l1 = lin(inp,w1,b1)\n",
        "  l2 = relu(l1)\n",
        "  out = lin(l2,w2,b2)\n",
        "  diff = out[:,0]- targ\n",
        "  loss = diff.pow(2).mean()\n",
        "\n",
        "  #backward pass:\n",
        "  out.g = 2.*diff[:,None] / inp.shape[0]\n",
        "  lin_grad(l2,out,w2,b2)\n",
        "  l1.g = (l1>0).float() * l2.g\n",
        "  lin_grad(inp,l1,w1,b1)\n"
      ],
      "metadata": {
        "id": "n0RFl7seasb3"
      },
      "execution_count": 47,
      "outputs": []
    },
    {
      "cell_type": "code",
      "source": [
        "forward_and_backward(x_train,y_train)"
      ],
      "metadata": {
        "id": "SgOEe4V-d97D",
        "outputId": "1c20b719-108b-4905-efa2-f5204a7ca972",
        "colab": {
          "base_uri": "https://localhost:8080/"
        }
      },
      "execution_count": null,
      "outputs": [
        {
          "output_type": "stream",
          "name": "stdout",
          "text": [
            "> \u001b[0;32m<ipython-input-46-3d29f7612c74>\u001b[0m(7)\u001b[0;36mlin_grad\u001b[0;34m()\u001b[0m\n",
            "\u001b[0;32m      4 \u001b[0;31m  \u001b[0;32mimport\u001b[0m \u001b[0mpdb\u001b[0m\u001b[0;34m;\u001b[0m \u001b[0mpdb\u001b[0m\u001b[0;34m.\u001b[0m\u001b[0mset_trace\u001b[0m\u001b[0;34m(\u001b[0m\u001b[0;34m)\u001b[0m\u001b[0;34m\u001b[0m\u001b[0;34m\u001b[0m\u001b[0m\n",
            "\u001b[0m\u001b[0;32m      5 \u001b[0;31m  \u001b[0;31m#i,o = inp.unsqueeze(-1), out.g.unsqueeze(1)\u001b[0m\u001b[0;34m\u001b[0m\u001b[0;34m\u001b[0m\u001b[0m\n",
            "\u001b[0m\u001b[0;32m      6 \u001b[0;31m  \u001b[0;31m#w.g = (i * o).sum(0)\u001b[0m\u001b[0;34m\u001b[0m\u001b[0;34m\u001b[0m\u001b[0m\n",
            "\u001b[0m\u001b[0;32m----> 7 \u001b[0;31m  \u001b[0mw\u001b[0m\u001b[0;34m.\u001b[0m\u001b[0mg\u001b[0m \u001b[0;34m=\u001b[0m \u001b[0minp\u001b[0m\u001b[0;34m.\u001b[0m\u001b[0mT\u001b[0m \u001b[0;34m@\u001b[0m \u001b[0mout\u001b[0m\u001b[0;34m.\u001b[0m\u001b[0mg\u001b[0m\u001b[0;34m\u001b[0m\u001b[0;34m\u001b[0m\u001b[0m\n",
            "\u001b[0m\u001b[0;32m      8 \u001b[0;31m  \u001b[0mb\u001b[0m\u001b[0;34m.\u001b[0m\u001b[0mg\u001b[0m \u001b[0;34m=\u001b[0m \u001b[0mout\u001b[0m\u001b[0;34m.\u001b[0m\u001b[0mg\u001b[0m\u001b[0;34m.\u001b[0m\u001b[0msum\u001b[0m\u001b[0;34m(\u001b[0m\u001b[0;36m0\u001b[0m\u001b[0;34m)\u001b[0m\u001b[0;34m\u001b[0m\u001b[0;34m\u001b[0m\u001b[0m\n",
            "\u001b[0m\n",
            "ipdb> p torch.einsum('ij,ik->jk', inp, out.g)\n",
            "tensor([[ -869.79],\n",
            "        [ -622.49],\n",
            "        [ -165.31],\n",
            "        [ -468.34],\n",
            "        [ -837.93],\n",
            "        [ -687.30],\n",
            "        [ -559.73],\n",
            "        [ -637.38],\n",
            "        [ -176.24],\n",
            "        [  -10.81],\n",
            "        [ -993.00],\n",
            "        [ -533.38],\n",
            "        [ -730.86],\n",
            "        [  -54.01],\n",
            "        [ -451.91],\n",
            "        [ -156.28],\n",
            "        [ -567.43],\n",
            "        [  -61.53],\n",
            "        [  -15.62],\n",
            "        [ -463.00],\n",
            "        [  -79.85],\n",
            "        [ -582.16],\n",
            "        [  -11.21],\n",
            "        [-1023.28],\n",
            "        [ -140.96],\n",
            "        [-1357.98],\n",
            "        [-1326.61],\n",
            "        [ -115.92],\n",
            "        [ -125.99],\n",
            "        [   -4.39],\n",
            "        [ -601.42],\n",
            "        [ -508.06],\n",
            "        [ -505.85],\n",
            "        [ -301.19],\n",
            "        [ -549.88],\n",
            "        [  -13.01],\n",
            "        [ -900.70],\n",
            "        [ -179.80],\n",
            "        [ -117.92],\n",
            "        [-1531.71],\n",
            "        [ -295.88],\n",
            "        [ -327.67],\n",
            "        [ -642.84],\n",
            "        [   -7.32],\n",
            "        [-1333.88],\n",
            "        [  -10.38],\n",
            "        [ -198.15],\n",
            "        [ -561.55],\n",
            "        [  -53.83],\n",
            "        [-1659.88]])\n"
          ]
        }
      ]
    },
    {
      "cell_type": "code",
      "source": [],
      "metadata": {
        "id": "p8hJwVJmoiN5"
      },
      "execution_count": null,
      "outputs": []
    }
  ],
  "metadata": {
    "language_info": {
      "name": "python"
    },
    "orig_nbformat": 4,
    "colab": {
      "provenance": []
    },
    "kernelspec": {
      "name": "python3",
      "display_name": "Python 3"
    }
  },
  "nbformat": 4,
  "nbformat_minor": 0
}