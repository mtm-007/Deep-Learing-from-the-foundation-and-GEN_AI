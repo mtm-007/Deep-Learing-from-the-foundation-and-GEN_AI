{
  "cells": [
    {
      "cell_type": "code",
      "execution_count": 1,
      "metadata": {
        "id": "myN02kx8XLUJ"
      },
      "outputs": [],
      "source": [
        "import pickle,gzip,math,os,time,shutil,torch,matplotlib as mpl, numpy as np\n",
        "from pathlib import Path\n",
        "from torch import tensor\n",
        "from fastcore.test import test_close\n",
        "torch.manual_seed(42)\n",
        "\n",
        "mpl.rcParams['image.cmap'] = 'gray'\n",
        "torch.set_printoptions(precision=2, linewidth=125, sci_mode=False)\n",
        "np.set_printoptions(precision=2, linewidth=125)"
      ]
    },
    {
      "cell_type": "code",
      "source": [
        "MNIST_URL='https://github.com/mnielsen/neural-networks-and-deep-learning/blob/master/data/mnist.pkl.gz?raw=true'\n",
        "path_data = Path('data')\n",
        "path_data.mkdir(exist_ok=True)\n",
        "path_gz = path_data/'mnist.pkl.gz'"
      ],
      "metadata": {
        "id": "EkStZI7hXQ3V"
      },
      "execution_count": 2,
      "outputs": []
    },
    {
      "cell_type": "code",
      "source": [
        "from urllib.request import urlretrieve\n",
        "if not path_gz.exists(): urlretrieve(MNIST_URL, path_gz)"
      ],
      "metadata": {
        "id": "QSTXYxWUYb_Q"
      },
      "execution_count": 3,
      "outputs": []
    },
    {
      "cell_type": "code",
      "source": [],
      "metadata": {
        "id": "cYvRcT5YYQwT"
      },
      "execution_count": 3,
      "outputs": []
    },
    {
      "cell_type": "code",
      "source": [
        "path_data = Path('data')\n",
        "path_gz = path_data/'mnist.pkl.gz'\n",
        "with gzip.open(path_gz, 'rb') as f: ((x_train, y_train), (x_valid, y_valid), _) = pickle.load(f, encoding='latin-1')\n",
        "x_train, y_train, x_valid, y_valid = map(tensor, [x_train, y_train, x_valid, y_valid])\n"
      ],
      "metadata": {
        "id": "lFX2ELkCXniF"
      },
      "execution_count": 4,
      "outputs": []
    },
    {
      "cell_type": "code",
      "source": [
        "n,m = x_train.shape\n",
        "c = y_train.max()+1\n",
        "n,m,c"
      ],
      "metadata": {
        "colab": {
          "base_uri": "https://localhost:8080/"
        },
        "id": "jYC5bKPVYFHb",
        "outputId": "de3eb517-ea21-4c5a-8702-63ac4a867ee7"
      },
      "execution_count": 5,
      "outputs": [
        {
          "output_type": "execute_result",
          "data": {
            "text/plain": [
              "(50000, 784, tensor(10))"
            ]
          },
          "metadata": {},
          "execution_count": 5
        }
      ]
    },
    {
      "cell_type": "code",
      "source": [
        "# number of activation layers or hidden layers\n",
        "nh =50"
      ],
      "metadata": {
        "id": "s7WnYynRX8Dx"
      },
      "execution_count": 6,
      "outputs": []
    },
    {
      "cell_type": "code",
      "source": [
        "w1 = torch.randn(m,nh)\n",
        "b1 = torch.zeros(nh)\n",
        "w2 = torch.randn(nh,1)\n",
        "b2 = torch.zeros(1)"
      ],
      "metadata": {
        "id": "PCKUHUqlaB59"
      },
      "execution_count": 7,
      "outputs": []
    },
    {
      "cell_type": "code",
      "source": [
        "def lin(x,w,b): return x@w + b"
      ],
      "metadata": {
        "id": "m_jl2AWQb7Fk"
      },
      "execution_count": 8,
      "outputs": []
    },
    {
      "cell_type": "code",
      "source": [
        "x_valid.shape"
      ],
      "metadata": {
        "colab": {
          "base_uri": "https://localhost:8080/"
        },
        "id": "wiEeYstncFpU",
        "outputId": "f7a03432-5b31-45a2-cd08-c23a44ab802b"
      },
      "execution_count": 9,
      "outputs": [
        {
          "output_type": "execute_result",
          "data": {
            "text/plain": [
              "torch.Size([10000, 784])"
            ]
          },
          "metadata": {},
          "execution_count": 9
        }
      ]
    },
    {
      "cell_type": "code",
      "source": [
        "t = lin(x_valid,w1,b1)\n",
        "t.shape"
      ],
      "metadata": {
        "colab": {
          "base_uri": "https://localhost:8080/"
        },
        "id": "70pUlKhFcZYh",
        "outputId": "e6e65ebe-2672-46e4-abc0-df4b94369adf"
      },
      "execution_count": 10,
      "outputs": [
        {
          "output_type": "execute_result",
          "data": {
            "text/plain": [
              "torch.Size([10000, 50])"
            ]
          },
          "metadata": {},
          "execution_count": 10
        }
      ]
    },
    {
      "cell_type": "code",
      "source": [
        "def relu(x): return x.clamp_min(0.)"
      ],
      "metadata": {
        "id": "OlJlZ9m2cggf"
      },
      "execution_count": 11,
      "outputs": []
    },
    {
      "cell_type": "code",
      "source": [
        "t =relu(t)\n",
        "t.shape"
      ],
      "metadata": {
        "colab": {
          "base_uri": "https://localhost:8080/"
        },
        "id": "wC4moubKcuUE",
        "outputId": "d3ea133d-3243-4da8-d9d7-82991d06d1b9"
      },
      "execution_count": 12,
      "outputs": [
        {
          "output_type": "execute_result",
          "data": {
            "text/plain": [
              "torch.Size([10000, 50])"
            ]
          },
          "metadata": {},
          "execution_count": 12
        }
      ]
    },
    {
      "cell_type": "code",
      "source": [
        "t"
      ],
      "metadata": {
        "colab": {
          "base_uri": "https://localhost:8080/"
        },
        "id": "31v24pePc0Ha",
        "outputId": "5d853433-bea9-4087-f646-ebfa79e8a270"
      },
      "execution_count": 13,
      "outputs": [
        {
          "output_type": "execute_result",
          "data": {
            "text/plain": [
              "tensor([[ 0.00, 11.87,  0.00,  ...,  5.48,  2.14, 15.30],\n",
              "        [ 5.38, 10.21,  0.00,  ...,  0.88,  0.08, 20.23],\n",
              "        [ 3.31,  0.12,  3.10,  ..., 16.89,  0.00, 24.74],\n",
              "        ...,\n",
              "        [ 4.01, 10.35,  0.00,  ...,  0.23,  0.00, 18.28],\n",
              "        [10.62,  0.00, 10.72,  ...,  0.00,  0.00, 18.23],\n",
              "        [ 2.84,  0.00,  1.43,  ...,  0.00,  5.75,  2.12]])"
            ]
          },
          "metadata": {},
          "execution_count": 13
        }
      ]
    },
    {
      "cell_type": "code",
      "source": [
        "def model_(xb):\n",
        "  l1 = lin(xb,w1,b1)\n",
        "  l2 = relu(l1)\n",
        "  return lin(l2,w2,b2)"
      ],
      "metadata": {
        "id": "J7CitSf0c3ch"
      },
      "execution_count": 14,
      "outputs": []
    },
    {
      "cell_type": "code",
      "source": [
        "res = model_(x_valid)\n",
        "res.shape"
      ],
      "metadata": {
        "colab": {
          "base_uri": "https://localhost:8080/"
        },
        "id": "p1EePPfxdffB",
        "outputId": "01b7b3e6-066a-470a-fee2-4df777ec3e62"
      },
      "execution_count": 15,
      "outputs": [
        {
          "output_type": "execute_result",
          "data": {
            "text/plain": [
              "torch.Size([10000, 1])"
            ]
          },
          "metadata": {},
          "execution_count": 15
        }
      ]
    },
    {
      "cell_type": "markdown",
      "source": [
        "## LOSS Function\n",
        "Lets start with MSE to begin with then we return to a better Loss fucntion because MSE is not good with multiclass"
      ],
      "metadata": {
        "id": "espXAxs_dy6v"
      }
    },
    {
      "cell_type": "code",
      "source": [
        "res.shape,y_valid.shape"
      ],
      "metadata": {
        "colab": {
          "base_uri": "https://localhost:8080/"
        },
        "id": "995p-Dfwdkfz",
        "outputId": "64d09d5e-bb80-4d3c-89aa-017c432bd24f"
      },
      "execution_count": 16,
      "outputs": [
        {
          "output_type": "execute_result",
          "data": {
            "text/plain": [
              "(torch.Size([10000, 1]), torch.Size([10000]))"
            ]
          },
          "metadata": {},
          "execution_count": 16
        }
      ]
    },
    {
      "cell_type": "code",
      "source": [
        "y_valid[:,None].shape"
      ],
      "metadata": {
        "colab": {
          "base_uri": "https://localhost:8080/"
        },
        "id": "MEMj55ZvehxZ",
        "outputId": "dff9672a-762d-4fda-c75e-0173370f2ba2"
      },
      "execution_count": 17,
      "outputs": [
        {
          "output_type": "execute_result",
          "data": {
            "text/plain": [
              "torch.Size([10000, 1])"
            ]
          },
          "metadata": {},
          "execution_count": 17
        }
      ]
    },
    {
      "cell_type": "markdown",
      "source": [
        "Here broadcasting is applied. And it starts from Right to Left so first example here res has [10000,1] shape and y_valid has [10000] shape and per the Rules the res value(1) is multiplied with 10000.. right to left rule. But if we change y_valid shape to [10000,1] with y_valid[,:None] it will give us the right result.\n",
        "### alternatively\n",
        "### we can change the shape of res to just [10000] by removing the trailing unit vector. With res[:,0] or the sqeeze function res.sqeeze to remove the trailing unit dimentions as the example used below."
      ],
      "metadata": {
        "id": "8c5jrm8Ue1YY"
      }
    },
    {
      "cell_type": "code",
      "source": [
        "(res -y_valid).shape"
      ],
      "metadata": {
        "colab": {
          "base_uri": "https://localhost:8080/"
        },
        "id": "hxXwMPxwfD3V",
        "outputId": "83743692-7418-42b9-c06b-4f13d428b134"
      },
      "execution_count": 18,
      "outputs": [
        {
          "output_type": "execute_result",
          "data": {
            "text/plain": [
              "torch.Size([10000, 10000])"
            ]
          },
          "metadata": {},
          "execution_count": 18
        }
      ]
    },
    {
      "cell_type": "code",
      "source": [
        "(res-y_valid[:,None]).shape"
      ],
      "metadata": {
        "colab": {
          "base_uri": "https://localhost:8080/"
        },
        "id": "I97wC3YrdwJo",
        "outputId": "a1a6283b-e6fc-49dd-fc98-68c2d364f0eb"
      },
      "execution_count": 19,
      "outputs": [
        {
          "output_type": "execute_result",
          "data": {
            "text/plain": [
              "torch.Size([10000, 1])"
            ]
          },
          "metadata": {},
          "execution_count": 19
        }
      ]
    },
    {
      "cell_type": "code",
      "source": [
        "res[:,0].shape"
      ],
      "metadata": {
        "colab": {
          "base_uri": "https://localhost:8080/"
        },
        "id": "Qi389VJCegso",
        "outputId": "3326b0df-5ea3-482f-adb9-848ea8768d61"
      },
      "execution_count": 20,
      "outputs": [
        {
          "output_type": "execute_result",
          "data": {
            "text/plain": [
              "torch.Size([10000])"
            ]
          },
          "metadata": {},
          "execution_count": 20
        }
      ]
    },
    {
      "cell_type": "code",
      "source": [
        "q = res[None,:,None]\n",
        "q.shape"
      ],
      "metadata": {
        "colab": {
          "base_uri": "https://localhost:8080/"
        },
        "id": "OZGw4cungqYP",
        "outputId": "0837cc98-27ea-4662-a3c7-258ead75d826"
      },
      "execution_count": 21,
      "outputs": [
        {
          "output_type": "execute_result",
          "data": {
            "text/plain": [
              "torch.Size([1, 10000, 1, 1])"
            ]
          },
          "metadata": {},
          "execution_count": 21
        }
      ]
    },
    {
      "cell_type": "code",
      "source": [
        "q.squeeze().shape"
      ],
      "metadata": {
        "colab": {
          "base_uri": "https://localhost:8080/"
        },
        "id": "HqULohdFg2qs",
        "outputId": "b872813b-d97e-422b-ebc9-4c0fb7239182"
      },
      "execution_count": 22,
      "outputs": [
        {
          "output_type": "execute_result",
          "data": {
            "text/plain": [
              "torch.Size([10000])"
            ]
          },
          "metadata": {},
          "execution_count": 22
        }
      ]
    },
    {
      "cell_type": "code",
      "source": [
        "res.squeeze().shape"
      ],
      "metadata": {
        "colab": {
          "base_uri": "https://localhost:8080/"
        },
        "id": "rbSZ-E7fgfXa",
        "outputId": "ee6aa166-9893-48d0-ba1e-d9df22ad0899"
      },
      "execution_count": 23,
      "outputs": [
        {
          "output_type": "execute_result",
          "data": {
            "text/plain": [
              "torch.Size([10000])"
            ]
          },
          "metadata": {},
          "execution_count": 23
        }
      ]
    },
    {
      "cell_type": "code",
      "source": [
        "(res[:,0]-y_valid).shape"
      ],
      "metadata": {
        "colab": {
          "base_uri": "https://localhost:8080/"
        },
        "id": "iXlr-YPhglda",
        "outputId": "80bfe60e-a8c3-41c0-adf0-b6196d1db6a3"
      },
      "execution_count": 24,
      "outputs": [
        {
          "output_type": "execute_result",
          "data": {
            "text/plain": [
              "torch.Size([10000])"
            ]
          },
          "metadata": {},
          "execution_count": 24
        }
      ]
    },
    {
      "cell_type": "code",
      "source": [
        "y_train,y_valid = y_train.float(),y_valid.float()\n",
        "preds = model_(x_train)\n",
        "preds.shape"
      ],
      "metadata": {
        "colab": {
          "base_uri": "https://localhost:8080/"
        },
        "id": "V6YtW-Prih8D",
        "outputId": "1246afe6-737e-4ace-c3e7-5462a8c2de90"
      },
      "execution_count": 25,
      "outputs": [
        {
          "output_type": "execute_result",
          "data": {
            "text/plain": [
              "torch.Size([50000, 1])"
            ]
          },
          "metadata": {},
          "execution_count": 25
        }
      ]
    },
    {
      "cell_type": "code",
      "source": [
        "def mse(output, target): return (output[:,0]-target).pow(2).mean()"
      ],
      "metadata": {
        "id": "zbXTgU5ktlNM"
      },
      "execution_count": 26,
      "outputs": []
    },
    {
      "cell_type": "code",
      "source": [
        "mse(preds, y_train)"
      ],
      "metadata": {
        "id": "WtN5aFp2udzU",
        "outputId": "4b80e86e-6644-42f4-ea27-91352ae2ed5f",
        "colab": {
          "base_uri": "https://localhost:8080/"
        }
      },
      "execution_count": 27,
      "outputs": [
        {
          "output_type": "execute_result",
          "data": {
            "text/plain": [
              "tensor(4308.76)"
            ]
          },
          "metadata": {},
          "execution_count": 27
        }
      ]
    },
    {
      "cell_type": "markdown",
      "source": [
        "### Gradient and backward pass"
      ],
      "metadata": {
        "id": "68DDIXfbP8bI"
      }
    },
    {
      "cell_type": "markdown",
      "source": [
        "Here on our notebook we can use sympy library to show differential equation on our nb"
      ],
      "metadata": {
        "id": "JLFOLfdOQfSR"
      }
    },
    {
      "cell_type": "code",
      "source": [
        "from sympy import symbols, diff\n",
        "x,y  = symbols('x y')\n",
        "diff(x**2,x)"
      ],
      "metadata": {
        "id": "Uaqme5bCupVN",
        "outputId": "9ccfdb70-8f35-4e36-b49a-ac05d1a8e67f",
        "colab": {
          "base_uri": "https://localhost:8080/",
          "height": 58
        }
      },
      "execution_count": 28,
      "outputs": [
        {
          "output_type": "execute_result",
          "data": {
            "text/plain": [
              "2*x"
            ],
            "text/latex": "$\\displaystyle 2 x$"
          },
          "metadata": {},
          "execution_count": 28
        }
      ]
    },
    {
      "cell_type": "code",
      "source": [
        "diff(3*x**2+9,x)"
      ],
      "metadata": {
        "id": "kIA3C9F-QQEo",
        "outputId": "aa5d2bfa-0d1b-4bf9-8a10-dc4d2413c317",
        "colab": {
          "base_uri": "https://localhost:8080/",
          "height": 58
        }
      },
      "execution_count": 29,
      "outputs": [
        {
          "output_type": "execute_result",
          "data": {
            "text/plain": [
              "6*x"
            ],
            "text/latex": "$\\displaystyle 6 x$"
          },
          "metadata": {},
          "execution_count": 29
        }
      ]
    },
    {
      "cell_type": "markdown",
      "source": [
        "The python debugger (pdb) is quite helpful.\n",
        "we replaced w.g = (i * o).sum with just matrix multiplication (ofc transposed inp. after seeing\n",
        "the einsum [\"p torch.einsum('ij,ik->jk', inp, out.g)\"]\n",
        "with pdb debugger its quite the same if we use just matrix multi w.g = inp.T @ out.g"
      ],
      "metadata": {
        "id": "Hruh_zc9on8O"
      }
    },
    {
      "cell_type": "code",
      "source": [
        "def lin_grad(inp,out,w,b):\n",
        "  #grad matrix multip with respect to the input\n",
        "  inp.g = out.g@ w.t()\n",
        "  #import pdb; pdb.set_trace()\n",
        "  #i,o = inp.unsqueeze(-1), out.g.unsqueeze(1)\n",
        "  #w.g = (i * o).sum(0)\n",
        "  w.g = inp.T @ out.g\n",
        "  b.g = out.g.sum(0)"
      ],
      "metadata": {
        "id": "t5ItKHJnQX6J"
      },
      "execution_count": 30,
      "outputs": []
    },
    {
      "cell_type": "code",
      "source": [
        "def forward_and_backward(inp,targ):\n",
        "  #forward pass:\n",
        "  l1 = lin(inp,w1,b1)\n",
        "  l2 = relu(l1)\n",
        "  out = lin(l2,w2,b2)\n",
        "  diff = out[:,0]- targ\n",
        "  loss = diff.pow(2).mean()\n",
        "\n",
        "  #backward pass:\n",
        "  out.g = 2.*diff[:,None] / inp.shape[0]\n",
        "  lin_grad(l2,out,w2,b2)\n",
        "  l1.g = (l1>0).float() * l2.g\n",
        "  lin_grad(inp,l1,w1,b1)\n"
      ],
      "metadata": {
        "id": "n0RFl7seasb3"
      },
      "execution_count": 31,
      "outputs": []
    },
    {
      "cell_type": "code",
      "source": [
        "forward_and_backward(x_train,y_train)"
      ],
      "metadata": {
        "id": "SgOEe4V-d97D"
      },
      "execution_count": 32,
      "outputs": []
    },
    {
      "cell_type": "markdown",
      "source": [
        "## Refactor Model\n",
        "#### Layers as Classes"
      ],
      "metadata": {
        "id": "8W8xXJzWl5wF"
      }
    },
    {
      "cell_type": "code",
      "source": [
        "class Relu():\n",
        "  def __call__(self,inp):\n",
        "    self.inp = inp\n",
        "    self.out = inp.clamp_min(0.)\n",
        "    return self.out\n",
        "\n",
        "  def backward(self): self.inp.g = (self.inp>0.).float() * self.out.g"
      ],
      "metadata": {
        "id": "7IaDd8tqmVUu"
      },
      "execution_count": 48,
      "outputs": []
    },
    {
      "cell_type": "code",
      "source": [
        "class Lin():\n",
        "  def __init__(self,w,b): self.w,self.b = w,b\n",
        "\n",
        "  def __call__(self,inp):\n",
        "    self.inp = inp\n",
        "    self.out = lin(inp,self.w,self.b)\n",
        "    return self.out\n",
        "\n",
        "  def backward(self):\n",
        "    self.inp.g = self.out.g @ self.w.t()\n",
        "    self.w.g = self.inp.t() @ self.out.g\n",
        "    self.b.g = (self.out.g).sum(0)"
      ],
      "metadata": {
        "id": "Wc4QnTfYtZ0s"
      },
      "execution_count": 49,
      "outputs": []
    },
    {
      "cell_type": "code",
      "source": [
        "class Mse():\n",
        "  def __call__(self,inp,targ):\n",
        "    self.inp,self.targ =inp,targ\n",
        "    self.out = mse(inp,targ)\n",
        "    return self.out\n",
        "\n",
        "  def backward(self): self.inp.g = 2. * (self.inp.squeeze() - self.targ).unsqueeze(-1) / self.targ.shape[0]"
      ],
      "metadata": {
        "id": "59xRmuPnyZEQ"
      },
      "execution_count": 50,
      "outputs": []
    },
    {
      "cell_type": "code",
      "source": [
        "class Model():\n",
        "  def __init__(self,w1,b1,w2,b2):\n",
        "    self.layers = [Lin(w1,b1), Relu(), Lin(w2,b2)]\n",
        "    self.loss = Mse()\n",
        "\n",
        "  def __call__(self,x,targ):\n",
        "    for I in self.layers: x = I(x)\n",
        "    return self.loss(x,targ)\n",
        "\n",
        "  def backward(self):\n",
        "    self.loss.backward()\n",
        "    for I in reversed(self.layers): I.backward()\n"
      ],
      "metadata": {
        "id": "SEIAl3I90Mtf"
      },
      "execution_count": 51,
      "outputs": []
    },
    {
      "cell_type": "code",
      "source": [
        "model = Model(w1,b1,w2,b2)"
      ],
      "metadata": {
        "id": "CWw9gY6c3_8K"
      },
      "execution_count": 52,
      "outputs": []
    },
    {
      "cell_type": "code",
      "source": [],
      "metadata": {
        "id": "HQMtR2sq4Nv4"
      },
      "execution_count": null,
      "outputs": []
    }
  ],
  "metadata": {
    "language_info": {
      "name": "python"
    },
    "orig_nbformat": 4,
    "colab": {
      "provenance": []
    },
    "kernelspec": {
      "name": "python3",
      "display_name": "Python 3"
    }
  },
  "nbformat": 4,
  "nbformat_minor": 0
}